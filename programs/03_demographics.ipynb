{
 "cells": [
  {
   "cell_type": "code",
   "execution_count": 1,
   "metadata": {
    "collapsed": false
   },
   "outputs": [],
   "source": [
    "import numpy as np\n",
    "import pandas as pd\n",
    "import geopandas as gp\n",
    "import subprocess\n",
    "import os\n",
    "from osgeo import ogr\n",
    "\n",
    "# make sure we are at the top of the repo\n",
    "wd = subprocess.check_output('git rev-parse --show-toplevel', shell = True)\n",
    "os.chdir(wd[:-1]) #-1 removes \\n"
   ]
  },
  {
   "cell_type": "code",
   "execution_count": 2,
   "metadata": {
    "collapsed": false
   },
   "outputs": [],
   "source": [
    "# load datafrom geodatabase\n",
    "driver = ogr.GetDriverByName(\"OpenFileGDB\")\n",
    "ds = driver.Open(r\"./data/2011_ACS_5YR_BG_36_NEW_YORK.gdb/\", 0)\n",
    "\n",
    "layer = ds.GetLayer(\"ACS_11_5YR_BG_36_NEW_YORK\")"
   ]
  },
  {
   "cell_type": "code",
   "execution_count": 3,
   "metadata": {
    "collapsed": false
   },
   "outputs": [],
   "source": [
    "# bring into dataframe\n",
    "# http://www2.census.gov/geo/docs/maps-data/data/tiger/prejoined/ACSMetadata2011.txt\n",
    "\n",
    "demolist = [[feature.GetField('GEOID'), # geoid\n",
    "             feature.GetField('B01001e1'), # total_population\n",
    "             feature.GetField('B08301e18'), # MEANS OF TRANSPORTATION TO WORK:  Bicycle \n",
    "             feature.GetField('B08303e1'), # travel time to work\n",
    "             feature.GetField('B19301e1'), # per capita income\n",
    "             feature.GetField('B25044e10'), # TENURE BY VEHICLES AVAILABLE: Renter occupied:  No vehicle available\n",
    "             feature.GetField('B25044e3') # TENURE BY VEHICLES AVAILABLE: Owner occupied:  No vehicle available\n",
    "            ] for feature in layer ]\n",
    "demo = pd.DataFrame(demolist)\n",
    "demo.columns = ['geoid',\n",
    "                'pop',\n",
    "                'bike',\n",
    "                'commute_time',\n",
    "                'income_pc',\n",
    "                'no_vehicle_rent',\n",
    "                'no_vehicle_own']"
   ]
  },
  {
   "cell_type": "code",
   "execution_count": 6,
   "metadata": {
    "collapsed": false
   },
   "outputs": [
    {
     "data": {
      "text/html": [
       "<div>\n",
       "<table border=\"1\" class=\"dataframe\">\n",
       "  <thead>\n",
       "    <tr style=\"text-align: right;\">\n",
       "      <th></th>\n",
       "      <th>geoid</th>\n",
       "      <th>pop</th>\n",
       "      <th>bike</th>\n",
       "      <th>commute_time</th>\n",
       "      <th>income_pc</th>\n",
       "      <th>no_vehicle_rent</th>\n",
       "      <th>no_vehicle_own</th>\n",
       "    </tr>\n",
       "  </thead>\n",
       "  <tbody>\n",
       "    <tr>\n",
       "      <th>15458</th>\n",
       "      <td>361031580015</td>\n",
       "      <td>870</td>\n",
       "      <td>0</td>\n",
       "      <td>283</td>\n",
       "      <td>61247.0</td>\n",
       "      <td>0</td>\n",
       "      <td>0</td>\n",
       "    </tr>\n",
       "    <tr>\n",
       "      <th>15459</th>\n",
       "      <td>361031580014</td>\n",
       "      <td>1032</td>\n",
       "      <td>0</td>\n",
       "      <td>440</td>\n",
       "      <td>87224.0</td>\n",
       "      <td>0</td>\n",
       "      <td>0</td>\n",
       "    </tr>\n",
       "    <tr>\n",
       "      <th>15460</th>\n",
       "      <td>361031595092</td>\n",
       "      <td>950</td>\n",
       "      <td>0</td>\n",
       "      <td>409</td>\n",
       "      <td>23308.0</td>\n",
       "      <td>38</td>\n",
       "      <td>14</td>\n",
       "    </tr>\n",
       "    <tr>\n",
       "      <th>15461</th>\n",
       "      <td>361031595062</td>\n",
       "      <td>3113</td>\n",
       "      <td>0</td>\n",
       "      <td>1359</td>\n",
       "      <td>23982.0</td>\n",
       "      <td>8</td>\n",
       "      <td>35</td>\n",
       "    </tr>\n",
       "    <tr>\n",
       "      <th>15462</th>\n",
       "      <td>361031595102</td>\n",
       "      <td>31</td>\n",
       "      <td>0</td>\n",
       "      <td>0</td>\n",
       "      <td>51061.0</td>\n",
       "      <td>0</td>\n",
       "      <td>0</td>\n",
       "    </tr>\n",
       "  </tbody>\n",
       "</table>\n",
       "</div>"
      ],
      "text/plain": [
       "              geoid   pop  bike  commute_time  income_pc  no_vehicle_rent  \\\n",
       "15458  361031580015   870     0           283    61247.0                0   \n",
       "15459  361031580014  1032     0           440    87224.0                0   \n",
       "15460  361031595092   950     0           409    23308.0               38   \n",
       "15461  361031595062  3113     0          1359    23982.0                8   \n",
       "15462  361031595102    31     0             0    51061.0                0   \n",
       "\n",
       "       no_vehicle_own  \n",
       "15458               0  \n",
       "15459               0  \n",
       "15460              14  \n",
       "15461              35  \n",
       "15462               0  "
      ]
     },
     "execution_count": 6,
     "metadata": {},
     "output_type": "execute_result"
    }
   ],
   "source": [
    "demo.tail()"
   ]
  },
  {
   "cell_type": "code",
   "execution_count": 4,
   "metadata": {
    "collapsed": false
   },
   "outputs": [],
   "source": [
    "# write to csv\n",
    "demo.to_csv('data/demo.csv', index = False)"
   ]
  }
 ],
 "metadata": {
  "kernelspec": {
   "display_name": "PUI2016_Python2",
   "language": "python",
   "name": "pui2016_python2"
  },
  "language_info": {
   "codemirror_mode": {
    "name": "ipython",
    "version": 2
   },
   "file_extension": ".py",
   "mimetype": "text/x-python",
   "name": "python",
   "nbconvert_exporter": "python",
   "pygments_lexer": "ipython2",
   "version": "2.7.12"
  }
 },
 "nbformat": 4,
 "nbformat_minor": 0
}
