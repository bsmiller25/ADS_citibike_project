{
 "cells": [
  {
   "cell_type": "code",
   "execution_count": 1,
   "metadata": {
    "collapsed": false
   },
   "outputs": [],
   "source": [
    "import numpy as np\n",
    "import pandas as pd\n",
    "import geopandas as gp\n",
    "import os\n",
    "import subprocess\n",
    "import shapely as shp\n",
    "\n",
    "# make sure we are at the top of the repo\n",
    "wd = subprocess.check_output('git rev-parse --show-toplevel', shell = True)\n",
    "os.chdir(wd[:-1]) #-1 removes \\n"
   ]
  },
  {
   "cell_type": "code",
   "execution_count": 2,
   "metadata": {
    "collapsed": true
   },
   "outputs": [],
   "source": [
    "# read in LEHD OD data\n",
    "lehd = pd.read_csv('data/lehd_od_2014.csv',\n",
    " dtype = {'w_geocode':'string',\n",
    "          'h_geocode':'string'})\n",
    "\n",
    "# keep only what we need\n",
    "lehd = lehd[['w_geocode','h_geocode']]"
   ]
  },
  {
   "cell_type": "code",
   "execution_count": 3,
   "metadata": {
    "collapsed": false
   },
   "outputs": [
    {
     "name": "stderr",
     "output_type": "stream",
     "text": [
      "/opt/rh/anaconda/root/envs/PUI2016_Python2/lib/python2.7/site-packages/ipykernel/__main__.py:11: SettingWithCopyWarning: \n",
      "A value is trying to be set on a copy of a slice from a DataFrame.\n",
      "Try using .loc[row_indexer,col_indexer] = value instead\n",
      "\n",
      "See the caveats in the documentation: http://pandas.pydata.org/pandas-docs/stable/indexing.html#indexing-view-versus-copy\n"
     ]
    }
   ],
   "source": [
    "# read in nyc census block shapefiles\n",
    "nycshp = gp.read_file('data/nycb2010_16c/nycb2010.shp')\n",
    "\n",
    "# set up cooridnate system\n",
    "nycshp = nycshp.to_crs(epsg=4326) # epsg=4326: lat/on | 26918: NAD83/UTM zone 18N | epsg=2263 is US feet\n",
    "\n",
    "# we only need manhattan \n",
    "manshp = nycshp[nycshp.BoroName == 'Manhattan']\n",
    "\n",
    "# add state code 36 and leading digits for county code 06\n",
    "manshp['BCTCB2010'] = '3606' + manshp['BCTCB2010']\n",
    "\n",
    "# keep only what we need\n",
    "manshp = manshp[['BCTCB2010','geometry']]"
   ]
  },
  {
   "cell_type": "code",
   "execution_count": 4,
   "metadata": {
    "collapsed": false
   },
   "outputs": [],
   "source": [
    "# keep only LEHD with work and home both in manhattan\n",
    "lehd = lehd[np.in1d(lehd.h_geocode, manshp.BCTCB2010) & np.in1d(lehd.w_geocode, manshp.BCTCB2010)]\n",
    "lehd.index = range(len(lehd))"
   ]
  },
  {
   "cell_type": "code",
   "execution_count": 5,
   "metadata": {
    "collapsed": false
   },
   "outputs": [],
   "source": [
    "# find the distance between work and home\n",
    "work = lehd.merge(manshp, how = 'left', left_on = 'w_geocode', right_on = 'BCTCB2010')\n",
    "work = gp.GeoDataFrame(work, crs = manshp.crs, geometry = 'geometry')\n",
    "home = lehd.merge(manshp, how = 'left', left_on = 'h_geocode', right_on = 'BCTCB2010')\n",
    "home = gp.GeoDataFrame(home, crs = manshp.crs, geometry = 'geometry')\n",
    "\n",
    "lehd['distance'] = work.distance(home)"
   ]
  },
  {
   "cell_type": "code",
   "execution_count": 6,
   "metadata": {
    "collapsed": false
   },
   "outputs": [],
   "source": [
    "# aggregate LEHD data to home geocode level\n",
    "lehd = lehd.groupby('h_geocode').agg('mean')"
   ]
  },
  {
   "cell_type": "code",
   "execution_count": 7,
   "metadata": {
    "collapsed": false
   },
   "outputs": [],
   "source": [
    "# create and write a shapefile with census block and average commute distance\n",
    "cb_dist = manshp.merge(lehd, left_on = 'BCTCB2010', right_index = True)\n",
    "cb_dist.columns = ['cb','geometry','commute_dist_avg']\n",
    "\n",
    "if not os.path.exists('data/cb_dist/'):\n",
    "    os.makedirs('data/cb_dist/')\n",
    "    \n",
    "cb_dist.to_file('data/cb_dist/cb_dist.shp')"
   ]
  }
 ],
 "metadata": {
  "kernelspec": {
   "display_name": "PUI2016_Python2",
   "language": "python",
   "name": "pui2016_python2"
  },
  "language_info": {
   "codemirror_mode": {
    "name": "ipython",
    "version": 2
   },
   "file_extension": ".py",
   "mimetype": "text/x-python",
   "name": "python",
   "nbconvert_exporter": "python",
   "pygments_lexer": "ipython2",
   "version": "2.7.12"
  }
 },
 "nbformat": 4,
 "nbformat_minor": 0
}
