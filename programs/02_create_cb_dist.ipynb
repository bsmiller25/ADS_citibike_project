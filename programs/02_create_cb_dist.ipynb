{
 "cells": [
  {
   "cell_type": "code",
   "execution_count": 57,
   "metadata": {
    "collapsed": false
   },
   "outputs": [],
   "source": [
    "import numpy as np\n",
    "import pandas as pd\n",
    "import geopandas as gp\n",
    "import os\n",
    "import subprocess\n",
    "import shapely as shp\n",
    "\n",
    "# make sure we are at the top of the repo\n",
    "wd = subprocess.check_output('git rev-parse --show-toplevel', shell = True)\n",
    "os.chdir(wd[:-1]) #-1 removes \\n"
   ]
  },
  {
   "cell_type": "code",
   "execution_count": 58,
   "metadata": {
    "collapsed": false
   },
   "outputs": [],
   "source": [
    "# read in LEHD OD data\n",
    "lehd = pd.read_csv('data/lehd_od_2014.csv',\n",
    " dtype = {'w_geocode':'string',\n",
    "          'h_geocode':'string'})\n",
    "\n",
    "# keep only what we need\n",
    "lehd = lehd[['w_geocode','h_geocode','S000']]\n",
    "lehd.columns = ['w_geocode','h_geocode','people']"
   ]
  },
  {
   "cell_type": "code",
   "execution_count": 59,
   "metadata": {
    "collapsed": false
   },
   "outputs": [
    {
     "name": "stderr",
     "output_type": "stream",
     "text": [
      "/opt/rh/anaconda/root/envs/PUI2016_Python2/lib/python2.7/site-packages/ipykernel/__main__.py:9: SettingWithCopyWarning: \n",
      "A value is trying to be set on a copy of a slice from a DataFrame\n",
      "\n",
      "See the caveats in the documentation: http://pandas.pydata.org/pandas-docs/stable/indexing.html#indexing-view-versus-copy\n",
      "/opt/rh/anaconda/root/envs/PUI2016_Python2/lib/python2.7/site-packages/ipykernel/__main__.py:10: SettingWithCopyWarning: \n",
      "A value is trying to be set on a copy of a slice from a DataFrame\n",
      "\n",
      "See the caveats in the documentation: http://pandas.pydata.org/pandas-docs/stable/indexing.html#indexing-view-versus-copy\n",
      "/opt/rh/anaconda/root/envs/PUI2016_Python2/lib/python2.7/site-packages/ipykernel/__main__.py:11: SettingWithCopyWarning: \n",
      "A value is trying to be set on a copy of a slice from a DataFrame\n",
      "\n",
      "See the caveats in the documentation: http://pandas.pydata.org/pandas-docs/stable/indexing.html#indexing-view-versus-copy\n",
      "/opt/rh/anaconda/root/envs/PUI2016_Python2/lib/python2.7/site-packages/ipykernel/__main__.py:12: SettingWithCopyWarning: \n",
      "A value is trying to be set on a copy of a slice from a DataFrame\n",
      "\n",
      "See the caveats in the documentation: http://pandas.pydata.org/pandas-docs/stable/indexing.html#indexing-view-versus-copy\n",
      "/opt/rh/anaconda/root/envs/PUI2016_Python2/lib/python2.7/site-packages/ipykernel/__main__.py:13: SettingWithCopyWarning: \n",
      "A value is trying to be set on a copy of a slice from a DataFrame\n",
      "\n",
      "See the caveats in the documentation: http://pandas.pydata.org/pandas-docs/stable/indexing.html#indexing-view-versus-copy\n"
     ]
    }
   ],
   "source": [
    "# read in nyc census block shapefiles\n",
    "nycshp = gp.read_file('data/nycb2010_16c/nycb2010.shp')\n",
    "\n",
    "# set up cooridnate system\n",
    "nycshp = nycshp.to_crs(epsg=2263) # epsg=4326: lat/on | 26918: NAD83/UTM zone 18N | epsg=2263 is US feet\n",
    "\n",
    "# add state code 36 and leading digits for county code\n",
    "nycshp['BCTCB2010'] = [i[1:] for i in nycshp['BCTCB2010']]\n",
    "nycshp.BCTCB2010[nycshp.BoroName == 'Staten Island'] = '36085' + nycshp.BCTCB2010[nycshp.BoroName == 'Staten Island']\n",
    "nycshp.BCTCB2010[nycshp.BoroName == 'Manhattan'] = '36061' + nycshp.BCTCB2010[nycshp.BoroName == 'Manhattan']\n",
    "nycshp.BCTCB2010[nycshp.BoroName == 'Queens'] = '36081' + nycshp.BCTCB2010[nycshp.BoroName == 'Queens']\n",
    "nycshp.BCTCB2010[nycshp.BoroName == 'Brooklyn'] = '36047' + nycshp.BCTCB2010[nycshp.BoroName == 'Brooklyn']\n",
    "nycshp.BCTCB2010[nycshp.BoroName == 'Bronx'] = '36005' + nycshp.BCTCB2010[nycshp.BoroName == 'Bronx']\n",
    "\n",
    "# we only need manhattan \n",
    "manshp = nycshp[nycshp.BoroName == 'Manhattan']\n",
    "\n",
    "# keep only what we need\n",
    "manshp = manshp[['BCTCB2010','geometry']]"
   ]
  },
  {
   "cell_type": "code",
   "execution_count": 60,
   "metadata": {
    "collapsed": false
   },
   "outputs": [
    {
     "data": {
      "text/html": [
       "<div>\n",
       "<table border=\"1\" class=\"dataframe\">\n",
       "  <thead>\n",
       "    <tr style=\"text-align: right;\">\n",
       "      <th></th>\n",
       "      <th>w_geocode</th>\n",
       "      <th>h_geocode</th>\n",
       "      <th>people</th>\n",
       "    </tr>\n",
       "  </thead>\n",
       "  <tbody>\n",
       "    <tr>\n",
       "      <th>0</th>\n",
       "      <td>360050002001002</td>\n",
       "      <td>360050002003011</td>\n",
       "      <td>1</td>\n",
       "    </tr>\n",
       "    <tr>\n",
       "      <th>1</th>\n",
       "      <td>360050002001002</td>\n",
       "      <td>360050090003000</td>\n",
       "      <td>1</td>\n",
       "    </tr>\n",
       "    <tr>\n",
       "      <th>2</th>\n",
       "      <td>360050002001002</td>\n",
       "      <td>360050090004000</td>\n",
       "      <td>1</td>\n",
       "    </tr>\n",
       "    <tr>\n",
       "      <th>3</th>\n",
       "      <td>360050002001002</td>\n",
       "      <td>360050090004003</td>\n",
       "      <td>1</td>\n",
       "    </tr>\n",
       "    <tr>\n",
       "      <th>4</th>\n",
       "      <td>360050002001004</td>\n",
       "      <td>360050090003000</td>\n",
       "      <td>1</td>\n",
       "    </tr>\n",
       "  </tbody>\n",
       "</table>\n",
       "</div>"
      ],
      "text/plain": [
       "         w_geocode        h_geocode  people\n",
       "0  360050002001002  360050002003011       1\n",
       "1  360050002001002  360050090003000       1\n",
       "2  360050002001002  360050090004000       1\n",
       "3  360050002001002  360050090004003       1\n",
       "4  360050002001004  360050090003000       1"
      ]
     },
     "execution_count": 60,
     "metadata": {},
     "output_type": "execute_result"
    }
   ],
   "source": [
    "# keep only LEHD with work and home both in NYC\n",
    "lehd_all_nyc = lehd[np.in1d(lehd.h_geocode, nycshp.BCTCB2010) & np.in1d(lehd.w_geocode, nycshp.BCTCB2010)]\n",
    "lehd_all_nyc.index = range(len(lehd_all_nyc))\n",
    "lehd_all_nyc.head()"
   ]
  },
  {
   "cell_type": "code",
   "execution_count": 61,
   "metadata": {
    "collapsed": false
   },
   "outputs": [
    {
     "data": {
      "text/html": [
       "<div>\n",
       "<table border=\"1\" class=\"dataframe\">\n",
       "  <thead>\n",
       "    <tr style=\"text-align: right;\">\n",
       "      <th></th>\n",
       "      <th>w_geocode</th>\n",
       "      <th>h_geocode</th>\n",
       "      <th>people</th>\n",
       "    </tr>\n",
       "  </thead>\n",
       "  <tbody>\n",
       "    <tr>\n",
       "      <th>0</th>\n",
       "      <td>360610001001001</td>\n",
       "      <td>360610039001008</td>\n",
       "      <td>1</td>\n",
       "    </tr>\n",
       "    <tr>\n",
       "      <th>1</th>\n",
       "      <td>360610001001001</td>\n",
       "      <td>360610055022006</td>\n",
       "      <td>1</td>\n",
       "    </tr>\n",
       "    <tr>\n",
       "      <th>2</th>\n",
       "      <td>360610001001001</td>\n",
       "      <td>360610093002000</td>\n",
       "      <td>1</td>\n",
       "    </tr>\n",
       "    <tr>\n",
       "      <th>3</th>\n",
       "      <td>360610001001001</td>\n",
       "      <td>360610127002001</td>\n",
       "      <td>1</td>\n",
       "    </tr>\n",
       "    <tr>\n",
       "      <th>4</th>\n",
       "      <td>360610001001001</td>\n",
       "      <td>360610130004000</td>\n",
       "      <td>1</td>\n",
       "    </tr>\n",
       "  </tbody>\n",
       "</table>\n",
       "</div>"
      ],
      "text/plain": [
       "         w_geocode        h_geocode  people\n",
       "0  360610001001001  360610039001008       1\n",
       "1  360610001001001  360610055022006       1\n",
       "2  360610001001001  360610093002000       1\n",
       "3  360610001001001  360610127002001       1\n",
       "4  360610001001001  360610130004000       1"
      ]
     },
     "execution_count": 61,
     "metadata": {},
     "output_type": "execute_result"
    }
   ],
   "source": [
    "# keep only LEHD with work and home both in manhattan\n",
    "lehd = lehd[np.in1d(lehd.h_geocode, manshp.BCTCB2010) & np.in1d(lehd.w_geocode, manshp.BCTCB2010)]\n",
    "lehd.index = range(len(lehd))\n",
    "lehd.head()"
   ]
  },
  {
   "cell_type": "code",
   "execution_count": 62,
   "metadata": {
    "collapsed": false
   },
   "outputs": [],
   "source": [
    "# find the distance between work and home\n",
    "work = lehd.merge(manshp, how = 'left', left_on = 'w_geocode', right_on = 'BCTCB2010')\n",
    "work = gp.GeoDataFrame(work, crs = manshp.crs, geometry = 'geometry')\n",
    "home = lehd.merge(manshp, how = 'left', left_on = 'h_geocode', right_on = 'BCTCB2010')\n",
    "home = gp.GeoDataFrame(home, crs = manshp.crs, geometry = 'geometry')\n",
    "\n",
    "# note: distance is calculated in ft - convert to miles\n",
    "lehd['distance'] = home.distance(work) / 5280"
   ]
  },
  {
   "cell_type": "code",
   "execution_count": 63,
   "metadata": {
    "collapsed": true
   },
   "outputs": [],
   "source": [
    "# find the distance between work and home for all NYC\n",
    "work_all_nyc = lehd_all_nyc.merge(nycshp, how = 'left', left_on = 'w_geocode', right_on = 'BCTCB2010')\n",
    "work_all_nyc = gp.GeoDataFrame(work_all_nyc, crs = nycshp.crs, geometry = 'geometry')\n",
    "home_all_nyc = lehd_all_nyc.merge(nycshp, how = 'left', left_on = 'h_geocode', right_on = 'BCTCB2010')\n",
    "home_all_nyc = gp.GeoDataFrame(home_all_nyc, crs = nycshp.crs, geometry = 'geometry')\n",
    "\n",
    "# note: distance is calculated in ft - convert to miles\n",
    "lehd_all_nyc['distance'] = home_all_nyc.distance(work_all_nyc) / 5280"
   ]
  },
  {
   "cell_type": "code",
   "execution_count": 64,
   "metadata": {
    "collapsed": false
   },
   "outputs": [],
   "source": [
    "# aggregate LEHD data to geocode level with weighted average distance to home and to work\n",
    "\n",
    "def wavg(group):\n",
    "    d = group['distance']\n",
    "    w = group['people']\n",
    "    return (d * w).sum() / w.sum()\n",
    "\n",
    "lehd_work = pd.DataFrame(lehd.groupby('h_geocode', as_index = True).apply(wavg), columns = ['dist_towork'])\n",
    "lehd_home = pd.DataFrame(lehd.groupby('w_geocode', as_index = True).apply(wavg), columns = ['dist_tohome'])\n",
    "lehd_work_all_nyc = pd.DataFrame(lehd_all_nyc.groupby('h_geocode', as_index = True).apply(wavg), columns = ['dist_towork'])\n",
    "lehd_home_all_nyc = pd.DataFrame(lehd_all_nyc.groupby('w_geocode', as_index = True).apply(wavg), columns = ['dist_tohome'])"
   ]
  },
  {
   "cell_type": "code",
   "execution_count": 65,
   "metadata": {
    "collapsed": false
   },
   "outputs": [
    {
     "data": {
      "text/html": [
       "<div>\n",
       "<table border=\"1\" class=\"dataframe\">\n",
       "  <thead>\n",
       "    <tr style=\"text-align: right;\">\n",
       "      <th></th>\n",
       "      <th>w_geocode</th>\n",
       "      <th>h_geocode</th>\n",
       "      <th>people</th>\n",
       "      <th>distance</th>\n",
       "    </tr>\n",
       "  </thead>\n",
       "  <tbody>\n",
       "    <tr>\n",
       "      <th>0</th>\n",
       "      <td>360050002001002</td>\n",
       "      <td>360050002003011</td>\n",
       "      <td>1</td>\n",
       "      <td>0.380520</td>\n",
       "    </tr>\n",
       "    <tr>\n",
       "      <th>1</th>\n",
       "      <td>360050002001002</td>\n",
       "      <td>360050090003000</td>\n",
       "      <td>1</td>\n",
       "      <td>0.757005</td>\n",
       "    </tr>\n",
       "    <tr>\n",
       "      <th>2</th>\n",
       "      <td>360050002001002</td>\n",
       "      <td>360050090004000</td>\n",
       "      <td>1</td>\n",
       "      <td>0.839670</td>\n",
       "    </tr>\n",
       "    <tr>\n",
       "      <th>3</th>\n",
       "      <td>360050002001002</td>\n",
       "      <td>360050090004003</td>\n",
       "      <td>1</td>\n",
       "      <td>0.780996</td>\n",
       "    </tr>\n",
       "    <tr>\n",
       "      <th>4</th>\n",
       "      <td>360050002001004</td>\n",
       "      <td>360050090003000</td>\n",
       "      <td>1</td>\n",
       "      <td>0.643882</td>\n",
       "    </tr>\n",
       "  </tbody>\n",
       "</table>\n",
       "</div>"
      ],
      "text/plain": [
       "         w_geocode        h_geocode  people  distance\n",
       "0  360050002001002  360050002003011       1  0.380520\n",
       "1  360050002001002  360050090003000       1  0.757005\n",
       "2  360050002001002  360050090004000       1  0.839670\n",
       "3  360050002001002  360050090004003       1  0.780996\n",
       "4  360050002001004  360050090003000       1  0.643882"
      ]
     },
     "execution_count": 65,
     "metadata": {},
     "output_type": "execute_result"
    }
   ],
   "source": [
    "lehd_all_nyc.head()"
   ]
  },
  {
   "cell_type": "code",
   "execution_count": 66,
   "metadata": {
    "collapsed": false
   },
   "outputs": [],
   "source": [
    "lehd_pwork = pd.DataFrame(lehd[['w_geocode','people']].groupby('w_geocode', as_index = True).sum())\n",
    "lehd_pwork.columns = ['workers']\n",
    "lehd_plive = pd.DataFrame(lehd[['h_geocode','people']].groupby('h_geocode', as_index = True).sum())\n",
    "lehd_plive.columns = ['residents']"
   ]
  },
  {
   "cell_type": "code",
   "execution_count": 67,
   "metadata": {
    "collapsed": true
   },
   "outputs": [],
   "source": [
    "lehd_pwork_all_nyc = pd.DataFrame(lehd_all_nyc[['w_geocode','people']].groupby('w_geocode', as_index = True).sum())\n",
    "lehd_pwork_all_nyc.columns = ['workers']\n",
    "lehd_plive_all_nyc = pd.DataFrame(lehd_all_nyc[['h_geocode','people']].groupby('h_geocode', as_index = True).sum())\n",
    "lehd_plive_all_nyc.columns = ['residents']"
   ]
  },
  {
   "cell_type": "code",
   "execution_count": 68,
   "metadata": {
    "collapsed": false
   },
   "outputs": [
    {
     "data": {
      "text/html": [
       "<div>\n",
       "<table border=\"1\" class=\"dataframe\">\n",
       "  <thead>\n",
       "    <tr style=\"text-align: right;\">\n",
       "      <th></th>\n",
       "      <th>dist_tohome</th>\n",
       "      <th>dist_towork</th>\n",
       "      <th>workers</th>\n",
       "      <th>residents</th>\n",
       "    </tr>\n",
       "  </thead>\n",
       "  <tbody>\n",
       "    <tr>\n",
       "      <th>360610001001001</th>\n",
       "      <td>6.260197</td>\n",
       "      <td>5.989905</td>\n",
       "      <td>7</td>\n",
       "      <td>74</td>\n",
       "    </tr>\n",
       "    <tr>\n",
       "      <th>360610002011000</th>\n",
       "      <td>2.055703</td>\n",
       "      <td>2.408299</td>\n",
       "      <td>26</td>\n",
       "      <td>248</td>\n",
       "    </tr>\n",
       "    <tr>\n",
       "      <th>360610002012000</th>\n",
       "      <td>2.813478</td>\n",
       "      <td>2.399098</td>\n",
       "      <td>18</td>\n",
       "      <td>288</td>\n",
       "    </tr>\n",
       "    <tr>\n",
       "      <th>360610002012001</th>\n",
       "      <td>2.754103</td>\n",
       "      <td>2.136880</td>\n",
       "      <td>38</td>\n",
       "      <td>122</td>\n",
       "    </tr>\n",
       "    <tr>\n",
       "      <th>360610002021001</th>\n",
       "      <td>3.675661</td>\n",
       "      <td>2.516509</td>\n",
       "      <td>12</td>\n",
       "      <td>66</td>\n",
       "    </tr>\n",
       "  </tbody>\n",
       "</table>\n",
       "</div>"
      ],
      "text/plain": [
       "                 dist_tohome  dist_towork  workers  residents\n",
       "360610001001001     6.260197     5.989905        7         74\n",
       "360610002011000     2.055703     2.408299       26        248\n",
       "360610002012000     2.813478     2.399098       18        288\n",
       "360610002012001     2.754103     2.136880       38        122\n",
       "360610002021001     3.675661     2.516509       12         66"
      ]
     },
     "execution_count": 68,
     "metadata": {},
     "output_type": "execute_result"
    }
   ],
   "source": [
    "dist = lehd_home.merge(lehd_work, left_index = True, right_index = True)\n",
    "dist = dist.merge(lehd_pwork, left_index = True, right_index = True)\n",
    "dist = dist.merge(lehd_plive, left_index = True, right_index = True)\n",
    "dist.head()"
   ]
  },
  {
   "cell_type": "code",
   "execution_count": 69,
   "metadata": {
    "collapsed": false
   },
   "outputs": [
    {
     "data": {
      "text/html": [
       "<div>\n",
       "<table border=\"1\" class=\"dataframe\">\n",
       "  <thead>\n",
       "    <tr style=\"text-align: right;\">\n",
       "      <th></th>\n",
       "      <th>dist_tohome</th>\n",
       "      <th>dist_towork</th>\n",
       "      <th>workers</th>\n",
       "      <th>residents</th>\n",
       "    </tr>\n",
       "  </thead>\n",
       "  <tbody>\n",
       "    <tr>\n",
       "      <th>360050002001002</th>\n",
       "      <td>0.689548</td>\n",
       "      <td>5.804126</td>\n",
       "      <td>4</td>\n",
       "      <td>58</td>\n",
       "    </tr>\n",
       "    <tr>\n",
       "      <th>360050002001004</th>\n",
       "      <td>2.688824</td>\n",
       "      <td>4.226865</td>\n",
       "      <td>5</td>\n",
       "      <td>18</td>\n",
       "    </tr>\n",
       "    <tr>\n",
       "      <th>360050002002002</th>\n",
       "      <td>0.812085</td>\n",
       "      <td>4.924776</td>\n",
       "      <td>6</td>\n",
       "      <td>60</td>\n",
       "    </tr>\n",
       "    <tr>\n",
       "      <th>360050002002003</th>\n",
       "      <td>3.260500</td>\n",
       "      <td>5.304640</td>\n",
       "      <td>4</td>\n",
       "      <td>53</td>\n",
       "    </tr>\n",
       "    <tr>\n",
       "      <th>360050002002010</th>\n",
       "      <td>1.957042</td>\n",
       "      <td>4.132824</td>\n",
       "      <td>3</td>\n",
       "      <td>15</td>\n",
       "    </tr>\n",
       "  </tbody>\n",
       "</table>\n",
       "</div>"
      ],
      "text/plain": [
       "                 dist_tohome  dist_towork  workers  residents\n",
       "360050002001002     0.689548     5.804126        4         58\n",
       "360050002001004     2.688824     4.226865        5         18\n",
       "360050002002002     0.812085     4.924776        6         60\n",
       "360050002002003     3.260500     5.304640        4         53\n",
       "360050002002010     1.957042     4.132824        3         15"
      ]
     },
     "execution_count": 69,
     "metadata": {},
     "output_type": "execute_result"
    }
   ],
   "source": [
    "dist_all_nyc = lehd_home_all_nyc.merge(lehd_work_all_nyc, left_index = True, right_index = True)\n",
    "dist_all_nyc = dist_all_nyc.merge(lehd_pwork_all_nyc, left_index = True, right_index = True)\n",
    "dist_all_nyc = dist_all_nyc.merge(lehd_plive_all_nyc, left_index = True, right_index = True)\n",
    "dist_all_nyc.head()"
   ]
  },
  {
   "cell_type": "code",
   "execution_count": 70,
   "metadata": {
    "collapsed": false
   },
   "outputs": [
    {
     "data": {
      "text/html": [
       "<div>\n",
       "<table border=\"1\" class=\"dataframe\">\n",
       "  <thead>\n",
       "    <tr style=\"text-align: right;\">\n",
       "      <th></th>\n",
       "      <th>BCTCB2010</th>\n",
       "      <th>BoroCode</th>\n",
       "      <th>BoroName</th>\n",
       "      <th>CB2010</th>\n",
       "      <th>CT2010</th>\n",
       "      <th>Shape_Area</th>\n",
       "      <th>Shape_Leng</th>\n",
       "      <th>geometry</th>\n",
       "      <th>dist_tohome</th>\n",
       "      <th>dist_towork</th>\n",
       "      <th>workers</th>\n",
       "      <th>residents</th>\n",
       "    </tr>\n",
       "  </thead>\n",
       "  <tbody>\n",
       "    <tr>\n",
       "      <th>1</th>\n",
       "      <td>360850020011000</td>\n",
       "      <td>5</td>\n",
       "      <td>Staten Island</td>\n",
       "      <td>1000</td>\n",
       "      <td>002001</td>\n",
       "      <td>111006.286826</td>\n",
       "      <td>1345.886422</td>\n",
       "      <td>POLYGON ((964642.2676391613 161835.2652098391,...</td>\n",
       "      <td>1.703449</td>\n",
       "      <td>7.612329</td>\n",
       "      <td>3</td>\n",
       "      <td>24</td>\n",
       "    </tr>\n",
       "    <tr>\n",
       "      <th>2</th>\n",
       "      <td>360850027001000</td>\n",
       "      <td>5</td>\n",
       "      <td>Staten Island</td>\n",
       "      <td>1000</td>\n",
       "      <td>002700</td>\n",
       "      <td>150406.784296</td>\n",
       "      <td>1703.381058</td>\n",
       "      <td>POLYGON ((963363.116638183 167356.3334471463, ...</td>\n",
       "      <td>7.967243</td>\n",
       "      <td>6.621446</td>\n",
       "      <td>8</td>\n",
       "      <td>60</td>\n",
       "    </tr>\n",
       "    <tr>\n",
       "      <th>3</th>\n",
       "      <td>360850040001000</td>\n",
       "      <td>5</td>\n",
       "      <td>Staten Island</td>\n",
       "      <td>1000</td>\n",
       "      <td>004000</td>\n",
       "      <td>141296.561149</td>\n",
       "      <td>1511.173743</td>\n",
       "      <td>POLYGON ((960069.9965820312 161953.6936156093,...</td>\n",
       "      <td>9.394226</td>\n",
       "      <td>6.893567</td>\n",
       "      <td>3</td>\n",
       "      <td>17</td>\n",
       "    </tr>\n",
       "    <tr>\n",
       "      <th>5</th>\n",
       "      <td>360850074001000</td>\n",
       "      <td>5</td>\n",
       "      <td>Staten Island</td>\n",
       "      <td>1000</td>\n",
       "      <td>007400</td>\n",
       "      <td>139084.016712</td>\n",
       "      <td>1540.875503</td>\n",
       "      <td>POLYGON ((965950.5722045903 156723.1070067168,...</td>\n",
       "      <td>3.659894</td>\n",
       "      <td>5.956579</td>\n",
       "      <td>2</td>\n",
       "      <td>30</td>\n",
       "    </tr>\n",
       "    <tr>\n",
       "      <th>8</th>\n",
       "      <td>360850112011000</td>\n",
       "      <td>5</td>\n",
       "      <td>Staten Island</td>\n",
       "      <td>1000</td>\n",
       "      <td>011201</td>\n",
       "      <td>196112.284882</td>\n",
       "      <td>1943.029020</td>\n",
       "      <td>POLYGON ((960211.8796386705 151958.16602771, 9...</td>\n",
       "      <td>5.830894</td>\n",
       "      <td>5.991521</td>\n",
       "      <td>55</td>\n",
       "      <td>19</td>\n",
       "    </tr>\n",
       "  </tbody>\n",
       "</table>\n",
       "</div>"
      ],
      "text/plain": [
       "         BCTCB2010 BoroCode       BoroName CB2010  CT2010     Shape_Area  \\\n",
       "1  360850020011000        5  Staten Island   1000  002001  111006.286826   \n",
       "2  360850027001000        5  Staten Island   1000  002700  150406.784296   \n",
       "3  360850040001000        5  Staten Island   1000  004000  141296.561149   \n",
       "5  360850074001000        5  Staten Island   1000  007400  139084.016712   \n",
       "8  360850112011000        5  Staten Island   1000  011201  196112.284882   \n",
       "\n",
       "    Shape_Leng                                           geometry  \\\n",
       "1  1345.886422  POLYGON ((964642.2676391613 161835.2652098391,...   \n",
       "2  1703.381058  POLYGON ((963363.116638183 167356.3334471463, ...   \n",
       "3  1511.173743  POLYGON ((960069.9965820312 161953.6936156093,...   \n",
       "5  1540.875503  POLYGON ((965950.5722045903 156723.1070067168,...   \n",
       "8  1943.029020  POLYGON ((960211.8796386705 151958.16602771, 9...   \n",
       "\n",
       "   dist_tohome  dist_towork  workers  residents  \n",
       "1     1.703449     7.612329        3         24  \n",
       "2     7.967243     6.621446        8         60  \n",
       "3     9.394226     6.893567        3         17  \n",
       "5     3.659894     5.956579        2         30  \n",
       "8     5.830894     5.991521       55         19  "
      ]
     },
     "execution_count": 70,
     "metadata": {},
     "output_type": "execute_result"
    }
   ],
   "source": [
    "# create and write a shapefile with census block and average commute distance\n",
    "cb_dist = manshp.merge(dist, left_on = 'BCTCB2010', right_index = True)\n",
    "#cb_dist.columns = ['cb','geometry','dist_tohome', 'dist_towork', 'workers']\n",
    "\n",
    "cb_dist_all_nyc = nycshp.merge(dist_all_nyc, left_on = 'BCTCB2010', right_index = True)\n",
    "\n",
    "if not os.path.exists('data/cb_dist/'):\n",
    "    os.makedirs('data/cb_dist/')\n",
    "    \n",
    "cb_dist.to_file('data/cb_dist/cb_dist.shp')\n",
    "cb_dist_all_nyc.to_file('data/cb_dist/cb_dist_all_nyc.shp')\n",
    "\n",
    "cb_dist_all_nyc.head()"
   ]
  },
  {
   "cell_type": "code",
   "execution_count": 71,
   "metadata": {
    "collapsed": false
   },
   "outputs": [
    {
     "data": {
      "image/png": "[encoded data removed]",
      "text/plain": [
       "<matplotlib.figure.Figure at 0x7fa2d2a7fed0>"
      ]
     },
     "metadata": {},
     "output_type": "display_data"
    },
    {
     "data": {
      "image/png": "[encoded data removed]",
      "text/plain": [
       "<matplotlib.figure.Figure at 0x7fa2f9f16d90>"
      ]
     },
     "metadata": {},
     "output_type": "display_data"
    }
   ],
   "source": [
    "import pylab as pl\n",
    "cb_dist.hist('dist_tohome')\n",
    "cb_dist.hist('dist_towork')\n",
    "pl.show()"
   ]
  },
  {
   "cell_type": "code",
   "execution_count": 72,
   "metadata": {
    "collapsed": false
   },
   "outputs": [
    {
     "data": {
      "image/png": "[encoded data removed]",
      "text/plain": [
       "<matplotlib.figure.Figure at 0x7fa2d2a56e50>"
      ]
     },
     "metadata": {},
     "output_type": "display_data"
    },
    {
     "data": {
      "image/png": "[encoded data removed]",
      "text/plain": [
       "<matplotlib.figure.Figure at 0x7fa2d39623d0>"
      ]
     },
     "metadata": {},
     "output_type": "display_data"
    }
   ],
   "source": [
    "cb_dist_all_nyc.hist('dist_tohome')\n",
    "cb_dist_all_nyc.hist('dist_towork')\n",
    "pl.show()"
   ]
  }
 ],
 "metadata": {
  "kernelspec": {
   "display_name": "PUI2016_Python2",
   "language": "python",
   "name": "pui2016_python2"
  },
  "language_info": {
   "codemirror_mode": {
    "name": "ipython",
    "version": 2
   },
   "file_extension": ".py",
   "mimetype": "text/x-python",
   "name": "python",
   "nbconvert_exporter": "python",
   "pygments_lexer": "ipython2",
   "version": "2.7.12"
  }
 },
 "nbformat": 4,
 "nbformat_minor": 0
}
