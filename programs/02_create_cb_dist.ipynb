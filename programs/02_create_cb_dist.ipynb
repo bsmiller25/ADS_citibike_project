{
 "cells": [
  {
   "cell_type": "code",
   "execution_count": 1,
   "metadata": {
    "collapsed": false
   },
   "outputs": [],
   "source": [
    "import numpy as np\n",
    "import pandas as pd\n",
    "import geopandas as gp\n",
    "import os\n",
    "import subprocess\n",
    "import shapely as shp\n",
    "\n",
    "# make sure we are at the top of the repo\n",
    "wd = subprocess.check_output('git rev-parse --show-toplevel', shell = True)\n",
    "os.chdir(wd[:-1]) #-1 removes \\n"
   ]
  },
  {
   "cell_type": "code",
   "execution_count": 2,
   "metadata": {
    "collapsed": false
   },
   "outputs": [],
   "source": [
    "# read in LEHD OD data\n",
    "lehd = pd.read_csv('data/lehd_od_2014.csv',\n",
    " dtype = {'w_geocode':'string',\n",
    "          'h_geocode':'string'})\n",
    "\n",
    "# keep only what we need\n",
    "lehd = lehd[['w_geocode','h_geocode','S000']]\n",
    "lehd.columns = ['w_geocode','h_geocode','people']"
   ]
  },
  {
   "cell_type": "code",
   "execution_count": 3,
   "metadata": {
    "collapsed": false
   },
   "outputs": [
    {
     "name": "stderr",
     "output_type": "stream",
     "text": [
      "/opt/rh/anaconda/root/envs/PUI2016_Python2/lib/python2.7/site-packages/ipykernel/__main__.py:11: SettingWithCopyWarning: \n",
      "A value is trying to be set on a copy of a slice from a DataFrame.\n",
      "Try using .loc[row_indexer,col_indexer] = value instead\n",
      "\n",
      "See the caveats in the documentation: http://pandas.pydata.org/pandas-docs/stable/indexing.html#indexing-view-versus-copy\n"
     ]
    }
   ],
   "source": [
    "# read in nyc census block shapefiles\n",
    "nycshp = gp.read_file('data/nycb2010_16c/nycb2010.shp')\n",
    "\n",
    "# set up cooridnate system\n",
    "nycshp = nycshp.to_crs(epsg=2263) # epsg=4326: lat/on | 26918: NAD83/UTM zone 18N | epsg=2263 is US feet\n",
    "\n",
    "# we only need manhattan \n",
    "manshp = nycshp[nycshp.BoroName == 'Manhattan']\n",
    "\n",
    "# add state code 36 and leading digits for county code 06\n",
    "manshp['BCTCB2010'] = '3606' + manshp['BCTCB2010']\n",
    "\n",
    "# keep only what we need\n",
    "manshp = manshp[['BCTCB2010','geometry']]"
   ]
  },
  {
   "cell_type": "code",
   "execution_count": 4,
   "metadata": {
    "collapsed": false
   },
   "outputs": [],
   "source": [
    "# keep only LEHD with work and home both in manhattan\n",
    "lehd = lehd[np.in1d(lehd.h_geocode, manshp.BCTCB2010) & np.in1d(lehd.w_geocode, manshp.BCTCB2010)]\n",
    "lehd.index = range(len(lehd))"
   ]
  },
  {
   "cell_type": "code",
   "execution_count": 5,
   "metadata": {
    "collapsed": false
   },
   "outputs": [],
   "source": [
    "# find the distance between work and home\n",
    "work = lehd.merge(manshp, how = 'left', left_on = 'w_geocode', right_on = 'BCTCB2010')\n",
    "work = gp.GeoDataFrame(work, crs = manshp.crs, geometry = 'geometry')\n",
    "home = lehd.merge(manshp, how = 'left', left_on = 'h_geocode', right_on = 'BCTCB2010')\n",
    "home = gp.GeoDataFrame(home, crs = manshp.crs, geometry = 'geometry')\n",
    "\n",
    "# note: distance is calculated in ft - convert to miles\n",
    "lehd['distance'] = home.distance(work) / 5280"
   ]
  },
  {
   "cell_type": "code",
   "execution_count": 6,
   "metadata": {
    "collapsed": false
   },
   "outputs": [],
   "source": [
    "# aggregate LEHD data to geocode level with weighted average distance to home and to work\n",
    "\n",
    "def wavg(group):\n",
    "    d = group['distance']\n",
    "    w = group['people']\n",
    "    return (d * w).sum() / w.sum()\n",
    "\n",
    "lehd_work = pd.DataFrame(lehd.groupby('h_geocode', as_index = True).apply(wavg), columns = ['dist_towork'])\n",
    "lehd_home = pd.DataFrame(lehd.groupby('w_geocode', as_index = True).apply(wavg), columns = ['dist_tohome'])\n"
   ]
  },
  {
   "cell_type": "code",
   "execution_count": 7,
   "metadata": {
    "collapsed": false
   },
   "outputs": [
    {
     "data": {
      "text/html": [
       "<div>\n",
       "<table border=\"1\" class=\"dataframe\">\n",
       "  <thead>\n",
       "    <tr style=\"text-align: right;\">\n",
       "      <th></th>\n",
       "      <th>w_geocode</th>\n",
       "      <th>h_geocode</th>\n",
       "      <th>people</th>\n",
       "      <th>distance</th>\n",
       "    </tr>\n",
       "  </thead>\n",
       "  <tbody>\n",
       "    <tr>\n",
       "      <th>0</th>\n",
       "      <td>360610001001001</td>\n",
       "      <td>360610039001008</td>\n",
       "      <td>1</td>\n",
       "      <td>2.861149</td>\n",
       "    </tr>\n",
       "    <tr>\n",
       "      <th>1</th>\n",
       "      <td>360610001001001</td>\n",
       "      <td>360610055022006</td>\n",
       "      <td>1</td>\n",
       "      <td>3.450270</td>\n",
       "    </tr>\n",
       "    <tr>\n",
       "      <th>2</th>\n",
       "      <td>360610001001001</td>\n",
       "      <td>360610093002000</td>\n",
       "      <td>1</td>\n",
       "      <td>4.453174</td>\n",
       "    </tr>\n",
       "    <tr>\n",
       "      <th>3</th>\n",
       "      <td>360610001001001</td>\n",
       "      <td>360610127002001</td>\n",
       "      <td>1</td>\n",
       "      <td>5.597140</td>\n",
       "    </tr>\n",
       "    <tr>\n",
       "      <th>4</th>\n",
       "      <td>360610001001001</td>\n",
       "      <td>360610130004000</td>\n",
       "      <td>1</td>\n",
       "      <td>7.133236</td>\n",
       "    </tr>\n",
       "  </tbody>\n",
       "</table>\n",
       "</div>"
      ],
      "text/plain": [
       "         w_geocode        h_geocode  people  distance\n",
       "0  360610001001001  360610039001008       1  2.861149\n",
       "1  360610001001001  360610055022006       1  3.450270\n",
       "2  360610001001001  360610093002000       1  4.453174\n",
       "3  360610001001001  360610127002001       1  5.597140\n",
       "4  360610001001001  360610130004000       1  7.133236"
      ]
     },
     "execution_count": 7,
     "metadata": {},
     "output_type": "execute_result"
    }
   ],
   "source": [
    "lehd.head()"
   ]
  },
  {
   "cell_type": "code",
   "execution_count": 8,
   "metadata": {
    "collapsed": false
   },
   "outputs": [],
   "source": [
    "lehd_pwork = pd.DataFrame(lehd[['w_geocode','people']].groupby('w_geocode', as_index = True).sum())\n",
    "lehd_pwork.columns = ['workers']\n",
    "lehd_plive = pd.DataFrame(lehd[['h_geocode','people']].groupby('h_geocode', as_index = True).sum())\n",
    "lehd_plive.columns = ['residents']"
   ]
  },
  {
   "cell_type": "code",
   "execution_count": null,
   "metadata": {
    "collapsed": true
   },
   "outputs": [],
   "source": []
  },
  {
   "cell_type": "code",
   "execution_count": 9,
   "metadata": {
    "collapsed": false
   },
   "outputs": [
    {
     "data": {
      "text/html": [
       "<div>\n",
       "<table border=\"1\" class=\"dataframe\">\n",
       "  <thead>\n",
       "    <tr style=\"text-align: right;\">\n",
       "      <th></th>\n",
       "      <th>dist_tohome</th>\n",
       "      <th>dist_towork</th>\n",
       "      <th>workers</th>\n",
       "      <th>residents</th>\n",
       "    </tr>\n",
       "  </thead>\n",
       "  <tbody>\n",
       "    <tr>\n",
       "      <th>360610001001001</th>\n",
       "      <td>6.260197</td>\n",
       "      <td>5.989905</td>\n",
       "      <td>7</td>\n",
       "      <td>74</td>\n",
       "    </tr>\n",
       "    <tr>\n",
       "      <th>360610002011000</th>\n",
       "      <td>2.055703</td>\n",
       "      <td>2.408299</td>\n",
       "      <td>26</td>\n",
       "      <td>248</td>\n",
       "    </tr>\n",
       "    <tr>\n",
       "      <th>360610002012000</th>\n",
       "      <td>2.813478</td>\n",
       "      <td>2.399098</td>\n",
       "      <td>18</td>\n",
       "      <td>288</td>\n",
       "    </tr>\n",
       "    <tr>\n",
       "      <th>360610002012001</th>\n",
       "      <td>2.754103</td>\n",
       "      <td>2.136880</td>\n",
       "      <td>38</td>\n",
       "      <td>122</td>\n",
       "    </tr>\n",
       "    <tr>\n",
       "      <th>360610002021001</th>\n",
       "      <td>3.675661</td>\n",
       "      <td>2.516509</td>\n",
       "      <td>12</td>\n",
       "      <td>66</td>\n",
       "    </tr>\n",
       "  </tbody>\n",
       "</table>\n",
       "</div>"
      ],
      "text/plain": [
       "                 dist_tohome  dist_towork  workers  residents\n",
       "360610001001001     6.260197     5.989905        7         74\n",
       "360610002011000     2.055703     2.408299       26        248\n",
       "360610002012000     2.813478     2.399098       18        288\n",
       "360610002012001     2.754103     2.136880       38        122\n",
       "360610002021001     3.675661     2.516509       12         66"
      ]
     },
     "execution_count": 9,
     "metadata": {},
     "output_type": "execute_result"
    }
   ],
   "source": [
    "dist = lehd_home.merge(lehd_work, left_index = True, right_index = True)\n",
    "dist = dist.merge(lehd_pwork, left_index = True, right_index = True)\n",
    "dist = dist.merge(lehd_plive, left_index = True, right_index = True)\n",
    "dist.head()"
   ]
  },
  {
   "cell_type": "code",
   "execution_count": 10,
   "metadata": {
    "collapsed": false
   },
   "outputs": [
    {
     "data": {
      "text/html": [
       "<div>\n",
       "<table border=\"1\" class=\"dataframe\">\n",
       "  <thead>\n",
       "    <tr style=\"text-align: right;\">\n",
       "      <th></th>\n",
       "      <th>BCTCB2010</th>\n",
       "      <th>geometry</th>\n",
       "      <th>dist_tohome</th>\n",
       "      <th>dist_towork</th>\n",
       "      <th>workers</th>\n",
       "      <th>residents</th>\n",
       "    </tr>\n",
       "  </thead>\n",
       "  <tbody>\n",
       "    <tr>\n",
       "      <th>3121</th>\n",
       "      <td>360610002011000</td>\n",
       "      <td>POLYGON ((988376.7305908195 199328.6176268376,...</td>\n",
       "      <td>2.055703</td>\n",
       "      <td>2.408299</td>\n",
       "      <td>26</td>\n",
       "      <td>248</td>\n",
       "    </tr>\n",
       "    <tr>\n",
       "      <th>3124</th>\n",
       "      <td>360610009001000</td>\n",
       "      <td>POLYGON ((981514.6381835958 196417.3043944138,...</td>\n",
       "      <td>5.002447</td>\n",
       "      <td>2.650625</td>\n",
       "      <td>404</td>\n",
       "      <td>253</td>\n",
       "    </tr>\n",
       "    <tr>\n",
       "      <th>3125</th>\n",
       "      <td>360610012001000</td>\n",
       "      <td>POLYGON ((989107.3262329118 200969.6084105199,...</td>\n",
       "      <td>2.678028</td>\n",
       "      <td>2.212737</td>\n",
       "      <td>7</td>\n",
       "      <td>130</td>\n",
       "    </tr>\n",
       "    <tr>\n",
       "      <th>3126</th>\n",
       "      <td>360610014011000</td>\n",
       "      <td>POLYGON ((987475.0164184577 200297.2178465645,...</td>\n",
       "      <td>2.958618</td>\n",
       "      <td>2.119801</td>\n",
       "      <td>76</td>\n",
       "      <td>239</td>\n",
       "    </tr>\n",
       "    <tr>\n",
       "      <th>3127</th>\n",
       "      <td>360610015021000</td>\n",
       "      <td>POLYGON ((982102.8818359384 198029.1682249822,...</td>\n",
       "      <td>5.390898</td>\n",
       "      <td>2.498184</td>\n",
       "      <td>107</td>\n",
       "      <td>183</td>\n",
       "    </tr>\n",
       "  </tbody>\n",
       "</table>\n",
       "</div>"
      ],
      "text/plain": [
       "            BCTCB2010                                           geometry  \\\n",
       "3121  360610002011000  POLYGON ((988376.7305908195 199328.6176268376,...   \n",
       "3124  360610009001000  POLYGON ((981514.6381835958 196417.3043944138,...   \n",
       "3125  360610012001000  POLYGON ((989107.3262329118 200969.6084105199,...   \n",
       "3126  360610014011000  POLYGON ((987475.0164184577 200297.2178465645,...   \n",
       "3127  360610015021000  POLYGON ((982102.8818359384 198029.1682249822,...   \n",
       "\n",
       "      dist_tohome  dist_towork  workers  residents  \n",
       "3121     2.055703     2.408299       26        248  \n",
       "3124     5.002447     2.650625      404        253  \n",
       "3125     2.678028     2.212737        7        130  \n",
       "3126     2.958618     2.119801       76        239  \n",
       "3127     5.390898     2.498184      107        183  "
      ]
     },
     "execution_count": 10,
     "metadata": {},
     "output_type": "execute_result"
    }
   ],
   "source": [
    "# create and write a shapefile with census block and average commute distance\n",
    "cb_dist = manshp.merge(dist, left_on = 'BCTCB2010', right_index = True)\n",
    "#cb_dist.columns = ['cb','geometry','dist_tohome', 'dist_towork', 'workers']\n",
    "\n",
    "if not os.path.exists('data/cb_dist/'):\n",
    "    os.makedirs('data/cb_dist/')\n",
    "    \n",
    "cb_dist.to_file('data/cb_dist/cb_dist.shp')\n",
    "\n",
    "cb_dist.head()"
   ]
  },
  {
   "cell_type": "code",
   "execution_count": 11,
   "metadata": {
    "collapsed": false
   },
   "outputs": [
    {
     "data": {
      "image/png": "[encoded data removed]",
      "text/plain": [
       "<matplotlib.figure.Figure at 0x7f2e4f018510>"
      ]
     },
     "metadata": {},
     "output_type": "display_data"
    },
    {
     "data": {
      "image/png": "[encoded data removed]",
      "text/plain": [
       "<matplotlib.figure.Figure at 0x7f2e51703590>"
      ]
     },
     "metadata": {},
     "output_type": "display_data"
    }
   ],
   "source": [
    "import pylab as pl\n",
    "cb_dist.hist('dist_tohome')\n",
    "cb_dist.hist('dist_towork')\n",
    "pl.show()"
   ]
  }
 ],
 "metadata": {
  "kernelspec": {
   "display_name": "PUI2016_Python2",
   "language": "python",
   "name": "pui2016_python2"
  },
  "language_info": {
   "codemirror_mode": {
    "name": "ipython",
    "version": 2
   },
   "file_extension": ".py",
   "mimetype": "text/x-python",
   "name": "python",
   "nbconvert_exporter": "python",
   "pygments_lexer": "ipython2",
   "version": "2.7.12"
  }
 },
 "nbformat": 4,
 "nbformat_minor": 0
}
