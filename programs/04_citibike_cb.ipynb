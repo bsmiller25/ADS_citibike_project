{
 "cells": [
  {
   "cell_type": "code",
   "execution_count": 1,
   "metadata": {
    "collapsed": true
   },
   "outputs": [],
   "source": [
    "import numpy as np\n",
    "import pandas as pd\n",
    "import geopandas as gp\n",
    "import os\n",
    "import subprocess\n",
    "import shapely as shp\n",
    "from datetime import datetime\n",
    "\n",
    "from itertools import compress\n",
    "\n",
    "# make sure we are at the top of the repo\n",
    "wd = subprocess.check_output('git rev-parse --show-toplevel', shell = True)\n",
    "os.chdir(wd[:-1]) #-1 removes \\n"
   ]
  },
  {
   "cell_type": "code",
   "execution_count": 2,
   "metadata": {
    "collapsed": false,
    "scrolled": false
   },
   "outputs": [
    {
     "name": "stderr",
     "output_type": "stream",
     "text": [
      "/opt/rh/anaconda/root/envs/PUI2016_Python2/lib/python2.7/site-packages/ipykernel/__main__.py:11: SettingWithCopyWarning: \n",
      "A value is trying to be set on a copy of a slice from a DataFrame.\n",
      "Try using .loc[row_indexer,col_indexer] = value instead\n",
      "\n",
      "See the caveats in the documentation: http://pandas.pydata.org/pandas-docs/stable/indexing.html#indexing-view-versus-copy\n"
     ]
    }
   ],
   "source": [
    "# read in nyc census block shapefiles\n",
    "nycshp = gp.read_file('data/nycb2010_16c/nycb2010.shp')\n",
    "\n",
    "# set up cooridnate system\n",
    "nycshp = nycshp.to_crs(epsg=4326) # epsg=4326: lat/on | 26918: NAD83/UTM zone 18N | epsg=2263 is US feet\n",
    "\n",
    "# we only need manhattan \n",
    "manshp = nycshp[nycshp.BoroName == 'Manhattan']\n",
    "\n",
    "# add state code 36 and leading digits for county code 06\n",
    "manshp['BCTCB2010'] = '3606' + manshp['BCTCB2010']\n",
    "\n",
    "# keep only what we need\n",
    "manshp = manshp[['BCTCB2010','geometry']]"
   ]
  },
  {
   "cell_type": "code",
   "execution_count": 3,
   "metadata": {
    "collapsed": false
   },
   "outputs": [],
   "source": [
    "# read in 2014 citibike data\n",
    "citi = pd.DataFrame()\n",
    "for m in list(compress(os.listdir('data'), [('citibike_2014' in i) for i in os.listdir('data')])):\n",
    "    citinew = pd.read_csv('data/'+m)\n",
    "    citi = citi.append(citinew, ignore_index = True)\n",
    "#citi = pd.read_csv('data/citibike_201406.csv')"
   ]
  },
  {
   "cell_type": "code",
   "execution_count": 4,
   "metadata": {
    "collapsed": false
   },
   "outputs": [],
   "source": [
    "# keep only stations available all year\n",
    "jan = pd.read_csv('data/citibike_201401.csv')\n",
    "orig_stations = jan['start station id'].unique()\n",
    "\n",
    "citi = citi[np.in1d(citi['start station id'], orig_stations)]"
   ]
  },
  {
   "cell_type": "code",
   "execution_count": 5,
   "metadata": {
    "collapsed": false
   },
   "outputs": [],
   "source": [
    "# keep only subscribers\n",
    "citi = citi[citi['usertype'] == 'Subscriber']"
   ]
  },
  {
   "cell_type": "code",
   "execution_count": 6,
   "metadata": {
    "collapsed": false
   },
   "outputs": [],
   "source": [
    "#Convert starttime to timpstamp format\n",
    "citi['timestamp'] = pd.to_datetime(citi[\"starttime\"])\n",
    "\n",
    "#Pull day of week from timstamp (Mon, Tues etc)\n",
    "citi['dow'] = citi['timestamp'].dt.dayofweek \n",
    "\n",
    "#Only keep weekdays\n",
    "citi = citi[citi['dow'] <= 4]"
   ]
  },
  {
   "cell_type": "code",
   "execution_count": 7,
   "metadata": {
    "collapsed": false
   },
   "outputs": [],
   "source": [
    "#Keep only commute hours\n",
    "citi.index = citi.timestamp\n",
    "citi_morning = citi.between_time('7:00:00','10:00:00', include_start=True, include_end=True)\n",
    "#citi_morning['morning'] = 1\n",
    "citi_morning = citi_morning.reset_index(drop = True)\n",
    "citi_evening = citi.between_time('16:00:00','19:00:00', include_start=True, include_end=True)\n",
    "citi_evening = citi_evening.reset_index(drop = True)\n",
    "#citi_evening['morning'] = 0\n",
    "\n",
    "citi = citi_morning.append(citi_evening, ignore_index = True)"
   ]
  },
  {
   "cell_type": "code",
   "execution_count": 8,
   "metadata": {
    "collapsed": false
   },
   "outputs": [
    {
     "name": "stderr",
     "output_type": "stream",
     "text": [
      "/opt/rh/anaconda/root/envs/PUI2016_Python2/lib/python2.7/site-packages/pandas/util/decorators.py:91: SettingWithCopyWarning: \n",
      "A value is trying to be set on a copy of a slice from a DataFrame\n",
      "\n",
      "See the caveats in the documentation: http://pandas.pydata.org/pandas-docs/stable/indexing.html#indexing-view-versus-copy\n",
      "  return func(*args, **kwargs)\n"
     ]
    }
   ],
   "source": [
    "# dataframe for stations    \n",
    "citi_docks = citi[['start station id','start station name','start station latitude','start station longitude']]\n",
    "citi_docks.columns = ['station_id','name','lat','lon']\n",
    "citi_docks.drop_duplicates(inplace = True)"
   ]
  },
  {
   "cell_type": "code",
   "execution_count": 9,
   "metadata": {
    "collapsed": false
   },
   "outputs": [],
   "source": [
    "# even after dropping duplicates there are some duplicated station ids. Drop them.\n",
    "dups = citi_docks[citi_docks.station_id.duplicated(keep = False)].station_id.unique()\n",
    "citi_docks = citi_docks[[i not in dups for i in citi_docks.station_id]]"
   ]
  },
  {
   "cell_type": "code",
   "execution_count": 10,
   "metadata": {
    "collapsed": false
   },
   "outputs": [],
   "source": [
    "# dataframe for rides per station\n",
    "citi_rides = citi[['start station id', 'tripduration']] # keep duration because we need a column to count with\n",
    "citi_rides.columns = ['station_id', 'n_rides']\n",
    "citi_rides = citi_rides.groupby(['station_id'], as_index = False).count()\n",
    "\n",
    "# citi_rides = citi[['start station id', 'morning', 'tripduration']] # keep duration because we need a column to count with\n",
    "# citi_rides.columns = ['station_id', 'morning', 'n_rides']\n",
    "# citi_rides = citi_rides.groupby(['station_id','morning'], as_index = False).count()"
   ]
  },
  {
   "cell_type": "code",
   "execution_count": 11,
   "metadata": {
    "collapsed": false
   },
   "outputs": [
    {
     "data": {
      "text/html": [
       "<div>\n",
       "<table border=\"1\" class=\"dataframe\">\n",
       "  <thead>\n",
       "    <tr style=\"text-align: right;\">\n",
       "      <th></th>\n",
       "      <th>station_id</th>\n",
       "      <th>n_rides</th>\n",
       "    </tr>\n",
       "  </thead>\n",
       "  <tbody>\n",
       "    <tr>\n",
       "      <th>0</th>\n",
       "      <td>72</td>\n",
       "      <td>9480</td>\n",
       "    </tr>\n",
       "    <tr>\n",
       "      <th>1</th>\n",
       "      <td>79</td>\n",
       "      <td>7067</td>\n",
       "    </tr>\n",
       "    <tr>\n",
       "      <th>2</th>\n",
       "      <td>82</td>\n",
       "      <td>3180</td>\n",
       "    </tr>\n",
       "    <tr>\n",
       "      <th>3</th>\n",
       "      <td>83</td>\n",
       "      <td>2070</td>\n",
       "    </tr>\n",
       "    <tr>\n",
       "      <th>4</th>\n",
       "      <td>116</td>\n",
       "      <td>17209</td>\n",
       "    </tr>\n",
       "  </tbody>\n",
       "</table>\n",
       "</div>"
      ],
      "text/plain": [
       "   station_id  n_rides\n",
       "0          72     9480\n",
       "1          79     7067\n",
       "2          82     3180\n",
       "3          83     2070\n",
       "4         116    17209"
      ]
     },
     "execution_count": 11,
     "metadata": {},
     "output_type": "execute_result"
    }
   ],
   "source": [
    "citi_rides.head()"
   ]
  },
  {
   "cell_type": "code",
   "execution_count": 12,
   "metadata": {
    "collapsed": false
   },
   "outputs": [],
   "source": [
    "# merge number of rides into station detail table\n",
    "citi_docks = citi_docks.merge(citi_rides, how = 'outer', left_on = 'station_id', right_on = 'station_id')\n",
    "citi_docks= citi_docks.dropna()"
   ]
  },
  {
   "cell_type": "code",
   "execution_count": 13,
   "metadata": {
    "collapsed": false
   },
   "outputs": [
    {
     "data": {
      "text/html": [
       "<div>\n",
       "<table border=\"1\" class=\"dataframe\">\n",
       "  <thead>\n",
       "    <tr style=\"text-align: right;\">\n",
       "      <th></th>\n",
       "      <th>station_id</th>\n",
       "      <th>n_rides</th>\n",
       "      <th>geometry</th>\n",
       "    </tr>\n",
       "  </thead>\n",
       "  <tbody>\n",
       "    <tr>\n",
       "      <th>0</th>\n",
       "      <td>302.0</td>\n",
       "      <td>5223</td>\n",
       "      <td>POINT (-73.97793172 40.72082834)</td>\n",
       "    </tr>\n",
       "    <tr>\n",
       "      <th>1</th>\n",
       "      <td>488.0</td>\n",
       "      <td>14647</td>\n",
       "      <td>POINT (-73.99372222 40.75645824)</td>\n",
       "    </tr>\n",
       "    <tr>\n",
       "      <th>2</th>\n",
       "      <td>502.0</td>\n",
       "      <td>8616</td>\n",
       "      <td>POINT (-73.981346 40.714215)</td>\n",
       "    </tr>\n",
       "    <tr>\n",
       "      <th>3</th>\n",
       "      <td>487.0</td>\n",
       "      <td>8969</td>\n",
       "      <td>POINT (-73.97573881 40.73314259)</td>\n",
       "    </tr>\n",
       "    <tr>\n",
       "      <th>4</th>\n",
       "      <td>128.0</td>\n",
       "      <td>14414</td>\n",
       "      <td>POINT (-74.00297088000001 40.72710258)</td>\n",
       "    </tr>\n",
       "  </tbody>\n",
       "</table>\n",
       "</div>"
      ],
      "text/plain": [
       "   station_id  n_rides                                geometry\n",
       "0       302.0     5223        POINT (-73.97793172 40.72082834)\n",
       "1       488.0    14647        POINT (-73.99372222 40.75645824)\n",
       "2       502.0     8616            POINT (-73.981346 40.714215)\n",
       "3       487.0     8969        POINT (-73.97573881 40.73314259)\n",
       "4       128.0    14414  POINT (-74.00297088000001 40.72710258)"
      ]
     },
     "execution_count": 13,
     "metadata": {},
     "output_type": "execute_result"
    }
   ],
   "source": [
    "# combine lat and lon to one column\n",
    "citi_docks['lonlat']=zip(citi_docks.lon, citi_docks.lat)\n",
    "# Create Point Geometry for based on lonlat column\n",
    "citi_docks['geometry']=citi_docks[['lonlat']].applymap(lambda x:shp.geometry.Point(x))\n",
    "#citi_docks = citi_docks[['station_id', 'morning', 'n_rides', 'geometry']]\n",
    "citi_docks = citi_docks[['station_id', 'n_rides', 'geometry']]\n",
    "citi_docks.head()"
   ]
  },
  {
   "cell_type": "code",
   "execution_count": 14,
   "metadata": {
    "collapsed": false
   },
   "outputs": [],
   "source": [
    "# buffer around each point\n",
    "\n",
    "citi_docs = gp.GeoDataFrame(citi_docks, geometry = 'geometry')\n",
    "citi_docs.crs = {'init' :'epsg:4326'}\n",
    "citi_docs = citi_docs.to_crs(epsg=2263) # epsg=4326: lat/on | 26918: NAD83/UTM zone 18N | epsg=2263 is US feet\n",
    "manshp = manshp.to_crs(epsg=2263)"
   ]
  },
  {
   "cell_type": "code",
   "execution_count": 15,
   "metadata": {
    "collapsed": false
   },
   "outputs": [
    {
     "name": "stdout",
     "output_type": "stream",
     "text": [
      "Populating the interactive namespace from numpy and matplotlib\n"
     ]
    },
    {
     "name": "stderr",
     "output_type": "stream",
     "text": [
      "/opt/rh/anaconda/root/envs/PUI2016_Python2/lib/python2.7/site-packages/IPython/core/magics/pylab.py:161: UserWarning: pylab import has clobbered these variables: ['compress', 'datetime']\n",
      "`%matplotlib` prevents importing * from pylab and numpy\n",
      "  \"\\n`%matplotlib` prevents importing * from pylab and numpy\"\n"
     ]
    },
    {
     "data": {
      "text/plain": [
       "<matplotlib.axes._subplots.AxesSubplot at 0x7faeb1210b10>"
      ]
     },
     "execution_count": 15,
     "metadata": {},
     "output_type": "execute_result"
    },
    {
     "data": {
      "image/png": "[encoded data removed]",
      "text/plain": [
       "<matplotlib.figure.Figure at 0x7faeb1210290>"
      ]
     },
     "metadata": {},
     "output_type": "display_data"
    }
   ],
   "source": [
    "import pylab as pl\n",
    "%pylab inline\n",
    "\n",
    "citi_docs.plot()"
   ]
  },
  {
   "cell_type": "code",
   "execution_count": 16,
   "metadata": {
    "collapsed": false
   },
   "outputs": [
    {
     "data": {
      "text/html": [
       "<div>\n",
       "<table border=\"1\" class=\"dataframe\">\n",
       "  <thead>\n",
       "    <tr style=\"text-align: right;\">\n",
       "      <th></th>\n",
       "      <th>BCTCB2010</th>\n",
       "      <th>geometry</th>\n",
       "    </tr>\n",
       "  </thead>\n",
       "  <tbody>\n",
       "    <tr>\n",
       "      <th>30620</th>\n",
       "      <td>360610087001000</td>\n",
       "      <td>POLYGON ((986109.4495849601 209692.657849005, ...</td>\n",
       "    </tr>\n",
       "    <tr>\n",
       "      <th>30621</th>\n",
       "      <td>360610058001009</td>\n",
       "      <td>POLYGON ((987001.6940307618 209199.4242064266,...</td>\n",
       "    </tr>\n",
       "    <tr>\n",
       "      <th>30675</th>\n",
       "      <td>360610087001001</td>\n",
       "      <td>POLYGON ((985986.4846191395 209469.6488158047,...</td>\n",
       "    </tr>\n",
       "    <tr>\n",
       "      <th>35478</th>\n",
       "      <td>360610054001000</td>\n",
       "      <td>POLYGON ((986877.6326293944 208974.0506102334,...</td>\n",
       "    </tr>\n",
       "  </tbody>\n",
       "</table>\n",
       "</div>"
      ],
      "text/plain": [
       "             BCTCB2010                                           geometry\n",
       "30620  360610087001000  POLYGON ((986109.4495849601 209692.657849005, ...\n",
       "30621  360610058001009  POLYGON ((987001.6940307618 209199.4242064266,...\n",
       "30675  360610087001001  POLYGON ((985986.4846191395 209469.6488158047,...\n",
       "35478  360610054001000  POLYGON ((986877.6326293944 208974.0506102334,..."
      ]
     },
     "execution_count": 16,
     "metadata": {},
     "output_type": "execute_result"
    }
   ],
   "source": [
    "\n",
    "manshp[manshp.geometry.intersects(citi_docs.iloc[50].geometry.buffer(150))]"
   ]
  },
  {
   "cell_type": "code",
   "execution_count": 17,
   "metadata": {
    "collapsed": false
   },
   "outputs": [
    {
     "name": "stdout",
     "output_type": "stream",
     "text": [
      "% 100.\n"
     ]
    }
   ],
   "source": [
    "# check for each citibike stations to see what CB they belong to\n",
    "a = []\n",
    "citi_docs['tracts'] = 0\n",
    "for i in range(len(citi_docks)):\n",
    "    # includes stations not in Manhattan, return 0 for CB. \n",
    "    try: \n",
    "        a.append([k for k in manshp[manshp.geometry.intersects(citi_docs.iloc[i].geometry.buffer(150))].BCTCB2010])\n",
    "    except: \n",
    "        a.append(0)\n",
    "    print '\\r',\"%\",str((i+1)*100./len(citi_docks))[:4],\n",
    "citi_docs['tracts']=a\n",
    "citi_docs = citi_docs.reindex()"
   ]
  },
  {
   "cell_type": "code",
   "execution_count": 18,
   "metadata": {
    "collapsed": false
   },
   "outputs": [
    {
     "data": {
      "text/html": [
       "<div>\n",
       "<table border=\"1\" class=\"dataframe\">\n",
       "  <thead>\n",
       "    <tr style=\"text-align: right;\">\n",
       "      <th></th>\n",
       "      <th>station_id</th>\n",
       "      <th>n_rides</th>\n",
       "      <th>geometry</th>\n",
       "      <th>tracts</th>\n",
       "    </tr>\n",
       "  </thead>\n",
       "  <tbody>\n",
       "    <tr>\n",
       "      <th>0</th>\n",
       "      <td>302.0</td>\n",
       "      <td>5223</td>\n",
       "      <td>POINT (990367.1991470763 201894.5034764804)</td>\n",
       "      <td>[360610026011002, 360610020002004, 36061002000...</td>\n",
       "    </tr>\n",
       "    <tr>\n",
       "      <th>1</th>\n",
       "      <td>488.0</td>\n",
       "      <td>14647</td>\n",
       "      <td>POINT (985989.2338921009 214874.8949317572)</td>\n",
       "      <td>[360610115001002, 360610115001003, 36061011500...</td>\n",
       "    </tr>\n",
       "    <tr>\n",
       "      <th>2</th>\n",
       "      <td>502.0</td>\n",
       "      <td>8616</td>\n",
       "      <td>POINT (989421.2936561276 199484.8415778317)</td>\n",
       "      <td>[360610002021000, 360610002021002, 36061000202...</td>\n",
       "    </tr>\n",
       "    <tr>\n",
       "      <th>3</th>\n",
       "      <td>487.0</td>\n",
       "      <td>8969</td>\n",
       "      <td>POINT (990973.8184738184 206381.12757902)</td>\n",
       "      <td>[360610060003002, 360610044002000, 36061006000...</td>\n",
       "    </tr>\n",
       "    <tr>\n",
       "      <th>4</th>\n",
       "      <td>128.0</td>\n",
       "      <td>14414</td>\n",
       "      <td>POINT (983426.5668231647 204179.6463416842)</td>\n",
       "      <td>[360610037003001, 360610037002005, 36061004900...</td>\n",
       "    </tr>\n",
       "  </tbody>\n",
       "</table>\n",
       "</div>"
      ],
      "text/plain": [
       "   station_id  n_rides                                     geometry  \\\n",
       "0       302.0     5223  POINT (990367.1991470763 201894.5034764804)   \n",
       "1       488.0    14647  POINT (985989.2338921009 214874.8949317572)   \n",
       "2       502.0     8616  POINT (989421.2936561276 199484.8415778317)   \n",
       "3       487.0     8969    POINT (990973.8184738184 206381.12757902)   \n",
       "4       128.0    14414  POINT (983426.5668231647 204179.6463416842)   \n",
       "\n",
       "                                              tracts  \n",
       "0  [360610026011002, 360610020002004, 36061002000...  \n",
       "1  [360610115001002, 360610115001003, 36061011500...  \n",
       "2  [360610002021000, 360610002021002, 36061000202...  \n",
       "3  [360610060003002, 360610044002000, 36061006000...  \n",
       "4  [360610037003001, 360610037002005, 36061004900...  "
      ]
     },
     "execution_count": 18,
     "metadata": {},
     "output_type": "execute_result"
    }
   ],
   "source": [
    "\n",
    "citi_docs.head()"
   ]
  },
  {
   "cell_type": "code",
   "execution_count": 19,
   "metadata": {
    "collapsed": false
   },
   "outputs": [],
   "source": [
    "df = gp.read_file('data/cb_dist/cb_dist.shp')\n",
    "df['BCTCB2010'] = df['BCTCB2010'].astype('int')\n",
    "demo = pd.read_csv('data/demo.csv')"
   ]
  },
  {
   "cell_type": "code",
   "execution_count": 20,
   "metadata": {
    "collapsed": false,
    "scrolled": false
   },
   "outputs": [
    {
     "data": {
      "text/html": [
       "<div>\n",
       "<table border=\"1\" class=\"dataframe\">\n",
       "  <thead>\n",
       "    <tr style=\"text-align: right;\">\n",
       "      <th></th>\n",
       "      <th>geoid</th>\n",
       "      <th>geometry</th>\n",
       "      <th>BCTCB2010</th>\n",
       "      <th>dist_tohom</th>\n",
       "      <th>dist_towor</th>\n",
       "      <th>residents</th>\n",
       "      <th>workers</th>\n",
       "    </tr>\n",
       "  </thead>\n",
       "  <tbody>\n",
       "    <tr>\n",
       "      <th>0</th>\n",
       "      <td>360610001001</td>\n",
       "      <td>POLYGON ((972081.788024904 190733.467053102, 9...</td>\n",
       "      <td>3.606100e+14</td>\n",
       "      <td>6.260197</td>\n",
       "      <td>5.989905</td>\n",
       "      <td>74.00</td>\n",
       "      <td>7.0</td>\n",
       "    </tr>\n",
       "    <tr>\n",
       "      <th>1</th>\n",
       "      <td>360610002011</td>\n",
       "      <td>POLYGON ((988376.7305908195 199328.6176268376,...</td>\n",
       "      <td>3.606100e+14</td>\n",
       "      <td>2.055703</td>\n",
       "      <td>2.408299</td>\n",
       "      <td>248.00</td>\n",
       "      <td>26.0</td>\n",
       "    </tr>\n",
       "    <tr>\n",
       "      <th>2</th>\n",
       "      <td>360610002012</td>\n",
       "      <td>POLYGON ((988468.3774414052 198396.6901976364,...</td>\n",
       "      <td>3.606100e+14</td>\n",
       "      <td>2.783791</td>\n",
       "      <td>2.267989</td>\n",
       "      <td>205.00</td>\n",
       "      <td>28.0</td>\n",
       "    </tr>\n",
       "    <tr>\n",
       "      <th>3</th>\n",
       "      <td>360610002021</td>\n",
       "      <td>POLYGON ((989558.0010375988 199244.3396117, 98...</td>\n",
       "      <td>3.606100e+14</td>\n",
       "      <td>3.254623</td>\n",
       "      <td>2.934503</td>\n",
       "      <td>38.00</td>\n",
       "      <td>53.5</td>\n",
       "    </tr>\n",
       "    <tr>\n",
       "      <th>4</th>\n",
       "      <td>360610002022</td>\n",
       "      <td>POLYGON ((988892.5104370133 198246.2443968568,...</td>\n",
       "      <td>3.606100e+14</td>\n",
       "      <td>1.524783</td>\n",
       "      <td>2.292209</td>\n",
       "      <td>83.75</td>\n",
       "      <td>5.5</td>\n",
       "    </tr>\n",
       "  </tbody>\n",
       "</table>\n",
       "</div>"
      ],
      "text/plain": [
       "          geoid                                           geometry  \\\n",
       "0  360610001001  POLYGON ((972081.788024904 190733.467053102, 9...   \n",
       "1  360610002011  POLYGON ((988376.7305908195 199328.6176268376,...   \n",
       "2  360610002012  POLYGON ((988468.3774414052 198396.6901976364,...   \n",
       "3  360610002021  POLYGON ((989558.0010375988 199244.3396117, 98...   \n",
       "4  360610002022  POLYGON ((988892.5104370133 198246.2443968568,...   \n",
       "\n",
       "      BCTCB2010  dist_tohom  dist_towor  residents  workers  \n",
       "0  3.606100e+14    6.260197    5.989905      74.00      7.0  \n",
       "1  3.606100e+14    2.055703    2.408299     248.00     26.0  \n",
       "2  3.606100e+14    2.783791    2.267989     205.00     28.0  \n",
       "3  3.606100e+14    3.254623    2.934503      38.00     53.5  \n",
       "4  3.606100e+14    1.524783    2.292209      83.75      5.5  "
      ]
     },
     "execution_count": 20,
     "metadata": {},
     "output_type": "execute_result"
    }
   ],
   "source": [
    "df['geoid'] = [i[0:-3] for i in df['BCTCB2010'].astype('str')]\n",
    "df = df.dissolve(by = 'geoid', aggfunc = 'mean', as_index = False)\n",
    "df.head()"
   ]
  },
  {
   "cell_type": "code",
   "execution_count": 21,
   "metadata": {
    "collapsed": false
   },
   "outputs": [],
   "source": [
    "# get station demographics and distance\n",
    "citi_demo = pd.DataFrame()\n",
    "for i in range(len(citi_docs)):\n",
    "    dists = transpose(pd.DataFrame(df[np.in1d(df.geoid, [j[0:-3] for j in citi_docs.tracts.iloc[i]])].mean()))\n",
    "    dists.index = [citi_docs.station_id.iloc[i]]\n",
    "    dems = transpose(pd.DataFrame(demo[np.in1d(demo.geoid.astype('str'), [j[0:-3] for j in citi_docs.tracts.iloc[i]])].mean()))\n",
    "    dems.index = [citi_docs.station_id.iloc[i]]\n",
    "    citi_new = dists.merge(dems, left_index = True, right_index = True)\n",
    "    citi_demo = citi_demo.append(citi_new[['bike','commute_time','dist_tohom','dist_towor',\\\n",
    "                                           'income_pc','no_vehicle_own','no_vehicle_rent','pop','residents', 'workers']])"
   ]
  },
  {
   "cell_type": "code",
   "execution_count": 22,
   "metadata": {
    "collapsed": false
   },
   "outputs": [
    {
     "data": {
      "text/html": [
       "<div>\n",
       "<table border=\"1\" class=\"dataframe\">\n",
       "  <thead>\n",
       "    <tr style=\"text-align: right;\">\n",
       "      <th></th>\n",
       "      <th>bike</th>\n",
       "      <th>commute_time</th>\n",
       "      <th>dist_tohom</th>\n",
       "      <th>dist_towor</th>\n",
       "      <th>income_pc</th>\n",
       "      <th>no_vehicle_own</th>\n",
       "      <th>no_vehicle_rent</th>\n",
       "      <th>pop</th>\n",
       "      <th>residents</th>\n",
       "      <th>workers</th>\n",
       "    </tr>\n",
       "  </thead>\n",
       "  <tbody>\n",
       "    <tr>\n",
       "      <th>302.0</th>\n",
       "      <td>37.500000</td>\n",
       "      <td>751.750000</td>\n",
       "      <td>2.900031</td>\n",
       "      <td>2.009997</td>\n",
       "      <td>35375.000000</td>\n",
       "      <td>39.500000</td>\n",
       "      <td>510.500000</td>\n",
       "      <td>1561.000000</td>\n",
       "      <td>232.000000</td>\n",
       "      <td>24.555556</td>\n",
       "    </tr>\n",
       "    <tr>\n",
       "      <th>488.0</th>\n",
       "      <td>0.000000</td>\n",
       "      <td>636.500000</td>\n",
       "      <td>3.340853</td>\n",
       "      <td>1.241825</td>\n",
       "      <td>63984.000000</td>\n",
       "      <td>112.500000</td>\n",
       "      <td>342.500000</td>\n",
       "      <td>1043.000000</td>\n",
       "      <td>163.958333</td>\n",
       "      <td>256.000000</td>\n",
       "    </tr>\n",
       "    <tr>\n",
       "      <th>502.0</th>\n",
       "      <td>7.666667</td>\n",
       "      <td>407.000000</td>\n",
       "      <td>3.133704</td>\n",
       "      <td>2.381631</td>\n",
       "      <td>32061.666667</td>\n",
       "      <td>166.333333</td>\n",
       "      <td>112.000000</td>\n",
       "      <td>857.000000</td>\n",
       "      <td>206.666667</td>\n",
       "      <td>31.166667</td>\n",
       "    </tr>\n",
       "    <tr>\n",
       "      <th>487.0</th>\n",
       "      <td>14.333333</td>\n",
       "      <td>840.666667</td>\n",
       "      <td>1.032838</td>\n",
       "      <td>1.624516</td>\n",
       "      <td>62840.000000</td>\n",
       "      <td>4.000000</td>\n",
       "      <td>584.333333</td>\n",
       "      <td>1745.333333</td>\n",
       "      <td>346.166667</td>\n",
       "      <td>4.000000</td>\n",
       "    </tr>\n",
       "    <tr>\n",
       "      <th>128.0</th>\n",
       "      <td>12.250000</td>\n",
       "      <td>647.500000</td>\n",
       "      <td>3.216434</td>\n",
       "      <td>1.936163</td>\n",
       "      <td>75221.250000</td>\n",
       "      <td>118.500000</td>\n",
       "      <td>465.750000</td>\n",
       "      <td>1062.000000</td>\n",
       "      <td>130.308333</td>\n",
       "      <td>129.460417</td>\n",
       "    </tr>\n",
       "  </tbody>\n",
       "</table>\n",
       "</div>"
      ],
      "text/plain": [
       "            bike  commute_time  dist_tohom  dist_towor     income_pc  \\\n",
       "302.0  37.500000    751.750000    2.900031    2.009997  35375.000000   \n",
       "488.0   0.000000    636.500000    3.340853    1.241825  63984.000000   \n",
       "502.0   7.666667    407.000000    3.133704    2.381631  32061.666667   \n",
       "487.0  14.333333    840.666667    1.032838    1.624516  62840.000000   \n",
       "128.0  12.250000    647.500000    3.216434    1.936163  75221.250000   \n",
       "\n",
       "       no_vehicle_own  no_vehicle_rent          pop   residents     workers  \n",
       "302.0       39.500000       510.500000  1561.000000  232.000000   24.555556  \n",
       "488.0      112.500000       342.500000  1043.000000  163.958333  256.000000  \n",
       "502.0      166.333333       112.000000   857.000000  206.666667   31.166667  \n",
       "487.0        4.000000       584.333333  1745.333333  346.166667    4.000000  \n",
       "128.0      118.500000       465.750000  1062.000000  130.308333  129.460417  "
      ]
     },
     "execution_count": 22,
     "metadata": {},
     "output_type": "execute_result"
    }
   ],
   "source": [
    "citi_demo.head()"
   ]
  },
  {
   "cell_type": "code",
   "execution_count": 23,
   "metadata": {
    "collapsed": true
   },
   "outputs": [],
   "source": [
    "citi_docs = citi_docs.merge(citi_demo, left_on = 'station_id', right_index = True)"
   ]
  },
  {
   "cell_type": "code",
   "execution_count": 24,
   "metadata": {
    "collapsed": false
   },
   "outputs": [
    {
     "data": {
      "text/html": [
       "<div>\n",
       "<table border=\"1\" class=\"dataframe\">\n",
       "  <thead>\n",
       "    <tr style=\"text-align: right;\">\n",
       "      <th></th>\n",
       "      <th>station_id</th>\n",
       "      <th>n_rides</th>\n",
       "      <th>geometry</th>\n",
       "      <th>bike</th>\n",
       "      <th>commute_time</th>\n",
       "      <th>dist_tohom</th>\n",
       "      <th>dist_towor</th>\n",
       "      <th>income_pc</th>\n",
       "      <th>no_vehicle_own</th>\n",
       "      <th>no_vehicle_rent</th>\n",
       "      <th>pop</th>\n",
       "      <th>residents</th>\n",
       "      <th>workers</th>\n",
       "    </tr>\n",
       "  </thead>\n",
       "  <tbody>\n",
       "    <tr>\n",
       "      <th>0</th>\n",
       "      <td>302.0</td>\n",
       "      <td>5223</td>\n",
       "      <td>POINT (990367.1991470763 201894.5034764804)</td>\n",
       "      <td>37.500000</td>\n",
       "      <td>751.750000</td>\n",
       "      <td>2.900031</td>\n",
       "      <td>2.009997</td>\n",
       "      <td>35375.000000</td>\n",
       "      <td>39.500000</td>\n",
       "      <td>510.500000</td>\n",
       "      <td>1561.000000</td>\n",
       "      <td>232.000000</td>\n",
       "      <td>24.555556</td>\n",
       "    </tr>\n",
       "    <tr>\n",
       "      <th>1</th>\n",
       "      <td>488.0</td>\n",
       "      <td>14647</td>\n",
       "      <td>POINT (985989.2338921009 214874.8949317572)</td>\n",
       "      <td>0.000000</td>\n",
       "      <td>636.500000</td>\n",
       "      <td>3.340853</td>\n",
       "      <td>1.241825</td>\n",
       "      <td>63984.000000</td>\n",
       "      <td>112.500000</td>\n",
       "      <td>342.500000</td>\n",
       "      <td>1043.000000</td>\n",
       "      <td>163.958333</td>\n",
       "      <td>256.000000</td>\n",
       "    </tr>\n",
       "    <tr>\n",
       "      <th>2</th>\n",
       "      <td>502.0</td>\n",
       "      <td>8616</td>\n",
       "      <td>POINT (989421.2936561276 199484.8415778317)</td>\n",
       "      <td>7.666667</td>\n",
       "      <td>407.000000</td>\n",
       "      <td>3.133704</td>\n",
       "      <td>2.381631</td>\n",
       "      <td>32061.666667</td>\n",
       "      <td>166.333333</td>\n",
       "      <td>112.000000</td>\n",
       "      <td>857.000000</td>\n",
       "      <td>206.666667</td>\n",
       "      <td>31.166667</td>\n",
       "    </tr>\n",
       "    <tr>\n",
       "      <th>3</th>\n",
       "      <td>487.0</td>\n",
       "      <td>8969</td>\n",
       "      <td>POINT (990973.8184738184 206381.12757902)</td>\n",
       "      <td>14.333333</td>\n",
       "      <td>840.666667</td>\n",
       "      <td>1.032838</td>\n",
       "      <td>1.624516</td>\n",
       "      <td>62840.000000</td>\n",
       "      <td>4.000000</td>\n",
       "      <td>584.333333</td>\n",
       "      <td>1745.333333</td>\n",
       "      <td>346.166667</td>\n",
       "      <td>4.000000</td>\n",
       "    </tr>\n",
       "    <tr>\n",
       "      <th>4</th>\n",
       "      <td>128.0</td>\n",
       "      <td>14414</td>\n",
       "      <td>POINT (983426.5668231647 204179.6463416842)</td>\n",
       "      <td>12.250000</td>\n",
       "      <td>647.500000</td>\n",
       "      <td>3.216434</td>\n",
       "      <td>1.936163</td>\n",
       "      <td>75221.250000</td>\n",
       "      <td>118.500000</td>\n",
       "      <td>465.750000</td>\n",
       "      <td>1062.000000</td>\n",
       "      <td>130.308333</td>\n",
       "      <td>129.460417</td>\n",
       "    </tr>\n",
       "  </tbody>\n",
       "</table>\n",
       "</div>"
      ],
      "text/plain": [
       "   station_id  n_rides                                     geometry  \\\n",
       "0       302.0     5223  POINT (990367.1991470763 201894.5034764804)   \n",
       "1       488.0    14647  POINT (985989.2338921009 214874.8949317572)   \n",
       "2       502.0     8616  POINT (989421.2936561276 199484.8415778317)   \n",
       "3       487.0     8969    POINT (990973.8184738184 206381.12757902)   \n",
       "4       128.0    14414  POINT (983426.5668231647 204179.6463416842)   \n",
       "\n",
       "        bike  commute_time  dist_tohom  dist_towor     income_pc  \\\n",
       "0  37.500000    751.750000    2.900031    2.009997  35375.000000   \n",
       "1   0.000000    636.500000    3.340853    1.241825  63984.000000   \n",
       "2   7.666667    407.000000    3.133704    2.381631  32061.666667   \n",
       "3  14.333333    840.666667    1.032838    1.624516  62840.000000   \n",
       "4  12.250000    647.500000    3.216434    1.936163  75221.250000   \n",
       "\n",
       "   no_vehicle_own  no_vehicle_rent          pop   residents     workers  \n",
       "0       39.500000       510.500000  1561.000000  232.000000   24.555556  \n",
       "1      112.500000       342.500000  1043.000000  163.958333  256.000000  \n",
       "2      166.333333       112.000000   857.000000  206.666667   31.166667  \n",
       "3        4.000000       584.333333  1745.333333  346.166667    4.000000  \n",
       "4      118.500000       465.750000  1062.000000  130.308333  129.460417  "
      ]
     },
     "execution_count": 24,
     "metadata": {},
     "output_type": "execute_result"
    }
   ],
   "source": [
    "# export final data\n",
    "\n",
    "if not os.path.exists('data/citi_docks/'):\n",
    "    os.makedirs('data/citi_docks/')\n",
    "    \n",
    "citi_docs.drop('tracts',axis = 1, inplace = True)\n",
    "citi_docs.to_file('data/citi_docks/citi_docks.shp')\n",
    "\n",
    "citi_docs.head()\n",
    "#citi_docs.to_csv('data/citi_docks.csv', index = False)"
   ]
  }
 ],
 "metadata": {
  "kernelspec": {
   "display_name": "PUI2016_Python2",
   "language": "python",
   "name": "pui2016_python2"
  },
  "language_info": {
   "codemirror_mode": {
    "name": "ipython",
    "version": 2
   },
   "file_extension": ".py",
   "mimetype": "text/x-python",
   "name": "python",
   "nbconvert_exporter": "python",
   "pygments_lexer": "ipython2",
   "version": "2.7.12"
  }
 },
 "nbformat": 4,
 "nbformat_minor": 0
}
