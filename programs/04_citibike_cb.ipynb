{
 "cells": [
  {
   "cell_type": "code",
   "execution_count": 1,
   "metadata": {
    "collapsed": true
   },
   "outputs": [],
   "source": [
    "import numpy as np\n",
    "import pandas as pd\n",
    "import geopandas as gp\n",
    "import os\n",
    "import subprocess\n",
    "import shapely as shp\n",
    "from datetime import datetime\n",
    "\n",
    "from itertools import compress\n",
    "\n",
    "# make sure we are at the top of the repo\n",
    "wd = subprocess.check_output('git rev-parse --show-toplevel', shell = True)\n",
    "os.chdir(wd[:-1]) #-1 removes \\n"
   ]
  },
  {
   "cell_type": "code",
   "execution_count": 2,
   "metadata": {
    "collapsed": false,
    "scrolled": false
   },
   "outputs": [
    {
     "name": "stderr",
     "output_type": "stream",
     "text": [
      "/opt/rh/anaconda/root/envs/PUI2016_Python2/lib/python2.7/site-packages/ipykernel/__main__.py:11: SettingWithCopyWarning: \n",
      "A value is trying to be set on a copy of a slice from a DataFrame.\n",
      "Try using .loc[row_indexer,col_indexer] = value instead\n",
      "\n",
      "See the caveats in the documentation: http://pandas.pydata.org/pandas-docs/stable/indexing.html#indexing-view-versus-copy\n"
     ]
    }
   ],
   "source": [
    "# read in nyc census block shapefiles\n",
    "nycshp = gp.read_file('data/nycb2010_16c/nycb2010.shp')\n",
    "\n",
    "# set up cooridnate system\n",
    "nycshp = nycshp.to_crs(epsg=4326) # epsg=4326: lat/on | 26918: NAD83/UTM zone 18N | epsg=2263 is US feet\n",
    "\n",
    "# we only need manhattan \n",
    "manshp = nycshp[nycshp.BoroName == 'Manhattan']\n",
    "\n",
    "# add state code 36 and leading digits for county code 06\n",
    "manshp['BCTCB2010'] = '3606' + manshp['BCTCB2010']\n",
    "\n",
    "# keep only what we need\n",
    "manshp = manshp[['BCTCB2010','geometry']]"
   ]
  },
  {
   "cell_type": "code",
   "execution_count": 3,
   "metadata": {
    "collapsed": false
   },
   "outputs": [],
   "source": [
    "# read in 2014 citibike data\n",
    "citi = pd.DataFrame()\n",
    "for m in list(compress(os.listdir('data'), [('citibike' in i) for i in os.listdir('data')])):\n",
    "    citinew = pd.read_csv('data/'+m)\n",
    "    citi = citi.append(citinew, ignore_index = True)\n",
    "#citi = pd.read_csv('data/citibike_201406.csv')"
   ]
  },
  {
   "cell_type": "code",
   "execution_count": 4,
   "metadata": {
    "collapsed": false
   },
   "outputs": [],
   "source": [
    "# keep only stations available all year\n",
    "jan = pd.read_csv('data/citibike_201401.csv')\n",
    "orig_stations = jan['start station id'].unique()\n",
    "\n",
    "citi = citi[np.in1d(citi['start station id'], orig_stations)]"
   ]
  },
  {
   "cell_type": "code",
   "execution_count": 5,
   "metadata": {
    "collapsed": false
   },
   "outputs": [],
   "source": [
    "# keep only subscribers\n",
    "citi = citi[citi['usertype'] == 'Subscriber']"
   ]
  },
  {
   "cell_type": "code",
   "execution_count": 6,
   "metadata": {
    "collapsed": false
   },
   "outputs": [],
   "source": [
    "#Convert starttime to timpstamp format\n",
    "citi['timestamp'] = pd.to_datetime(citi[\"starttime\"])\n",
    "\n",
    "#Pull day of week from timstamp (Mon, Tues etc)\n",
    "citi['dow'] = citi['timestamp'].dt.dayofweek \n",
    "\n",
    "#Only keep weekdays\n",
    "citi = citi[citi['dow'] <= 4]"
   ]
  },
  {
   "cell_type": "code",
   "execution_count": 7,
   "metadata": {
    "collapsed": false
   },
   "outputs": [
    {
     "name": "stderr",
     "output_type": "stream",
     "text": [
      "/opt/rh/anaconda/root/envs/PUI2016_Python2/lib/python2.7/site-packages/ipykernel/__main__.py:4: SettingWithCopyWarning: \n",
      "A value is trying to be set on a copy of a slice from a DataFrame.\n",
      "Try using .loc[row_indexer,col_indexer] = value instead\n",
      "\n",
      "See the caveats in the documentation: http://pandas.pydata.org/pandas-docs/stable/indexing.html#indexing-view-versus-copy\n"
     ]
    }
   ],
   "source": [
    "#Keep only commute hours\n",
    "citi.index = citi.timestamp\n",
    "citi_morning = citi.between_time('7:00:00','10:00:00', include_start=True, include_end=True)\n",
    "citi_morning['morning'] = 1\n",
    "citi_morning = citi_morning.reset_index(drop = True)\n",
    "citi_evening = citi.between_time('16:00:00','19:00:00', include_start=True, include_end=True)\n",
    "citi_evening = citi_evening.reset_index(drop = True)\n",
    "citi_evening['morning'] = 0\n",
    "\n",
    "citi = citi_morning.append(citi_evening, ignore_index = True)"
   ]
  },
  {
   "cell_type": "code",
   "execution_count": 8,
   "metadata": {
    "collapsed": false
   },
   "outputs": [
    {
     "name": "stderr",
     "output_type": "stream",
     "text": [
      "/opt/rh/anaconda/root/envs/PUI2016_Python2/lib/python2.7/site-packages/pandas/util/decorators.py:91: SettingWithCopyWarning: \n",
      "A value is trying to be set on a copy of a slice from a DataFrame\n",
      "\n",
      "See the caveats in the documentation: http://pandas.pydata.org/pandas-docs/stable/indexing.html#indexing-view-versus-copy\n",
      "  return func(*args, **kwargs)\n"
     ]
    }
   ],
   "source": [
    "# dataframe for stations    \n",
    "citi_docks = citi[['start station id','start station name','start station latitude','start station longitude']]\n",
    "citi_docks.columns = ['station_id','name','lat','lon']\n",
    "citi_docks.drop_duplicates(inplace = True)"
   ]
  },
  {
   "cell_type": "code",
   "execution_count": 9,
   "metadata": {
    "collapsed": false
   },
   "outputs": [],
   "source": [
    "# even after dropping duplicates there are some duplicated station ids. Drop them.\n",
    "dups = citi_docks[citi_docks.station_id.duplicated(keep = False)].station_id.unique()\n",
    "citi_docks = citi_docks[[i not in dups for i in citi_docks.station_id]]"
   ]
  },
  {
   "cell_type": "code",
   "execution_count": 10,
   "metadata": {
    "collapsed": false
   },
   "outputs": [],
   "source": [
    "# dataframe for rides per station\n",
    "citi_rides = citi[['start station id', 'morning', 'tripduration']] # keep duration because we need a column to count with\n",
    "citi_rides.columns = ['station_id', 'morning', 'n_rides']\n",
    "citi_rides = citi_rides.groupby(['station_id','morning'], as_index = False).count()"
   ]
  },
  {
   "cell_type": "code",
   "execution_count": 11,
   "metadata": {
    "collapsed": false
   },
   "outputs": [
    {
     "data": {
      "text/html": [
       "<div>\n",
       "<table border=\"1\" class=\"dataframe\">\n",
       "  <thead>\n",
       "    <tr style=\"text-align: right;\">\n",
       "      <th></th>\n",
       "      <th>station_id</th>\n",
       "      <th>morning</th>\n",
       "      <th>n_rides</th>\n",
       "    </tr>\n",
       "  </thead>\n",
       "  <tbody>\n",
       "    <tr>\n",
       "      <th>0</th>\n",
       "      <td>72</td>\n",
       "      <td>0</td>\n",
       "      <td>4260</td>\n",
       "    </tr>\n",
       "    <tr>\n",
       "      <th>1</th>\n",
       "      <td>72</td>\n",
       "      <td>1</td>\n",
       "      <td>5220</td>\n",
       "    </tr>\n",
       "    <tr>\n",
       "      <th>2</th>\n",
       "      <td>79</td>\n",
       "      <td>0</td>\n",
       "      <td>4741</td>\n",
       "    </tr>\n",
       "    <tr>\n",
       "      <th>3</th>\n",
       "      <td>79</td>\n",
       "      <td>1</td>\n",
       "      <td>2326</td>\n",
       "    </tr>\n",
       "    <tr>\n",
       "      <th>4</th>\n",
       "      <td>82</td>\n",
       "      <td>0</td>\n",
       "      <td>1377</td>\n",
       "    </tr>\n",
       "  </tbody>\n",
       "</table>\n",
       "</div>"
      ],
      "text/plain": [
       "   station_id  morning  n_rides\n",
       "0          72        0     4260\n",
       "1          72        1     5220\n",
       "2          79        0     4741\n",
       "3          79        1     2326\n",
       "4          82        0     1377"
      ]
     },
     "execution_count": 11,
     "metadata": {},
     "output_type": "execute_result"
    }
   ],
   "source": [
    "citi_rides.head()"
   ]
  },
  {
   "cell_type": "code",
   "execution_count": 12,
   "metadata": {
    "collapsed": false
   },
   "outputs": [],
   "source": [
    "# merge number of rides into station detail table\n",
    "citi_docks = citi_docks.merge(citi_rides, how = 'outer', left_on = 'station_id', right_on = 'station_id')\n",
    "citi_docks= citi_docks.dropna()"
   ]
  },
  {
   "cell_type": "code",
   "execution_count": 13,
   "metadata": {
    "collapsed": false
   },
   "outputs": [
    {
     "data": {
      "text/html": [
       "<div>\n",
       "<table border=\"1\" class=\"dataframe\">\n",
       "  <thead>\n",
       "    <tr style=\"text-align: right;\">\n",
       "      <th></th>\n",
       "      <th>station_id</th>\n",
       "      <th>morning</th>\n",
       "      <th>n_rides</th>\n",
       "      <th>geometry</th>\n",
       "    </tr>\n",
       "  </thead>\n",
       "  <tbody>\n",
       "    <tr>\n",
       "      <th>0</th>\n",
       "      <td>302.0</td>\n",
       "      <td>0</td>\n",
       "      <td>1253</td>\n",
       "      <td>POINT (-73.97793172 40.72082834)</td>\n",
       "    </tr>\n",
       "    <tr>\n",
       "      <th>1</th>\n",
       "      <td>302.0</td>\n",
       "      <td>1</td>\n",
       "      <td>3970</td>\n",
       "      <td>POINT (-73.97793172 40.72082834)</td>\n",
       "    </tr>\n",
       "    <tr>\n",
       "      <th>2</th>\n",
       "      <td>488.0</td>\n",
       "      <td>0</td>\n",
       "      <td>8988</td>\n",
       "      <td>POINT (-73.99372222 40.75645824)</td>\n",
       "    </tr>\n",
       "    <tr>\n",
       "      <th>3</th>\n",
       "      <td>488.0</td>\n",
       "      <td>1</td>\n",
       "      <td>5659</td>\n",
       "      <td>POINT (-73.99372222 40.75645824)</td>\n",
       "    </tr>\n",
       "    <tr>\n",
       "      <th>4</th>\n",
       "      <td>502.0</td>\n",
       "      <td>0</td>\n",
       "      <td>2822</td>\n",
       "      <td>POINT (-73.981346 40.714215)</td>\n",
       "    </tr>\n",
       "  </tbody>\n",
       "</table>\n",
       "</div>"
      ],
      "text/plain": [
       "   station_id  morning  n_rides                          geometry\n",
       "0       302.0        0     1253  POINT (-73.97793172 40.72082834)\n",
       "1       302.0        1     3970  POINT (-73.97793172 40.72082834)\n",
       "2       488.0        0     8988  POINT (-73.99372222 40.75645824)\n",
       "3       488.0        1     5659  POINT (-73.99372222 40.75645824)\n",
       "4       502.0        0     2822      POINT (-73.981346 40.714215)"
      ]
     },
     "execution_count": 13,
     "metadata": {},
     "output_type": "execute_result"
    }
   ],
   "source": [
    "# combine lat and lon to one column\n",
    "citi_docks['lonlat']=zip(citi_docks.lon, citi_docks.lat)\n",
    "# Create Point Geometry for based on lonlat column\n",
    "citi_docks['geometry']=citi_docks[['lonlat']].applymap(lambda x:shp.geometry.Point(x))\n",
    "citi_docks = citi_docks[['station_id', 'morning', 'n_rides', 'geometry']]\n",
    "citi_docks.head()"
   ]
  },
  {
   "cell_type": "code",
   "execution_count": 14,
   "metadata": {
    "collapsed": false
   },
   "outputs": [],
   "source": [
    "# buffer around each point\n",
    "\n",
    "citi_docs = gp.GeoDataFrame(citi_docks, geometry = 'geometry')\n",
    "citi_docs.crs = {'init' :'epsg:4326'}\n",
    "citi_docs = citi_docs.to_crs(epsg=2263) # epsg=4326: lat/on | 26918: NAD83/UTM zone 18N | epsg=2263 is US feet\n",
    "manshp = manshp.to_crs(epsg=2263)"
   ]
  },
  {
   "cell_type": "code",
   "execution_count": 15,
   "metadata": {
    "collapsed": false
   },
   "outputs": [
    {
     "name": "stdout",
     "output_type": "stream",
     "text": [
      "Populating the interactive namespace from numpy and matplotlib\n"
     ]
    },
    {
     "name": "stderr",
     "output_type": "stream",
     "text": [
      "/opt/rh/anaconda/root/envs/PUI2016_Python2/lib/python2.7/site-packages/IPython/core/magics/pylab.py:161: UserWarning: pylab import has clobbered these variables: ['compress', 'datetime']\n",
      "`%matplotlib` prevents importing * from pylab and numpy\n",
      "  \"\\n`%matplotlib` prevents importing * from pylab and numpy\"\n"
     ]
    },
    {
     "data": {
      "text/plain": [
       "<matplotlib.axes._subplots.AxesSubplot at 0x7f169afd4c90>"
      ]
     },
     "execution_count": 15,
     "metadata": {},
     "output_type": "execute_result"
    },
    {
     "data": {
      "image/png": "[encoded data removed]",
      "text/plain": [
       "<matplotlib.figure.Figure at 0x7f169afd4410>"
      ]
     },
     "metadata": {},
     "output_type": "display_data"
    }
   ],
   "source": [
    "import pylab as pl\n",
    "%pylab inline\n",
    "\n",
    "citi_docs.plot()"
   ]
  },
  {
   "cell_type": "code",
   "execution_count": 16,
   "metadata": {
    "collapsed": false
   },
   "outputs": [
    {
     "data": {
      "text/html": [
       "<div>\n",
       "<table border=\"1\" class=\"dataframe\">\n",
       "  <thead>\n",
       "    <tr style=\"text-align: right;\">\n",
       "      <th></th>\n",
       "      <th>BCTCB2010</th>\n",
       "      <th>geometry</th>\n",
       "    </tr>\n",
       "  </thead>\n",
       "  <tbody>\n",
       "    <tr>\n",
       "      <th>4251</th>\n",
       "      <td>360610131002003</td>\n",
       "      <td>POLYGON ((988899.8724365254 217151.9670531051,...</td>\n",
       "    </tr>\n",
       "    <tr>\n",
       "      <th>4975</th>\n",
       "      <td>360610133005001</td>\n",
       "      <td>POLYGON ((988478.911987305 217684.5218016348, ...</td>\n",
       "    </tr>\n",
       "    <tr>\n",
       "      <th>30598</th>\n",
       "      <td>360610131002002</td>\n",
       "      <td>POLYGON ((989009.8132324214 217391.6322142391,...</td>\n",
       "    </tr>\n",
       "    <tr>\n",
       "      <th>30648</th>\n",
       "      <td>360610133002000</td>\n",
       "      <td>POLYGON ((988352.1932373054 217456.6352049588,...</td>\n",
       "    </tr>\n",
       "  </tbody>\n",
       "</table>\n",
       "</div>"
      ],
      "text/plain": [
       "             BCTCB2010                                           geometry\n",
       "4251   360610131002003  POLYGON ((988899.8724365254 217151.9670531051,...\n",
       "4975   360610133005001  POLYGON ((988478.911987305 217684.5218016348, ...\n",
       "30598  360610131002002  POLYGON ((989009.8132324214 217391.6322142391,...\n",
       "30648  360610133002000  POLYGON ((988352.1932373054 217456.6352049588,..."
      ]
     },
     "execution_count": 16,
     "metadata": {},
     "output_type": "execute_result"
    }
   ],
   "source": [
    "\n",
    "manshp[manshp.geometry.intersects(citi_docs.iloc[50].geometry.buffer(150))]"
   ]
  },
  {
   "cell_type": "code",
   "execution_count": 17,
   "metadata": {
    "collapsed": false
   },
   "outputs": [
    {
     "name": "stdout",
     "output_type": "stream",
     "text": [
      "% 100.\n"
     ]
    }
   ],
   "source": [
    "# check for each citibike stations to see what CB they belong to\n",
    "a = []\n",
    "citi_docs['tracts'] = 0\n",
    "for i in range(len(citi_docks)):\n",
    "    # includes stations not in Manhattan, return 0 for CB. \n",
    "    try: \n",
    "        a.append([k for k in manshp[manshp.geometry.intersects(citi_docs.iloc[i].geometry.buffer(150))].BCTCB2010])\n",
    "    except: \n",
    "        a.append(0)\n",
    "    print '\\r',\"%\",str((i+1)*100./len(citi_docks))[:4],\n",
    "citi_docs['tracts']=a\n",
    "citi_docs = citi_docs.reindex()"
   ]
  },
  {
   "cell_type": "code",
   "execution_count": 18,
   "metadata": {
    "collapsed": false
   },
   "outputs": [
    {
     "data": {
      "text/html": [
       "<div>\n",
       "<table border=\"1\" class=\"dataframe\">\n",
       "  <thead>\n",
       "    <tr style=\"text-align: right;\">\n",
       "      <th></th>\n",
       "      <th>station_id</th>\n",
       "      <th>morning</th>\n",
       "      <th>n_rides</th>\n",
       "      <th>geometry</th>\n",
       "      <th>tracts</th>\n",
       "    </tr>\n",
       "  </thead>\n",
       "  <tbody>\n",
       "    <tr>\n",
       "      <th>0</th>\n",
       "      <td>302.0</td>\n",
       "      <td>0</td>\n",
       "      <td>1253</td>\n",
       "      <td>POINT (990367.1991470763 201894.5034764804)</td>\n",
       "      <td>[360610026011002, 360610020002004, 36061002000...</td>\n",
       "    </tr>\n",
       "    <tr>\n",
       "      <th>1</th>\n",
       "      <td>302.0</td>\n",
       "      <td>1</td>\n",
       "      <td>3970</td>\n",
       "      <td>POINT (990367.1991470763 201894.5034764804)</td>\n",
       "      <td>[360610026011002, 360610020002004, 36061002000...</td>\n",
       "    </tr>\n",
       "    <tr>\n",
       "      <th>2</th>\n",
       "      <td>488.0</td>\n",
       "      <td>0</td>\n",
       "      <td>8988</td>\n",
       "      <td>POINT (985989.2338921009 214874.8949317572)</td>\n",
       "      <td>[360610115001002, 360610115001003, 36061011500...</td>\n",
       "    </tr>\n",
       "    <tr>\n",
       "      <th>3</th>\n",
       "      <td>488.0</td>\n",
       "      <td>1</td>\n",
       "      <td>5659</td>\n",
       "      <td>POINT (985989.2338921009 214874.8949317572)</td>\n",
       "      <td>[360610115001002, 360610115001003, 36061011500...</td>\n",
       "    </tr>\n",
       "    <tr>\n",
       "      <th>4</th>\n",
       "      <td>502.0</td>\n",
       "      <td>0</td>\n",
       "      <td>2822</td>\n",
       "      <td>POINT (989421.2936561276 199484.8415778317)</td>\n",
       "      <td>[360610002021000, 360610002021002, 36061000202...</td>\n",
       "    </tr>\n",
       "  </tbody>\n",
       "</table>\n",
       "</div>"
      ],
      "text/plain": [
       "   station_id  morning  n_rides                                     geometry  \\\n",
       "0       302.0        0     1253  POINT (990367.1991470763 201894.5034764804)   \n",
       "1       302.0        1     3970  POINT (990367.1991470763 201894.5034764804)   \n",
       "2       488.0        0     8988  POINT (985989.2338921009 214874.8949317572)   \n",
       "3       488.0        1     5659  POINT (985989.2338921009 214874.8949317572)   \n",
       "4       502.0        0     2822  POINT (989421.2936561276 199484.8415778317)   \n",
       "\n",
       "                                              tracts  \n",
       "0  [360610026011002, 360610020002004, 36061002000...  \n",
       "1  [360610026011002, 360610020002004, 36061002000...  \n",
       "2  [360610115001002, 360610115001003, 36061011500...  \n",
       "3  [360610115001002, 360610115001003, 36061011500...  \n",
       "4  [360610002021000, 360610002021002, 36061000202...  "
      ]
     },
     "execution_count": 18,
     "metadata": {},
     "output_type": "execute_result"
    }
   ],
   "source": [
    "\n",
    "citi_docs.head()"
   ]
  },
  {
   "cell_type": "code",
   "execution_count": 19,
   "metadata": {
    "collapsed": false
   },
   "outputs": [],
   "source": [
    "df = gp.read_file('data/cb_dist/cb_dist.shp')\n",
    "df['BCTCB2010'] = df['BCTCB2010'].astype('int')\n",
    "demo = pd.read_csv('data/demo.csv')"
   ]
  },
  {
   "cell_type": "code",
   "execution_count": 20,
   "metadata": {
    "collapsed": false,
    "scrolled": false
   },
   "outputs": [
    {
     "data": {
      "text/html": [
       "<div>\n",
       "<table border=\"1\" class=\"dataframe\">\n",
       "  <thead>\n",
       "    <tr style=\"text-align: right;\">\n",
       "      <th></th>\n",
       "      <th>geoid</th>\n",
       "      <th>geometry</th>\n",
       "      <th>BCTCB2010</th>\n",
       "      <th>dist_tohom</th>\n",
       "      <th>dist_towor</th>\n",
       "      <th>residents</th>\n",
       "      <th>workers</th>\n",
       "    </tr>\n",
       "  </thead>\n",
       "  <tbody>\n",
       "    <tr>\n",
       "      <th>0</th>\n",
       "      <td>360610001001</td>\n",
       "      <td>POLYGON ((972081.788024904 190733.467053102, 9...</td>\n",
       "      <td>3.606100e+14</td>\n",
       "      <td>6.260197</td>\n",
       "      <td>5.989905</td>\n",
       "      <td>74.00</td>\n",
       "      <td>7.0</td>\n",
       "    </tr>\n",
       "    <tr>\n",
       "      <th>1</th>\n",
       "      <td>360610002011</td>\n",
       "      <td>POLYGON ((988376.7305908195 199328.6176268376,...</td>\n",
       "      <td>3.606100e+14</td>\n",
       "      <td>2.055703</td>\n",
       "      <td>2.408299</td>\n",
       "      <td>248.00</td>\n",
       "      <td>26.0</td>\n",
       "    </tr>\n",
       "    <tr>\n",
       "      <th>2</th>\n",
       "      <td>360610002012</td>\n",
       "      <td>POLYGON ((988468.3774414052 198396.6901976364,...</td>\n",
       "      <td>3.606100e+14</td>\n",
       "      <td>2.783791</td>\n",
       "      <td>2.267989</td>\n",
       "      <td>205.00</td>\n",
       "      <td>28.0</td>\n",
       "    </tr>\n",
       "    <tr>\n",
       "      <th>3</th>\n",
       "      <td>360610002021</td>\n",
       "      <td>POLYGON ((989558.0010375988 199244.3396117, 98...</td>\n",
       "      <td>3.606100e+14</td>\n",
       "      <td>3.254623</td>\n",
       "      <td>2.934503</td>\n",
       "      <td>38.00</td>\n",
       "      <td>53.5</td>\n",
       "    </tr>\n",
       "    <tr>\n",
       "      <th>4</th>\n",
       "      <td>360610002022</td>\n",
       "      <td>POLYGON ((988892.5104370133 198246.2443968568,...</td>\n",
       "      <td>3.606100e+14</td>\n",
       "      <td>1.524783</td>\n",
       "      <td>2.292209</td>\n",
       "      <td>83.75</td>\n",
       "      <td>5.5</td>\n",
       "    </tr>\n",
       "  </tbody>\n",
       "</table>\n",
       "</div>"
      ],
      "text/plain": [
       "          geoid                                           geometry  \\\n",
       "0  360610001001  POLYGON ((972081.788024904 190733.467053102, 9...   \n",
       "1  360610002011  POLYGON ((988376.7305908195 199328.6176268376,...   \n",
       "2  360610002012  POLYGON ((988468.3774414052 198396.6901976364,...   \n",
       "3  360610002021  POLYGON ((989558.0010375988 199244.3396117, 98...   \n",
       "4  360610002022  POLYGON ((988892.5104370133 198246.2443968568,...   \n",
       "\n",
       "      BCTCB2010  dist_tohom  dist_towor  residents  workers  \n",
       "0  3.606100e+14    6.260197    5.989905      74.00      7.0  \n",
       "1  3.606100e+14    2.055703    2.408299     248.00     26.0  \n",
       "2  3.606100e+14    2.783791    2.267989     205.00     28.0  \n",
       "3  3.606100e+14    3.254623    2.934503      38.00     53.5  \n",
       "4  3.606100e+14    1.524783    2.292209      83.75      5.5  "
      ]
     },
     "execution_count": 20,
     "metadata": {},
     "output_type": "execute_result"
    }
   ],
   "source": [
    "df['geoid'] = [i[0:-3] for i in df['BCTCB2010'].astype('str')]\n",
    "df = df.dissolve(by = 'geoid', aggfunc = 'mean', as_index = False)\n",
    "df.head()"
   ]
  },
  {
   "cell_type": "code",
   "execution_count": 21,
   "metadata": {
    "collapsed": false
   },
   "outputs": [
    {
     "data": {
      "text/html": [
       "<div>\n",
       "<table border=\"1\" class=\"dataframe\">\n",
       "  <thead>\n",
       "    <tr style=\"text-align: right;\">\n",
       "      <th></th>\n",
       "      <th>geoid</th>\n",
       "      <th>pop</th>\n",
       "      <th>bike</th>\n",
       "      <th>commute_time</th>\n",
       "      <th>income_pc</th>\n",
       "      <th>no_vehicle_rent</th>\n",
       "      <th>no_vehicle_own</th>\n",
       "    </tr>\n",
       "  </thead>\n",
       "  <tbody>\n",
       "    <tr>\n",
       "      <th>0</th>\n",
       "      <td>360594144003</td>\n",
       "      <td>870</td>\n",
       "      <td>0</td>\n",
       "      <td>312</td>\n",
       "      <td>8291.0</td>\n",
       "      <td>97</td>\n",
       "      <td>0</td>\n",
       "    </tr>\n",
       "    <tr>\n",
       "      <th>1</th>\n",
       "      <td>360594141002</td>\n",
       "      <td>1569</td>\n",
       "      <td>0</td>\n",
       "      <td>674</td>\n",
       "      <td>24402.0</td>\n",
       "      <td>0</td>\n",
       "      <td>0</td>\n",
       "    </tr>\n",
       "    <tr>\n",
       "      <th>2</th>\n",
       "      <td>360594136001</td>\n",
       "      <td>965</td>\n",
       "      <td>0</td>\n",
       "      <td>428</td>\n",
       "      <td>31416.0</td>\n",
       "      <td>0</td>\n",
       "      <td>25</td>\n",
       "    </tr>\n",
       "    <tr>\n",
       "      <th>3</th>\n",
       "      <td>360594142024</td>\n",
       "      <td>1028</td>\n",
       "      <td>0</td>\n",
       "      <td>456</td>\n",
       "      <td>20567.0</td>\n",
       "      <td>60</td>\n",
       "      <td>0</td>\n",
       "    </tr>\n",
       "    <tr>\n",
       "      <th>4</th>\n",
       "      <td>360594142022</td>\n",
       "      <td>1197</td>\n",
       "      <td>0</td>\n",
       "      <td>621</td>\n",
       "      <td>16936.0</td>\n",
       "      <td>41</td>\n",
       "      <td>0</td>\n",
       "    </tr>\n",
       "  </tbody>\n",
       "</table>\n",
       "</div>"
      ],
      "text/plain": [
       "          geoid   pop  bike  commute_time  income_pc  no_vehicle_rent  \\\n",
       "0  360594144003   870     0           312     8291.0               97   \n",
       "1  360594141002  1569     0           674    24402.0                0   \n",
       "2  360594136001   965     0           428    31416.0                0   \n",
       "3  360594142024  1028     0           456    20567.0               60   \n",
       "4  360594142022  1197     0           621    16936.0               41   \n",
       "\n",
       "   no_vehicle_own  \n",
       "0               0  \n",
       "1               0  \n",
       "2              25  \n",
       "3               0  \n",
       "4               0  "
      ]
     },
     "execution_count": 21,
     "metadata": {},
     "output_type": "execute_result"
    }
   ],
   "source": [
    "demo.head()"
   ]
  },
  {
   "cell_type": "code",
   "execution_count": 22,
   "metadata": {
    "collapsed": false
   },
   "outputs": [],
   "source": [
    "# get station demographics and distance\n",
    "citi_demo = pd.DataFrame()\n",
    "for i in range(0,len(citi_docs),2):\n",
    "    dists = transpose(pd.DataFrame(df[np.in1d(df.geoid, [j[0:-3] for j in citi_docs.tracts.iloc[i]])].mean()))\n",
    "    dists.index = [citi_docs.station_id.iloc[i]]\n",
    "    dems = transpose(pd.DataFrame(demo[np.in1d(demo.geoid.astype('str'), [j[0:-3] for j in citi_docs.tracts.iloc[i]])].mean()))\n",
    "    dems.index = [citi_docs.station_id.iloc[i]]\n",
    "    citi_new = dists.merge(dems, left_index = True, right_index = True)\n",
    "    citi_demo = citi_demo.append(citi_new[['bike','commute_time','dist_tohom','dist_towor',\\\n",
    "                                           'income_pc','no_vehicle_own','no_vehicle_rent','pop','residents', 'workers']])"
   ]
  },
  {
   "cell_type": "code",
   "execution_count": 24,
   "metadata": {
    "collapsed": false
   },
   "outputs": [
    {
     "data": {
      "text/html": [
       "<div>\n",
       "<table border=\"1\" class=\"dataframe\">\n",
       "  <thead>\n",
       "    <tr style=\"text-align: right;\">\n",
       "      <th></th>\n",
       "      <th>bike</th>\n",
       "      <th>commute_time</th>\n",
       "      <th>dist_tohom</th>\n",
       "      <th>dist_towor</th>\n",
       "      <th>income_pc</th>\n",
       "      <th>no_vehicle_own</th>\n",
       "      <th>no_vehicle_rent</th>\n",
       "      <th>pop</th>\n",
       "      <th>residents</th>\n",
       "      <th>workers</th>\n",
       "    </tr>\n",
       "  </thead>\n",
       "  <tbody>\n",
       "    <tr>\n",
       "      <th>302.0</th>\n",
       "      <td>37.500000</td>\n",
       "      <td>751.750000</td>\n",
       "      <td>2.900031</td>\n",
       "      <td>2.009997</td>\n",
       "      <td>35375.000000</td>\n",
       "      <td>39.500000</td>\n",
       "      <td>510.500000</td>\n",
       "      <td>1561.000000</td>\n",
       "      <td>232.000000</td>\n",
       "      <td>24.555556</td>\n",
       "    </tr>\n",
       "    <tr>\n",
       "      <th>488.0</th>\n",
       "      <td>0.000000</td>\n",
       "      <td>636.500000</td>\n",
       "      <td>3.340853</td>\n",
       "      <td>1.241825</td>\n",
       "      <td>63984.000000</td>\n",
       "      <td>112.500000</td>\n",
       "      <td>342.500000</td>\n",
       "      <td>1043.000000</td>\n",
       "      <td>163.958333</td>\n",
       "      <td>256.000000</td>\n",
       "    </tr>\n",
       "    <tr>\n",
       "      <th>502.0</th>\n",
       "      <td>7.666667</td>\n",
       "      <td>407.000000</td>\n",
       "      <td>3.133704</td>\n",
       "      <td>2.381631</td>\n",
       "      <td>32061.666667</td>\n",
       "      <td>166.333333</td>\n",
       "      <td>112.000000</td>\n",
       "      <td>857.000000</td>\n",
       "      <td>206.666667</td>\n",
       "      <td>31.166667</td>\n",
       "    </tr>\n",
       "    <tr>\n",
       "      <th>487.0</th>\n",
       "      <td>14.333333</td>\n",
       "      <td>840.666667</td>\n",
       "      <td>1.032838</td>\n",
       "      <td>1.624516</td>\n",
       "      <td>62840.000000</td>\n",
       "      <td>4.000000</td>\n",
       "      <td>584.333333</td>\n",
       "      <td>1745.333333</td>\n",
       "      <td>346.166667</td>\n",
       "      <td>4.000000</td>\n",
       "    </tr>\n",
       "    <tr>\n",
       "      <th>128.0</th>\n",
       "      <td>12.250000</td>\n",
       "      <td>647.500000</td>\n",
       "      <td>3.216434</td>\n",
       "      <td>1.936163</td>\n",
       "      <td>75221.250000</td>\n",
       "      <td>118.500000</td>\n",
       "      <td>465.750000</td>\n",
       "      <td>1062.000000</td>\n",
       "      <td>130.308333</td>\n",
       "      <td>129.460417</td>\n",
       "    </tr>\n",
       "  </tbody>\n",
       "</table>\n",
       "</div>"
      ],
      "text/plain": [
       "            bike  commute_time  dist_tohom  dist_towor     income_pc  \\\n",
       "302.0  37.500000    751.750000    2.900031    2.009997  35375.000000   \n",
       "488.0   0.000000    636.500000    3.340853    1.241825  63984.000000   \n",
       "502.0   7.666667    407.000000    3.133704    2.381631  32061.666667   \n",
       "487.0  14.333333    840.666667    1.032838    1.624516  62840.000000   \n",
       "128.0  12.250000    647.500000    3.216434    1.936163  75221.250000   \n",
       "\n",
       "       no_vehicle_own  no_vehicle_rent          pop   residents     workers  \n",
       "302.0       39.500000       510.500000  1561.000000  232.000000   24.555556  \n",
       "488.0      112.500000       342.500000  1043.000000  163.958333  256.000000  \n",
       "502.0      166.333333       112.000000   857.000000  206.666667   31.166667  \n",
       "487.0        4.000000       584.333333  1745.333333  346.166667    4.000000  \n",
       "128.0      118.500000       465.750000  1062.000000  130.308333  129.460417  "
      ]
     },
     "execution_count": 24,
     "metadata": {},
     "output_type": "execute_result"
    }
   ],
   "source": [
    "citi_demo.head()"
   ]
  },
  {
   "cell_type": "code",
   "execution_count": 25,
   "metadata": {
    "collapsed": true
   },
   "outputs": [],
   "source": [
    "citi_docs = citi_docs.merge(citi_demo, left_on = 'station_id', right_index = True)"
   ]
  },
  {
   "cell_type": "code",
   "execution_count": 26,
   "metadata": {
    "collapsed": false
   },
   "outputs": [
    {
     "data": {
      "text/html": [
       "<div>\n",
       "<table border=\"1\" class=\"dataframe\">\n",
       "  <thead>\n",
       "    <tr style=\"text-align: right;\">\n",
       "      <th></th>\n",
       "      <th>station_id</th>\n",
       "      <th>morning</th>\n",
       "      <th>n_rides</th>\n",
       "      <th>geometry</th>\n",
       "      <th>bike</th>\n",
       "      <th>commute_time</th>\n",
       "      <th>dist_tohom</th>\n",
       "      <th>dist_towor</th>\n",
       "      <th>income_pc</th>\n",
       "      <th>no_vehicle_own</th>\n",
       "      <th>no_vehicle_rent</th>\n",
       "      <th>pop</th>\n",
       "      <th>residents</th>\n",
       "      <th>workers</th>\n",
       "    </tr>\n",
       "  </thead>\n",
       "  <tbody>\n",
       "    <tr>\n",
       "      <th>0</th>\n",
       "      <td>302.0</td>\n",
       "      <td>0</td>\n",
       "      <td>1253</td>\n",
       "      <td>POINT (990367.1991470763 201894.5034764804)</td>\n",
       "      <td>37.500000</td>\n",
       "      <td>751.75</td>\n",
       "      <td>2.900031</td>\n",
       "      <td>2.009997</td>\n",
       "      <td>35375.000000</td>\n",
       "      <td>39.500000</td>\n",
       "      <td>510.5</td>\n",
       "      <td>1561.0</td>\n",
       "      <td>232.000000</td>\n",
       "      <td>24.555556</td>\n",
       "    </tr>\n",
       "    <tr>\n",
       "      <th>1</th>\n",
       "      <td>302.0</td>\n",
       "      <td>1</td>\n",
       "      <td>3970</td>\n",
       "      <td>POINT (990367.1991470763 201894.5034764804)</td>\n",
       "      <td>37.500000</td>\n",
       "      <td>751.75</td>\n",
       "      <td>2.900031</td>\n",
       "      <td>2.009997</td>\n",
       "      <td>35375.000000</td>\n",
       "      <td>39.500000</td>\n",
       "      <td>510.5</td>\n",
       "      <td>1561.0</td>\n",
       "      <td>232.000000</td>\n",
       "      <td>24.555556</td>\n",
       "    </tr>\n",
       "    <tr>\n",
       "      <th>2</th>\n",
       "      <td>488.0</td>\n",
       "      <td>0</td>\n",
       "      <td>8988</td>\n",
       "      <td>POINT (985989.2338921009 214874.8949317572)</td>\n",
       "      <td>0.000000</td>\n",
       "      <td>636.50</td>\n",
       "      <td>3.340853</td>\n",
       "      <td>1.241825</td>\n",
       "      <td>63984.000000</td>\n",
       "      <td>112.500000</td>\n",
       "      <td>342.5</td>\n",
       "      <td>1043.0</td>\n",
       "      <td>163.958333</td>\n",
       "      <td>256.000000</td>\n",
       "    </tr>\n",
       "    <tr>\n",
       "      <th>3</th>\n",
       "      <td>488.0</td>\n",
       "      <td>1</td>\n",
       "      <td>5659</td>\n",
       "      <td>POINT (985989.2338921009 214874.8949317572)</td>\n",
       "      <td>0.000000</td>\n",
       "      <td>636.50</td>\n",
       "      <td>3.340853</td>\n",
       "      <td>1.241825</td>\n",
       "      <td>63984.000000</td>\n",
       "      <td>112.500000</td>\n",
       "      <td>342.5</td>\n",
       "      <td>1043.0</td>\n",
       "      <td>163.958333</td>\n",
       "      <td>256.000000</td>\n",
       "    </tr>\n",
       "    <tr>\n",
       "      <th>4</th>\n",
       "      <td>502.0</td>\n",
       "      <td>0</td>\n",
       "      <td>2822</td>\n",
       "      <td>POINT (989421.2936561276 199484.8415778317)</td>\n",
       "      <td>7.666667</td>\n",
       "      <td>407.00</td>\n",
       "      <td>3.133704</td>\n",
       "      <td>2.381631</td>\n",
       "      <td>32061.666667</td>\n",
       "      <td>166.333333</td>\n",
       "      <td>112.0</td>\n",
       "      <td>857.0</td>\n",
       "      <td>206.666667</td>\n",
       "      <td>31.166667</td>\n",
       "    </tr>\n",
       "  </tbody>\n",
       "</table>\n",
       "</div>"
      ],
      "text/plain": [
       "   station_id  morning  n_rides                                     geometry  \\\n",
       "0       302.0        0     1253  POINT (990367.1991470763 201894.5034764804)   \n",
       "1       302.0        1     3970  POINT (990367.1991470763 201894.5034764804)   \n",
       "2       488.0        0     8988  POINT (985989.2338921009 214874.8949317572)   \n",
       "3       488.0        1     5659  POINT (985989.2338921009 214874.8949317572)   \n",
       "4       502.0        0     2822  POINT (989421.2936561276 199484.8415778317)   \n",
       "\n",
       "        bike  commute_time  dist_tohom  dist_towor     income_pc  \\\n",
       "0  37.500000        751.75    2.900031    2.009997  35375.000000   \n",
       "1  37.500000        751.75    2.900031    2.009997  35375.000000   \n",
       "2   0.000000        636.50    3.340853    1.241825  63984.000000   \n",
       "3   0.000000        636.50    3.340853    1.241825  63984.000000   \n",
       "4   7.666667        407.00    3.133704    2.381631  32061.666667   \n",
       "\n",
       "   no_vehicle_own  no_vehicle_rent     pop   residents     workers  \n",
       "0       39.500000            510.5  1561.0  232.000000   24.555556  \n",
       "1       39.500000            510.5  1561.0  232.000000   24.555556  \n",
       "2      112.500000            342.5  1043.0  163.958333  256.000000  \n",
       "3      112.500000            342.5  1043.0  163.958333  256.000000  \n",
       "4      166.333333            112.0   857.0  206.666667   31.166667  "
      ]
     },
     "execution_count": 26,
     "metadata": {},
     "output_type": "execute_result"
    }
   ],
   "source": [
    "# expore final data\n",
    "\n",
    "if not os.path.exists('data/citi_docks/'):\n",
    "    os.makedirs('data/citi_docks/')\n",
    "    \n",
    "citi_docs.drop('tracts',axis = 1, inplace = True)\n",
    "citi_docs.to_file('data/citi_docks/citi_docks.shp')\n",
    "\n",
    "citi_docs.head()\n",
    "#citi_docs.to_csv('data/citi_docks.csv', index = False)"
   ]
  }
 ],
 "metadata": {
  "kernelspec": {
   "display_name": "PUI2016_Python2",
   "language": "python",
   "name": "pui2016_python2"
  },
  "language_info": {
   "codemirror_mode": {
    "name": "ipython",
    "version": 2
   },
   "file_extension": ".py",
   "mimetype": "text/x-python",
   "name": "python",
   "nbconvert_exporter": "python",
   "pygments_lexer": "ipython2",
   "version": "2.7.12"
  }
 },
 "nbformat": 4,
 "nbformat_minor": 0
}
