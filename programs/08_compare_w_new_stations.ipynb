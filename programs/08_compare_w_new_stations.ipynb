{
 "cells": [
  {
   "cell_type": "code",
   "execution_count": 1,
   "metadata": {
    "collapsed": true
   },
   "outputs": [],
   "source": [
    "import numpy as np\n",
    "import pandas as pd\n",
    "import geopandas as gp\n",
    "import os\n",
    "import subprocess\n",
    "import shapely as shp\n",
    "from datetime import datetime\n",
    "\n",
    "from itertools import compress\n",
    "\n",
    "# make sure we are at the top of the repo\n",
    "wd = subprocess.check_output('git rev-parse --show-toplevel', shell = True)\n",
    "os.chdir(wd[:-1]) #-1 removes \\n"
   ]
  },
  {
   "cell_type": "code",
   "execution_count": 2,
   "metadata": {
    "collapsed": false
   },
   "outputs": [],
   "source": [
    "# read in nyc census block shapefiles\n",
    "nycshp = gp.read_file('data/nycb2010_16c/nycb2010.shp')\n",
    "\n",
    "# set up cooridnate system\n",
    "nycshp = nycshp.to_crs(epsg=4326) # epsg=4326: lat/on | 26918: NAD83/UTM zone 18N | epsg=2263 is US feet\n",
    "\n",
    "subway = pd.read_csv('data/subway.csv')"
   ]
  },
  {
   "cell_type": "code",
   "execution_count": 3,
   "metadata": {
    "collapsed": false
   },
   "outputs": [
    {
     "data": {
      "text/html": [
       "<div>\n",
       "<table border=\"1\" class=\"dataframe\">\n",
       "  <thead>\n",
       "    <tr style=\"text-align: right;\">\n",
       "      <th></th>\n",
       "      <th>BCTCB2010</th>\n",
       "      <th>BoroCode</th>\n",
       "      <th>BoroName</th>\n",
       "      <th>CB2010</th>\n",
       "      <th>CT2010</th>\n",
       "      <th>Shape_Area</th>\n",
       "      <th>Shape_Leng</th>\n",
       "      <th>geometry</th>\n",
       "    </tr>\n",
       "  </thead>\n",
       "  <tbody>\n",
       "    <tr>\n",
       "      <th>0</th>\n",
       "      <td>50009001000</td>\n",
       "      <td>5</td>\n",
       "      <td>Staten Island</td>\n",
       "      <td>1000</td>\n",
       "      <td>000900</td>\n",
       "      <td>244589.603884</td>\n",
       "      <td>2508.948115</td>\n",
       "      <td>POLYGON ((-74.07920577013249 40.643430783779, ...</td>\n",
       "    </tr>\n",
       "    <tr>\n",
       "      <th>1</th>\n",
       "      <td>50020011000</td>\n",
       "      <td>5</td>\n",
       "      <td>Staten Island</td>\n",
       "      <td>1000</td>\n",
       "      <td>002001</td>\n",
       "      <td>111006.286826</td>\n",
       "      <td>1345.886422</td>\n",
       "      <td>POLYGON ((-74.07061992438021 40.61085506708748...</td>\n",
       "    </tr>\n",
       "    <tr>\n",
       "      <th>2</th>\n",
       "      <td>50027001000</td>\n",
       "      <td>5</td>\n",
       "      <td>Staten Island</td>\n",
       "      <td>1000</td>\n",
       "      <td>002700</td>\n",
       "      <td>150406.784296</td>\n",
       "      <td>1703.381058</td>\n",
       "      <td>POLYGON ((-74.07524403976554 40.62600632405744...</td>\n",
       "    </tr>\n",
       "    <tr>\n",
       "      <th>3</th>\n",
       "      <td>50040001000</td>\n",
       "      <td>5</td>\n",
       "      <td>Staten Island</td>\n",
       "      <td>1000</td>\n",
       "      <td>004000</td>\n",
       "      <td>141296.561149</td>\n",
       "      <td>1511.173743</td>\n",
       "      <td>POLYGON ((-74.0870879968983 40.61116883127258,...</td>\n",
       "    </tr>\n",
       "    <tr>\n",
       "      <th>4</th>\n",
       "      <td>50064001000</td>\n",
       "      <td>5</td>\n",
       "      <td>Staten Island</td>\n",
       "      <td>1000</td>\n",
       "      <td>006400</td>\n",
       "      <td>200784.983607</td>\n",
       "      <td>1978.243852</td>\n",
       "      <td>POLYGON ((-74.07643744511995 40.60100160658919...</td>\n",
       "    </tr>\n",
       "  </tbody>\n",
       "</table>\n",
       "</div>"
      ],
      "text/plain": [
       "     BCTCB2010 BoroCode       BoroName CB2010  CT2010     Shape_Area  \\\n",
       "0  50009001000        5  Staten Island   1000  000900  244589.603884   \n",
       "1  50020011000        5  Staten Island   1000  002001  111006.286826   \n",
       "2  50027001000        5  Staten Island   1000  002700  150406.784296   \n",
       "3  50040001000        5  Staten Island   1000  004000  141296.561149   \n",
       "4  50064001000        5  Staten Island   1000  006400  200784.983607   \n",
       "\n",
       "    Shape_Leng                                           geometry  \n",
       "0  2508.948115  POLYGON ((-74.07920577013249 40.643430783779, ...  \n",
       "1  1345.886422  POLYGON ((-74.07061992438021 40.61085506708748...  \n",
       "2  1703.381058  POLYGON ((-74.07524403976554 40.62600632405744...  \n",
       "3  1511.173743  POLYGON ((-74.0870879968983 40.61116883127258,...  \n",
       "4  1978.243852  POLYGON ((-74.07643744511995 40.60100160658919...  "
      ]
     },
     "execution_count": 3,
     "metadata": {},
     "output_type": "execute_result"
    }
   ],
   "source": [
    "nycshp.head()"
   ]
  },
  {
   "cell_type": "code",
   "execution_count": 4,
   "metadata": {
    "collapsed": false
   },
   "outputs": [],
   "source": [
    "#get list of new citibike stations\n",
    "# read in last available calendar year of citibike data\n",
    "citi = pd.DataFrame()\n",
    "for m in ['citibike_201509.csv', \n",
    "         'citibike_201510.csv',\n",
    "         'citibike_201511.csv',\n",
    "         'citibike_201512.csv',\n",
    "         'citibike_201601.csv',\n",
    "         'citibike_201602.csv',\n",
    "         'citibike_201603.csv',\n",
    "         'citibike_201604.csv',\n",
    "         'citibike_201605.csv',\n",
    "         'citibike_201606.csv',\n",
    "         'citibike_201607.csv',\n",
    "         'citibike_201608.csv']:\n",
    "    citinew = pd.read_csv('data/'+m)\n",
    "    citi = citi.append(citinew, ignore_index = True)\n"
   ]
  },
  {
   "cell_type": "code",
   "execution_count": 5,
   "metadata": {
    "collapsed": true
   },
   "outputs": [],
   "source": [
    "# keep only stations not available at the start of 2014\n",
    "jan = pd.read_csv('data/citibike_201401.csv')\n",
    "orig_stations = jan['start station id'].unique()\n",
    "\n",
    "citi = citi[~np.in1d(citi['start station id'], orig_stations)]"
   ]
  },
  {
   "cell_type": "code",
   "execution_count": 6,
   "metadata": {
    "collapsed": false
   },
   "outputs": [
    {
     "data": {
      "text/plain": [
       "284"
      ]
     },
     "execution_count": 6,
     "metadata": {},
     "output_type": "execute_result"
    }
   ],
   "source": [
    "len(citi['start station id'].unique())"
   ]
  },
  {
   "cell_type": "code",
   "execution_count": 7,
   "metadata": {
    "collapsed": true
   },
   "outputs": [],
   "source": [
    "# keep only subscribers\n",
    "citi = citi[citi['usertype'] == 'Subscriber']"
   ]
  },
  {
   "cell_type": "code",
   "execution_count": 8,
   "metadata": {
    "collapsed": false
   },
   "outputs": [],
   "source": [
    "citi_stations = pd.DataFrame()\n",
    "for i in citi['start station id'].unique():\n",
    "    citi_stations_unique = citi[citi['start station id'] == i].iloc[0:1,]\n",
    "    citi_stations = citi_stations.append(citi_stations_unique, ignore_index = True)"
   ]
  },
  {
   "cell_type": "code",
   "execution_count": 9,
   "metadata": {
    "collapsed": false
   },
   "outputs": [
    {
     "data": {
      "text/html": [
       "<div>\n",
       "<table border=\"1\" class=\"dataframe\">\n",
       "  <thead>\n",
       "    <tr style=\"text-align: right;\">\n",
       "      <th></th>\n",
       "      <th>tripduration</th>\n",
       "      <th>starttime</th>\n",
       "      <th>stoptime</th>\n",
       "      <th>start station id</th>\n",
       "      <th>start station name</th>\n",
       "      <th>start station latitude</th>\n",
       "      <th>start station longitude</th>\n",
       "      <th>end station id</th>\n",
       "      <th>end station name</th>\n",
       "      <th>end station latitude</th>\n",
       "      <th>end station longitude</th>\n",
       "      <th>bikeid</th>\n",
       "      <th>usertype</th>\n",
       "      <th>birth year</th>\n",
       "      <th>gender</th>\n",
       "    </tr>\n",
       "  </thead>\n",
       "  <tbody>\n",
       "    <tr>\n",
       "      <th>0</th>\n",
       "      <td>715</td>\n",
       "      <td>9/1/2015 00:01:06</td>\n",
       "      <td>9/1/2015 00:13:02</td>\n",
       "      <td>3075</td>\n",
       "      <td>Division Ave &amp; Marcy Ave</td>\n",
       "      <td>40.707087</td>\n",
       "      <td>-73.957968</td>\n",
       "      <td>364</td>\n",
       "      <td>Lafayette Ave &amp; Classon Ave</td>\n",
       "      <td>40.689004</td>\n",
       "      <td>-73.960239</td>\n",
       "      <td>19355</td>\n",
       "      <td>Subscriber</td>\n",
       "      <td>1984.0</td>\n",
       "      <td>1</td>\n",
       "    </tr>\n",
       "    <tr>\n",
       "      <th>1</th>\n",
       "      <td>1247</td>\n",
       "      <td>9/1/2015 00:03:01</td>\n",
       "      <td>9/1/2015 00:23:49</td>\n",
       "      <td>3133</td>\n",
       "      <td>E 67 St &amp; Lexington Ave</td>\n",
       "      <td>40.767343</td>\n",
       "      <td>-73.964859</td>\n",
       "      <td>334</td>\n",
       "      <td>W 20 St &amp; 7 Ave</td>\n",
       "      <td>40.742388</td>\n",
       "      <td>-73.997262</td>\n",
       "      <td>20131</td>\n",
       "      <td>Subscriber</td>\n",
       "      <td>1978.0</td>\n",
       "      <td>2</td>\n",
       "    </tr>\n",
       "    <tr>\n",
       "      <th>2</th>\n",
       "      <td>236</td>\n",
       "      <td>9/1/2015 00:05:44</td>\n",
       "      <td>9/1/2015 00:09:41</td>\n",
       "      <td>3118</td>\n",
       "      <td>McGuinness Blvd &amp; Eagle St</td>\n",
       "      <td>40.735550</td>\n",
       "      <td>-73.952840</td>\n",
       "      <td>3113</td>\n",
       "      <td>Greenpoint Ave &amp; Manhattan Ave</td>\n",
       "      <td>40.730260</td>\n",
       "      <td>-73.953940</td>\n",
       "      <td>17107</td>\n",
       "      <td>Subscriber</td>\n",
       "      <td>1979.0</td>\n",
       "      <td>1</td>\n",
       "    </tr>\n",
       "    <tr>\n",
       "      <th>3</th>\n",
       "      <td>362</td>\n",
       "      <td>9/1/2015 00:12:48</td>\n",
       "      <td>9/1/2015 00:18:50</td>\n",
       "      <td>3110</td>\n",
       "      <td>Meserole Ave &amp; Manhattan Ave</td>\n",
       "      <td>40.727086</td>\n",
       "      <td>-73.952991</td>\n",
       "      <td>3115</td>\n",
       "      <td>India St &amp; Manhattan Ave</td>\n",
       "      <td>40.732322</td>\n",
       "      <td>-73.955086</td>\n",
       "      <td>18257</td>\n",
       "      <td>Subscriber</td>\n",
       "      <td>1978.0</td>\n",
       "      <td>1</td>\n",
       "    </tr>\n",
       "    <tr>\n",
       "      <th>4</th>\n",
       "      <td>225</td>\n",
       "      <td>9/1/2015 00:12:52</td>\n",
       "      <td>9/1/2015 00:16:37</td>\n",
       "      <td>3093</td>\n",
       "      <td>N 6 St &amp; Bedford Ave</td>\n",
       "      <td>40.717452</td>\n",
       "      <td>-73.958509</td>\n",
       "      <td>481</td>\n",
       "      <td>S 3 St &amp; Bedford Ave</td>\n",
       "      <td>40.712605</td>\n",
       "      <td>-73.962644</td>\n",
       "      <td>23001</td>\n",
       "      <td>Subscriber</td>\n",
       "      <td>1989.0</td>\n",
       "      <td>1</td>\n",
       "    </tr>\n",
       "  </tbody>\n",
       "</table>\n",
       "</div>"
      ],
      "text/plain": [
       "   tripduration          starttime           stoptime  start station id  \\\n",
       "0           715  9/1/2015 00:01:06  9/1/2015 00:13:02              3075   \n",
       "1          1247  9/1/2015 00:03:01  9/1/2015 00:23:49              3133   \n",
       "2           236  9/1/2015 00:05:44  9/1/2015 00:09:41              3118   \n",
       "3           362  9/1/2015 00:12:48  9/1/2015 00:18:50              3110   \n",
       "4           225  9/1/2015 00:12:52  9/1/2015 00:16:37              3093   \n",
       "\n",
       "             start station name  start station latitude  \\\n",
       "0      Division Ave & Marcy Ave               40.707087   \n",
       "1       E 67 St & Lexington Ave               40.767343   \n",
       "2    McGuinness Blvd & Eagle St               40.735550   \n",
       "3  Meserole Ave & Manhattan Ave               40.727086   \n",
       "4          N 6 St & Bedford Ave               40.717452   \n",
       "\n",
       "   start station longitude  end station id                end station name  \\\n",
       "0               -73.957968             364     Lafayette Ave & Classon Ave   \n",
       "1               -73.964859             334                 W 20 St & 7 Ave   \n",
       "2               -73.952840            3113  Greenpoint Ave & Manhattan Ave   \n",
       "3               -73.952991            3115        India St & Manhattan Ave   \n",
       "4               -73.958509             481            S 3 St & Bedford Ave   \n",
       "\n",
       "   end station latitude  end station longitude  bikeid    usertype  \\\n",
       "0             40.689004             -73.960239   19355  Subscriber   \n",
       "1             40.742388             -73.997262   20131  Subscriber   \n",
       "2             40.730260             -73.953940   17107  Subscriber   \n",
       "3             40.732322             -73.955086   18257  Subscriber   \n",
       "4             40.712605             -73.962644   23001  Subscriber   \n",
       "\n",
       "   birth year  gender  \n",
       "0      1984.0       1  \n",
       "1      1978.0       2  \n",
       "2      1979.0       1  \n",
       "3      1978.0       1  \n",
       "4      1989.0       1  "
      ]
     },
     "execution_count": 9,
     "metadata": {},
     "output_type": "execute_result"
    }
   ],
   "source": [
    "citi_stations.head()"
   ]
  },
  {
   "cell_type": "code",
   "execution_count": 10,
   "metadata": {
    "collapsed": false
   },
   "outputs": [],
   "source": [
    "#Convert starttime to timpstamp format\n",
    "citi_stations['timestamp'] = pd.to_datetime(citi_stations[\"starttime\"])"
   ]
  },
  {
   "cell_type": "code",
   "execution_count": 11,
   "metadata": {
    "collapsed": false
   },
   "outputs": [
    {
     "data": {
      "text/plain": [
       "283"
      ]
     },
     "execution_count": 11,
     "metadata": {},
     "output_type": "execute_result"
    }
   ],
   "source": [
    "len(citi_stations)"
   ]
  },
  {
   "cell_type": "code",
   "execution_count": 12,
   "metadata": {
    "collapsed": false
   },
   "outputs": [
    {
     "data": {
      "text/plain": [
       "283"
      ]
     },
     "execution_count": 12,
     "metadata": {},
     "output_type": "execute_result"
    }
   ],
   "source": [
    "(citi_stations['timestamp'] > '2014-02-01 00:00:00').sum()"
   ]
  },
  {
   "cell_type": "code",
   "execution_count": 13,
   "metadata": {
    "collapsed": false
   },
   "outputs": [
    {
     "data": {
      "text/html": [
       "<div>\n",
       "<table border=\"1\" class=\"dataframe\">\n",
       "  <thead>\n",
       "    <tr style=\"text-align: right;\">\n",
       "      <th></th>\n",
       "      <th>tripduration</th>\n",
       "      <th>starttime</th>\n",
       "      <th>stoptime</th>\n",
       "      <th>start station id</th>\n",
       "      <th>start station name</th>\n",
       "      <th>start station latitude</th>\n",
       "      <th>start station longitude</th>\n",
       "      <th>end station id</th>\n",
       "      <th>end station name</th>\n",
       "      <th>end station latitude</th>\n",
       "      <th>end station longitude</th>\n",
       "      <th>bikeid</th>\n",
       "      <th>usertype</th>\n",
       "      <th>birth year</th>\n",
       "      <th>gender</th>\n",
       "      <th>timestamp</th>\n",
       "    </tr>\n",
       "  </thead>\n",
       "  <tbody>\n",
       "    <tr>\n",
       "      <th>0</th>\n",
       "      <td>715</td>\n",
       "      <td>9/1/2015 00:01:06</td>\n",
       "      <td>9/1/2015 00:13:02</td>\n",
       "      <td>3075</td>\n",
       "      <td>Division Ave &amp; Marcy Ave</td>\n",
       "      <td>40.707087</td>\n",
       "      <td>-73.957968</td>\n",
       "      <td>364</td>\n",
       "      <td>Lafayette Ave &amp; Classon Ave</td>\n",
       "      <td>40.689004</td>\n",
       "      <td>-73.960239</td>\n",
       "      <td>19355</td>\n",
       "      <td>Subscriber</td>\n",
       "      <td>1984.0</td>\n",
       "      <td>1</td>\n",
       "      <td>2015-09-01 00:01:06</td>\n",
       "    </tr>\n",
       "    <tr>\n",
       "      <th>1</th>\n",
       "      <td>1247</td>\n",
       "      <td>9/1/2015 00:03:01</td>\n",
       "      <td>9/1/2015 00:23:49</td>\n",
       "      <td>3133</td>\n",
       "      <td>E 67 St &amp; Lexington Ave</td>\n",
       "      <td>40.767343</td>\n",
       "      <td>-73.964859</td>\n",
       "      <td>334</td>\n",
       "      <td>W 20 St &amp; 7 Ave</td>\n",
       "      <td>40.742388</td>\n",
       "      <td>-73.997262</td>\n",
       "      <td>20131</td>\n",
       "      <td>Subscriber</td>\n",
       "      <td>1978.0</td>\n",
       "      <td>2</td>\n",
       "      <td>2015-09-01 00:03:01</td>\n",
       "    </tr>\n",
       "    <tr>\n",
       "      <th>2</th>\n",
       "      <td>236</td>\n",
       "      <td>9/1/2015 00:05:44</td>\n",
       "      <td>9/1/2015 00:09:41</td>\n",
       "      <td>3118</td>\n",
       "      <td>McGuinness Blvd &amp; Eagle St</td>\n",
       "      <td>40.735550</td>\n",
       "      <td>-73.952840</td>\n",
       "      <td>3113</td>\n",
       "      <td>Greenpoint Ave &amp; Manhattan Ave</td>\n",
       "      <td>40.730260</td>\n",
       "      <td>-73.953940</td>\n",
       "      <td>17107</td>\n",
       "      <td>Subscriber</td>\n",
       "      <td>1979.0</td>\n",
       "      <td>1</td>\n",
       "      <td>2015-09-01 00:05:44</td>\n",
       "    </tr>\n",
       "    <tr>\n",
       "      <th>3</th>\n",
       "      <td>362</td>\n",
       "      <td>9/1/2015 00:12:48</td>\n",
       "      <td>9/1/2015 00:18:50</td>\n",
       "      <td>3110</td>\n",
       "      <td>Meserole Ave &amp; Manhattan Ave</td>\n",
       "      <td>40.727086</td>\n",
       "      <td>-73.952991</td>\n",
       "      <td>3115</td>\n",
       "      <td>India St &amp; Manhattan Ave</td>\n",
       "      <td>40.732322</td>\n",
       "      <td>-73.955086</td>\n",
       "      <td>18257</td>\n",
       "      <td>Subscriber</td>\n",
       "      <td>1978.0</td>\n",
       "      <td>1</td>\n",
       "      <td>2015-09-01 00:12:48</td>\n",
       "    </tr>\n",
       "    <tr>\n",
       "      <th>4</th>\n",
       "      <td>225</td>\n",
       "      <td>9/1/2015 00:12:52</td>\n",
       "      <td>9/1/2015 00:16:37</td>\n",
       "      <td>3093</td>\n",
       "      <td>N 6 St &amp; Bedford Ave</td>\n",
       "      <td>40.717452</td>\n",
       "      <td>-73.958509</td>\n",
       "      <td>481</td>\n",
       "      <td>S 3 St &amp; Bedford Ave</td>\n",
       "      <td>40.712605</td>\n",
       "      <td>-73.962644</td>\n",
       "      <td>23001</td>\n",
       "      <td>Subscriber</td>\n",
       "      <td>1989.0</td>\n",
       "      <td>1</td>\n",
       "      <td>2015-09-01 00:12:52</td>\n",
       "    </tr>\n",
       "  </tbody>\n",
       "</table>\n",
       "</div>"
      ],
      "text/plain": [
       "   tripduration          starttime           stoptime  start station id  \\\n",
       "0           715  9/1/2015 00:01:06  9/1/2015 00:13:02              3075   \n",
       "1          1247  9/1/2015 00:03:01  9/1/2015 00:23:49              3133   \n",
       "2           236  9/1/2015 00:05:44  9/1/2015 00:09:41              3118   \n",
       "3           362  9/1/2015 00:12:48  9/1/2015 00:18:50              3110   \n",
       "4           225  9/1/2015 00:12:52  9/1/2015 00:16:37              3093   \n",
       "\n",
       "             start station name  start station latitude  \\\n",
       "0      Division Ave & Marcy Ave               40.707087   \n",
       "1       E 67 St & Lexington Ave               40.767343   \n",
       "2    McGuinness Blvd & Eagle St               40.735550   \n",
       "3  Meserole Ave & Manhattan Ave               40.727086   \n",
       "4          N 6 St & Bedford Ave               40.717452   \n",
       "\n",
       "   start station longitude  end station id                end station name  \\\n",
       "0               -73.957968             364     Lafayette Ave & Classon Ave   \n",
       "1               -73.964859             334                 W 20 St & 7 Ave   \n",
       "2               -73.952840            3113  Greenpoint Ave & Manhattan Ave   \n",
       "3               -73.952991            3115        India St & Manhattan Ave   \n",
       "4               -73.958509             481            S 3 St & Bedford Ave   \n",
       "\n",
       "   end station latitude  end station longitude  bikeid    usertype  \\\n",
       "0             40.689004             -73.960239   19355  Subscriber   \n",
       "1             40.742388             -73.997262   20131  Subscriber   \n",
       "2             40.730260             -73.953940   17107  Subscriber   \n",
       "3             40.732322             -73.955086   18257  Subscriber   \n",
       "4             40.712605             -73.962644   23001  Subscriber   \n",
       "\n",
       "   birth year  gender           timestamp  \n",
       "0      1984.0       1 2015-09-01 00:01:06  \n",
       "1      1978.0       2 2015-09-01 00:03:01  \n",
       "2      1979.0       1 2015-09-01 00:05:44  \n",
       "3      1978.0       1 2015-09-01 00:12:48  \n",
       "4      1989.0       1 2015-09-01 00:12:52  "
      ]
     },
     "execution_count": 13,
     "metadata": {},
     "output_type": "execute_result"
    }
   ],
   "source": [
    "citi_stations_new = citi_stations[citi_stations['timestamp'] > '2014-02-01 00:00:00']\n",
    "citi_stations_new.head()"
   ]
  },
  {
   "cell_type": "code",
   "execution_count": 14,
   "metadata": {
    "collapsed": false
   },
   "outputs": [
    {
     "data": {
      "text/html": [
       "<div>\n",
       "<table border=\"1\" class=\"dataframe\">\n",
       "  <thead>\n",
       "    <tr style=\"text-align: right;\">\n",
       "      <th></th>\n",
       "      <th>timestamp</th>\n",
       "      <th>station_id</th>\n",
       "      <th>name</th>\n",
       "      <th>lat</th>\n",
       "      <th>lon</th>\n",
       "      <th>lonlat</th>\n",
       "      <th>geometry</th>\n",
       "    </tr>\n",
       "  </thead>\n",
       "  <tbody>\n",
       "    <tr>\n",
       "      <th>0</th>\n",
       "      <td>2015-09-01 00:01:06</td>\n",
       "      <td>3075</td>\n",
       "      <td>Division Ave &amp; Marcy Ave</td>\n",
       "      <td>40.707087</td>\n",
       "      <td>-73.957968</td>\n",
       "      <td>(-73.95796783, 40.70708701)</td>\n",
       "      <td>POINT (-73.95796783 40.70708701)</td>\n",
       "    </tr>\n",
       "    <tr>\n",
       "      <th>1</th>\n",
       "      <td>2015-09-01 00:03:01</td>\n",
       "      <td>3133</td>\n",
       "      <td>E 67 St &amp; Lexington Ave</td>\n",
       "      <td>40.767343</td>\n",
       "      <td>-73.964859</td>\n",
       "      <td>(-73.9648586512, 40.7673425914)</td>\n",
       "      <td>POINT (-73.96485865116121 40.76734259143217)</td>\n",
       "    </tr>\n",
       "    <tr>\n",
       "      <th>2</th>\n",
       "      <td>2015-09-01 00:05:44</td>\n",
       "      <td>3118</td>\n",
       "      <td>McGuinness Blvd &amp; Eagle St</td>\n",
       "      <td>40.735550</td>\n",
       "      <td>-73.952840</td>\n",
       "      <td>(-73.95284, 40.73555)</td>\n",
       "      <td>POINT (-73.95284000000001 40.73555)</td>\n",
       "    </tr>\n",
       "    <tr>\n",
       "      <th>3</th>\n",
       "      <td>2015-09-01 00:12:48</td>\n",
       "      <td>3110</td>\n",
       "      <td>Meserole Ave &amp; Manhattan Ave</td>\n",
       "      <td>40.727086</td>\n",
       "      <td>-73.952991</td>\n",
       "      <td>(-73.95299117, 40.72708584)</td>\n",
       "      <td>POINT (-73.95299117 40.72708584)</td>\n",
       "    </tr>\n",
       "    <tr>\n",
       "      <th>4</th>\n",
       "      <td>2015-09-01 00:12:52</td>\n",
       "      <td>3093</td>\n",
       "      <td>N 6 St &amp; Bedford Ave</td>\n",
       "      <td>40.717452</td>\n",
       "      <td>-73.958509</td>\n",
       "      <td>(-73.95850939, 40.71745169)</td>\n",
       "      <td>POINT (-73.95850939 40.71745169)</td>\n",
       "    </tr>\n",
       "  </tbody>\n",
       "</table>\n",
       "</div>"
      ],
      "text/plain": [
       "            timestamp  station_id                          name        lat  \\\n",
       "0 2015-09-01 00:01:06        3075      Division Ave & Marcy Ave  40.707087   \n",
       "1 2015-09-01 00:03:01        3133       E 67 St & Lexington Ave  40.767343   \n",
       "2 2015-09-01 00:05:44        3118    McGuinness Blvd & Eagle St  40.735550   \n",
       "3 2015-09-01 00:12:48        3110  Meserole Ave & Manhattan Ave  40.727086   \n",
       "4 2015-09-01 00:12:52        3093          N 6 St & Bedford Ave  40.717452   \n",
       "\n",
       "         lon                           lonlat  \\\n",
       "0 -73.957968      (-73.95796783, 40.70708701)   \n",
       "1 -73.964859  (-73.9648586512, 40.7673425914)   \n",
       "2 -73.952840            (-73.95284, 40.73555)   \n",
       "3 -73.952991      (-73.95299117, 40.72708584)   \n",
       "4 -73.958509      (-73.95850939, 40.71745169)   \n",
       "\n",
       "                                       geometry  \n",
       "0              POINT (-73.95796783 40.70708701)  \n",
       "1  POINT (-73.96485865116121 40.76734259143217)  \n",
       "2           POINT (-73.95284000000001 40.73555)  \n",
       "3              POINT (-73.95299117 40.72708584)  \n",
       "4              POINT (-73.95850939 40.71745169)  "
      ]
     },
     "execution_count": 14,
     "metadata": {},
     "output_type": "execute_result"
    }
   ],
   "source": [
    "citi_stations_new = citi_stations_new[[\"timestamp\", \"start station id\", \"start station name\", \"start station latitude\", \"start station longitude\"]]\n",
    "citi_stations_new.columns = ['timestamp', 'station_id', 'name', 'lat', 'lon']\n",
    "\n",
    "# combine lat and lon to one column\n",
    "citi_stations_new['lonlat']=zip(citi_stations_new.lon, citi_stations_new.lat)\n",
    "\n",
    "# Create Point Geometry for based on lonlat column\n",
    "citi_stations_new['geometry']=citi_stations_new[['lonlat']].applymap(lambda x:shp.geometry.Point(x))\n",
    "citi_stations_new.head()"
   ]
  },
  {
   "cell_type": "code",
   "execution_count": 15,
   "metadata": {
    "collapsed": false
   },
   "outputs": [],
   "source": [
    "# dataframe for rides per station\n",
    "citi_rides = citi[['start station id', 'tripduration']] # keep duration because we need a column to count with\n",
    "citi_rides.columns = ['station_id','n_rides']\n",
    "citi_rides = citi_rides.groupby('station_id').count()"
   ]
  },
  {
   "cell_type": "code",
   "execution_count": 16,
   "metadata": {
    "collapsed": true
   },
   "outputs": [],
   "source": [
    "# merge number of rides into station detail table\n",
    "citi_stations_new = citi_stations_new.merge(citi_rides, how = 'left', left_on = 'station_id', right_index = True)\n",
    "citi_stations_new = citi_stations_new[[\"timestamp\", \"station_id\", \"geometry\", \"n_rides\"]]"
   ]
  },
  {
   "cell_type": "code",
   "execution_count": 17,
   "metadata": {
    "collapsed": false
   },
   "outputs": [],
   "source": [
    "# buffer around each point\n",
    "citi_stations_new = gp.GeoDataFrame(citi_stations_new, geometry = 'geometry')\n",
    "citi_stations_new.crs = {'init' :'epsg:4326'}\n",
    "citi_stations_new = citi_stations_new.to_crs(epsg=2263) # epsg=4326: lat/on | 26918: NAD83/UTM zone 18N | epsg=2263 is US feet\n",
    "nycshp = nycshp.to_crs(epsg=2263)"
   ]
  },
  {
   "cell_type": "code",
   "execution_count": 18,
   "metadata": {
    "collapsed": false
   },
   "outputs": [
    {
     "name": "stdout",
     "output_type": "stream",
     "text": [
      "Populating the interactive namespace from numpy and matplotlib\n"
     ]
    },
    {
     "name": "stderr",
     "output_type": "stream",
     "text": [
      "/opt/rh/anaconda/root/envs/PUI2016_Python2/lib/python2.7/site-packages/IPython/core/magics/pylab.py:161: UserWarning: pylab import has clobbered these variables: ['compress', 'datetime']\n",
      "`%matplotlib` prevents importing * from pylab and numpy\n",
      "  \"\\n`%matplotlib` prevents importing * from pylab and numpy\"\n"
     ]
    },
    {
     "data": {
      "text/plain": [
       "<matplotlib.axes._subplots.AxesSubplot at 0x7f5f81582b50>"
      ]
     },
     "execution_count": 18,
     "metadata": {},
     "output_type": "execute_result"
    },
    {
     "data": {
      "image/png": "[encoded data removed]",
      "text/plain": [
       "<matplotlib.figure.Figure at 0x7f5f81582310>"
      ]
     },
     "metadata": {},
     "output_type": "display_data"
    }
   ],
   "source": [
    "import pylab as pl\n",
    "%pylab inline\n",
    "\n",
    "citi_stations_new.plot()"
   ]
  },
  {
   "cell_type": "markdown",
   "metadata": {},
   "source": [
    "## add in census block demographics data"
   ]
  },
  {
   "cell_type": "code",
   "execution_count": 19,
   "metadata": {
    "collapsed": false
   },
   "outputs": [
    {
     "data": {
      "text/html": [
       "<div>\n",
       "<table border=\"1\" class=\"dataframe\">\n",
       "  <thead>\n",
       "    <tr style=\"text-align: right;\">\n",
       "      <th></th>\n",
       "      <th>BCTCB2010</th>\n",
       "      <th>BoroCode</th>\n",
       "      <th>BoroName</th>\n",
       "      <th>CB2010</th>\n",
       "      <th>CT2010</th>\n",
       "      <th>Shape_Area</th>\n",
       "      <th>Shape_Leng</th>\n",
       "      <th>geometry</th>\n",
       "    </tr>\n",
       "  </thead>\n",
       "  <tbody>\n",
       "    <tr>\n",
       "      <th>0</th>\n",
       "      <td>0009001000</td>\n",
       "      <td>5</td>\n",
       "      <td>Staten Island</td>\n",
       "      <td>1000</td>\n",
       "      <td>000900</td>\n",
       "      <td>244589.603884</td>\n",
       "      <td>2508.948115</td>\n",
       "      <td>POLYGON ((962269.1260375977 173705.5001951929,...</td>\n",
       "    </tr>\n",
       "    <tr>\n",
       "      <th>1</th>\n",
       "      <td>0020011000</td>\n",
       "      <td>5</td>\n",
       "      <td>Staten Island</td>\n",
       "      <td>1000</td>\n",
       "      <td>002001</td>\n",
       "      <td>111006.286826</td>\n",
       "      <td>1345.886422</td>\n",
       "      <td>POLYGON ((964642.2676391613 161835.2652098391,...</td>\n",
       "    </tr>\n",
       "    <tr>\n",
       "      <th>2</th>\n",
       "      <td>0027001000</td>\n",
       "      <td>5</td>\n",
       "      <td>Staten Island</td>\n",
       "      <td>1000</td>\n",
       "      <td>002700</td>\n",
       "      <td>150406.784296</td>\n",
       "      <td>1703.381058</td>\n",
       "      <td>POLYGON ((963363.1166381794 167356.3334471463,...</td>\n",
       "    </tr>\n",
       "    <tr>\n",
       "      <th>3</th>\n",
       "      <td>0040001000</td>\n",
       "      <td>5</td>\n",
       "      <td>Staten Island</td>\n",
       "      <td>1000</td>\n",
       "      <td>004000</td>\n",
       "      <td>141296.561149</td>\n",
       "      <td>1511.173743</td>\n",
       "      <td>POLYGON ((960069.9965820312 161953.6936156093,...</td>\n",
       "    </tr>\n",
       "    <tr>\n",
       "      <th>4</th>\n",
       "      <td>0064001000</td>\n",
       "      <td>5</td>\n",
       "      <td>Staten Island</td>\n",
       "      <td>1000</td>\n",
       "      <td>006400</td>\n",
       "      <td>200784.983607</td>\n",
       "      <td>1978.243852</td>\n",
       "      <td>POLYGON ((963023.8917846683 158246.7522093526,...</td>\n",
       "    </tr>\n",
       "  </tbody>\n",
       "</table>\n",
       "</div>"
      ],
      "text/plain": [
       "    BCTCB2010 BoroCode       BoroName CB2010  CT2010     Shape_Area  \\\n",
       "0  0009001000        5  Staten Island   1000  000900  244589.603884   \n",
       "1  0020011000        5  Staten Island   1000  002001  111006.286826   \n",
       "2  0027001000        5  Staten Island   1000  002700  150406.784296   \n",
       "3  0040001000        5  Staten Island   1000  004000  141296.561149   \n",
       "4  0064001000        5  Staten Island   1000  006400  200784.983607   \n",
       "\n",
       "    Shape_Leng                                           geometry  \n",
       "0  2508.948115  POLYGON ((962269.1260375977 173705.5001951929,...  \n",
       "1  1345.886422  POLYGON ((964642.2676391613 161835.2652098391,...  \n",
       "2  1703.381058  POLYGON ((963363.1166381794 167356.3334471463,...  \n",
       "3  1511.173743  POLYGON ((960069.9965820312 161953.6936156093,...  \n",
       "4  1978.243852  POLYGON ((963023.8917846683 158246.7522093526,...  "
      ]
     },
     "execution_count": 19,
     "metadata": {},
     "output_type": "execute_result"
    }
   ],
   "source": [
    "nycshp['BCTCB2010'] = [i[1:] for i in nycshp['BCTCB2010']]\n",
    "nycshp.head()"
   ]
  },
  {
   "cell_type": "code",
   "execution_count": 20,
   "metadata": {
    "collapsed": false
   },
   "outputs": [
    {
     "name": "stderr",
     "output_type": "stream",
     "text": [
      "/opt/rh/anaconda/root/envs/PUI2016_Python2/lib/python2.7/site-packages/ipykernel/__main__.py:1: SettingWithCopyWarning: \n",
      "A value is trying to be set on a copy of a slice from a DataFrame\n",
      "\n",
      "See the caveats in the documentation: http://pandas.pydata.org/pandas-docs/stable/indexing.html#indexing-view-versus-copy\n",
      "  if __name__ == '__main__':\n",
      "/opt/rh/anaconda/root/envs/PUI2016_Python2/lib/python2.7/site-packages/ipykernel/__main__.py:2: SettingWithCopyWarning: \n",
      "A value is trying to be set on a copy of a slice from a DataFrame\n",
      "\n",
      "See the caveats in the documentation: http://pandas.pydata.org/pandas-docs/stable/indexing.html#indexing-view-versus-copy\n",
      "  from ipykernel import kernelapp as app\n",
      "/opt/rh/anaconda/root/envs/PUI2016_Python2/lib/python2.7/site-packages/ipykernel/__main__.py:3: SettingWithCopyWarning: \n",
      "A value is trying to be set on a copy of a slice from a DataFrame\n",
      "\n",
      "See the caveats in the documentation: http://pandas.pydata.org/pandas-docs/stable/indexing.html#indexing-view-versus-copy\n",
      "  app.launch_new_instance()\n",
      "/opt/rh/anaconda/root/envs/PUI2016_Python2/lib/python2.7/site-packages/ipykernel/__main__.py:4: SettingWithCopyWarning: \n",
      "A value is trying to be set on a copy of a slice from a DataFrame\n",
      "\n",
      "See the caveats in the documentation: http://pandas.pydata.org/pandas-docs/stable/indexing.html#indexing-view-versus-copy\n",
      "/opt/rh/anaconda/root/envs/PUI2016_Python2/lib/python2.7/site-packages/ipykernel/__main__.py:5: SettingWithCopyWarning: \n",
      "A value is trying to be set on a copy of a slice from a DataFrame\n",
      "\n",
      "See the caveats in the documentation: http://pandas.pydata.org/pandas-docs/stable/indexing.html#indexing-view-versus-copy\n"
     ]
    }
   ],
   "source": [
    "nycshp.BCTCB2010[nycshp.BoroName == 'Staten Island'] = '36085' + nycshp.BCTCB2010[nycshp.BoroName == 'Staten Island']\n",
    "nycshp.BCTCB2010[nycshp.BoroName == 'Manhattan'] = '36061' + nycshp.BCTCB2010[nycshp.BoroName == 'Manhattan']\n",
    "nycshp.BCTCB2010[nycshp.BoroName == 'Queens'] = '36081' + nycshp.BCTCB2010[nycshp.BoroName == 'Queens']\n",
    "nycshp.BCTCB2010[nycshp.BoroName == 'Brooklyn'] = '36047' + nycshp.BCTCB2010[nycshp.BoroName == 'Brooklyn']\n",
    "nycshp.BCTCB2010[nycshp.BoroName == 'Bronx'] = '36005' + nycshp.BCTCB2010[nycshp.BoroName == 'Bronx']\n"
   ]
  },
  {
   "cell_type": "code",
   "execution_count": 21,
   "metadata": {
    "collapsed": false
   },
   "outputs": [
    {
     "name": "stdout",
     "output_type": "stream",
     "text": [
      "% 100.\n"
     ]
    }
   ],
   "source": [
    "# check for each citibike stations to see what CB they belong to\n",
    "a = []\n",
    "citi_stations_new['tracts'] = 0\n",
    "for i in range(len(citi_stations_new)):\n",
    "    # includes stations not in Manhattan, return 0 for CB. \n",
    "    try: \n",
    "        a.append([k for k in nycshp[nycshp.geometry.intersects(citi_stations_new.iloc[i].geometry.buffer(150))].BCTCB2010])\n",
    "    except: \n",
    "        a.append(0)\n",
    "    print '\\r',\"%\",str((i+1)*100./len(citi_stations_new))[:4],\n",
    "citi_stations_new['tracts']=a\n",
    "citi_stations_new = citi_stations_new.reindex()"
   ]
  },
  {
   "cell_type": "code",
   "execution_count": 22,
   "metadata": {
    "collapsed": false
   },
   "outputs": [
    {
     "data": {
      "text/html": [
       "<div>\n",
       "<table border=\"1\" class=\"dataframe\">\n",
       "  <thead>\n",
       "    <tr style=\"text-align: right;\">\n",
       "      <th></th>\n",
       "      <th>station_id</th>\n",
       "      <th>n_rides</th>\n",
       "      <th>geometry</th>\n",
       "      <th>tracts</th>\n",
       "    </tr>\n",
       "  </thead>\n",
       "  <tbody>\n",
       "    <tr>\n",
       "      <th>278</th>\n",
       "      <td>3386</td>\n",
       "      <td>10</td>\n",
       "      <td>POINT (984511.5255380345 187368.1825631277)</td>\n",
       "      <td>[360470065002000, 360470065002001, 36047006500...</td>\n",
       "    </tr>\n",
       "    <tr>\n",
       "      <th>279</th>\n",
       "      <td>3340</td>\n",
       "      <td>10</td>\n",
       "      <td>POINT (981456.8041949553 185316.5515138066)</td>\n",
       "      <td>[360470053004001, 360470053004002, 36047005300...</td>\n",
       "    </tr>\n",
       "    <tr>\n",
       "      <th>280</th>\n",
       "      <td>3326</td>\n",
       "      <td>3</td>\n",
       "      <td>POINT (983709.931985212 184956.6589112134)</td>\n",
       "      <td>[360470085003000, 360470053001022, 36047005300...</td>\n",
       "    </tr>\n",
       "    <tr>\n",
       "      <th>281</th>\n",
       "      <td>3353</td>\n",
       "      <td>8</td>\n",
       "      <td>POINT (979776.1930346335 185118.9723933369)</td>\n",
       "      <td>[360470053003003, 360470053001014]</td>\n",
       "    </tr>\n",
       "    <tr>\n",
       "      <th>282</th>\n",
       "      <td>3342</td>\n",
       "      <td>1</td>\n",
       "      <td>POINT (981625.6883271895 186208.1906875979)</td>\n",
       "      <td>[360470085001000, 360470053002007, 36047005900...</td>\n",
       "    </tr>\n",
       "  </tbody>\n",
       "</table>\n",
       "</div>"
      ],
      "text/plain": [
       "     station_id  n_rides                                     geometry  \\\n",
       "278        3386       10  POINT (984511.5255380345 187368.1825631277)   \n",
       "279        3340       10  POINT (981456.8041949553 185316.5515138066)   \n",
       "280        3326        3   POINT (983709.931985212 184956.6589112134)   \n",
       "281        3353        8  POINT (979776.1930346335 185118.9723933369)   \n",
       "282        3342        1  POINT (981625.6883271895 186208.1906875979)   \n",
       "\n",
       "                                                tracts  \n",
       "278  [360470065002000, 360470065002001, 36047006500...  \n",
       "279  [360470053004001, 360470053004002, 36047005300...  \n",
       "280  [360470085003000, 360470053001022, 36047005300...  \n",
       "281                 [360470053003003, 360470053001014]  \n",
       "282  [360470085001000, 360470053002007, 36047005900...  "
      ]
     },
     "execution_count": 22,
     "metadata": {},
     "output_type": "execute_result"
    }
   ],
   "source": [
    "citi_stations_new = citi_stations_new[[\"station_id\", \"n_rides\", \"geometry\", \"tracts\"]]\n",
    "citi_stations_new.tail()"
   ]
  },
  {
   "cell_type": "code",
   "execution_count": 23,
   "metadata": {
    "collapsed": false
   },
   "outputs": [],
   "source": [
    "df = gp.read_file('data/cb_dist/cb_dist_all_nyc.shp')"
   ]
  },
  {
   "cell_type": "code",
   "execution_count": 24,
   "metadata": {
    "collapsed": false
   },
   "outputs": [
    {
     "data": {
      "text/html": [
       "<div>\n",
       "<table border=\"1\" class=\"dataframe\">\n",
       "  <thead>\n",
       "    <tr style=\"text-align: right;\">\n",
       "      <th></th>\n",
       "      <th>BCTCB2010</th>\n",
       "      <th>BoroCode</th>\n",
       "      <th>BoroName</th>\n",
       "      <th>CB2010</th>\n",
       "      <th>CT2010</th>\n",
       "      <th>Shape_Area</th>\n",
       "      <th>Shape_Leng</th>\n",
       "      <th>dist_tohom</th>\n",
       "      <th>dist_towor</th>\n",
       "      <th>geometry</th>\n",
       "      <th>residents</th>\n",
       "      <th>workers</th>\n",
       "    </tr>\n",
       "  </thead>\n",
       "  <tbody>\n",
       "    <tr>\n",
       "      <th>20896</th>\n",
       "      <td>360810006001003</td>\n",
       "      <td>4</td>\n",
       "      <td>Queens</td>\n",
       "      <td>1003</td>\n",
       "      <td>000600</td>\n",
       "      <td>159213.793766</td>\n",
       "      <td>1788.364426</td>\n",
       "      <td>4.590714</td>\n",
       "      <td>6.182529</td>\n",
       "      <td>POLYGON ((1022946.834228517 188809.5380369891,...</td>\n",
       "      <td>73</td>\n",
       "      <td>5</td>\n",
       "    </tr>\n",
       "    <tr>\n",
       "      <th>20897</th>\n",
       "      <td>360810008002005</td>\n",
       "      <td>4</td>\n",
       "      <td>Queens</td>\n",
       "      <td>2005</td>\n",
       "      <td>000800</td>\n",
       "      <td>167035.873429</td>\n",
       "      <td>1822.279534</td>\n",
       "      <td>2.303593</td>\n",
       "      <td>5.757164</td>\n",
       "      <td>POLYGON ((1023190.786987306 188905.8498045706,...</td>\n",
       "      <td>62</td>\n",
       "      <td>5</td>\n",
       "    </tr>\n",
       "    <tr>\n",
       "      <th>20898</th>\n",
       "      <td>360610243021005</td>\n",
       "      <td>1</td>\n",
       "      <td>Manhattan</td>\n",
       "      <td>1005</td>\n",
       "      <td>024302</td>\n",
       "      <td>283063.278099</td>\n",
       "      <td>2468.026395</td>\n",
       "      <td>4.061102</td>\n",
       "      <td>5.156696</td>\n",
       "      <td>POLYGON ((1001755.348388672 241636.4550291704,...</td>\n",
       "      <td>455</td>\n",
       "      <td>26</td>\n",
       "    </tr>\n",
       "    <tr>\n",
       "      <th>20899</th>\n",
       "      <td>360810471001002</td>\n",
       "      <td>4</td>\n",
       "      <td>Queens</td>\n",
       "      <td>1002</td>\n",
       "      <td>047100</td>\n",
       "      <td>149379.347933</td>\n",
       "      <td>1644.308065</td>\n",
       "      <td>5.151350</td>\n",
       "      <td>4.762213</td>\n",
       "      <td>POLYGON ((1018715.723999023 209626.3394285868,...</td>\n",
       "      <td>112</td>\n",
       "      <td>1</td>\n",
       "    </tr>\n",
       "    <tr>\n",
       "      <th>20900</th>\n",
       "      <td>360810471001005</td>\n",
       "      <td>4</td>\n",
       "      <td>Queens</td>\n",
       "      <td>1005</td>\n",
       "      <td>047100</td>\n",
       "      <td>147595.350818</td>\n",
       "      <td>1668.283412</td>\n",
       "      <td>3.349474</td>\n",
       "      <td>4.674031</td>\n",
       "      <td>POLYGON ((1018345.718627932 209277.4714476391,...</td>\n",
       "      <td>403</td>\n",
       "      <td>14</td>\n",
       "    </tr>\n",
       "    <tr>\n",
       "      <th>20901</th>\n",
       "      <td>360050216023002</td>\n",
       "      <td>2</td>\n",
       "      <td>Bronx</td>\n",
       "      <td>3002</td>\n",
       "      <td>021602</td>\n",
       "      <td>224172.113792</td>\n",
       "      <td>2446.404530</td>\n",
       "      <td>5.468028</td>\n",
       "      <td>6.163652</td>\n",
       "      <td>POLYGON ((1022728.471984864 244951.2739989016,...</td>\n",
       "      <td>316</td>\n",
       "      <td>66</td>\n",
       "    </tr>\n",
       "    <tr>\n",
       "      <th>20902</th>\n",
       "      <td>360050216022001</td>\n",
       "      <td>2</td>\n",
       "      <td>Bronx</td>\n",
       "      <td>2001</td>\n",
       "      <td>021602</td>\n",
       "      <td>146869.945755</td>\n",
       "      <td>1877.106694</td>\n",
       "      <td>5.377462</td>\n",
       "      <td>6.431716</td>\n",
       "      <td>POLYGON ((1022678.206420899 244466.9444090589,...</td>\n",
       "      <td>165</td>\n",
       "      <td>18</td>\n",
       "    </tr>\n",
       "    <tr>\n",
       "      <th>20903</th>\n",
       "      <td>360050216024000</td>\n",
       "      <td>2</td>\n",
       "      <td>Bronx</td>\n",
       "      <td>4000</td>\n",
       "      <td>021602</td>\n",
       "      <td>324298.032947</td>\n",
       "      <td>3013.710468</td>\n",
       "      <td>5.122460</td>\n",
       "      <td>7.602267</td>\n",
       "      <td>POLYGON ((1022565.290222168 244493.1238524288,...</td>\n",
       "      <td>295</td>\n",
       "      <td>7</td>\n",
       "    </tr>\n",
       "    <tr>\n",
       "      <th>20904</th>\n",
       "      <td>360810086001014</td>\n",
       "      <td>4</td>\n",
       "      <td>Queens</td>\n",
       "      <td>1014</td>\n",
       "      <td>008600</td>\n",
       "      <td>167489.726871</td>\n",
       "      <td>1850.958176</td>\n",
       "      <td>5.311830</td>\n",
       "      <td>5.162866</td>\n",
       "      <td>POLYGON ((1028295.05999756 185832.5723997795, ...</td>\n",
       "      <td>30</td>\n",
       "      <td>2</td>\n",
       "    </tr>\n",
       "    <tr>\n",
       "      <th>20905</th>\n",
       "      <td>360810086002005</td>\n",
       "      <td>4</td>\n",
       "      <td>Queens</td>\n",
       "      <td>2005</td>\n",
       "      <td>008600</td>\n",
       "      <td>180746.889134</td>\n",
       "      <td>1909.003325</td>\n",
       "      <td>3.612624</td>\n",
       "      <td>4.883463</td>\n",
       "      <td>POLYGON ((1028386.265441894 185586.3686033974,...</td>\n",
       "      <td>32</td>\n",
       "      <td>16</td>\n",
       "    </tr>\n",
       "  </tbody>\n",
       "</table>\n",
       "</div>"
      ],
      "text/plain": [
       "             BCTCB2010 BoroCode   BoroName CB2010  CT2010     Shape_Area  \\\n",
       "20896  360810006001003        4     Queens   1003  000600  159213.793766   \n",
       "20897  360810008002005        4     Queens   2005  000800  167035.873429   \n",
       "20898  360610243021005        1  Manhattan   1005  024302  283063.278099   \n",
       "20899  360810471001002        4     Queens   1002  047100  149379.347933   \n",
       "20900  360810471001005        4     Queens   1005  047100  147595.350818   \n",
       "20901  360050216023002        2      Bronx   3002  021602  224172.113792   \n",
       "20902  360050216022001        2      Bronx   2001  021602  146869.945755   \n",
       "20903  360050216024000        2      Bronx   4000  021602  324298.032947   \n",
       "20904  360810086001014        4     Queens   1014  008600  167489.726871   \n",
       "20905  360810086002005        4     Queens   2005  008600  180746.889134   \n",
       "\n",
       "        Shape_Leng  dist_tohom  dist_towor  \\\n",
       "20896  1788.364426    4.590714    6.182529   \n",
       "20897  1822.279534    2.303593    5.757164   \n",
       "20898  2468.026395    4.061102    5.156696   \n",
       "20899  1644.308065    5.151350    4.762213   \n",
       "20900  1668.283412    3.349474    4.674031   \n",
       "20901  2446.404530    5.468028    6.163652   \n",
       "20902  1877.106694    5.377462    6.431716   \n",
       "20903  3013.710468    5.122460    7.602267   \n",
       "20904  1850.958176    5.311830    5.162866   \n",
       "20905  1909.003325    3.612624    4.883463   \n",
       "\n",
       "                                                geometry  residents  workers  \n",
       "20896  POLYGON ((1022946.834228517 188809.5380369891,...         73        5  \n",
       "20897  POLYGON ((1023190.786987306 188905.8498045706,...         62        5  \n",
       "20898  POLYGON ((1001755.348388672 241636.4550291704,...        455       26  \n",
       "20899  POLYGON ((1018715.723999023 209626.3394285868,...        112        1  \n",
       "20900  POLYGON ((1018345.718627932 209277.4714476391,...        403       14  \n",
       "20901  POLYGON ((1022728.471984864 244951.2739989016,...        316       66  \n",
       "20902  POLYGON ((1022678.206420899 244466.9444090589,...        165       18  \n",
       "20903  POLYGON ((1022565.290222168 244493.1238524288,...        295        7  \n",
       "20904  POLYGON ((1028295.05999756 185832.5723997795, ...         30        2  \n",
       "20905  POLYGON ((1028386.265441894 185586.3686033974,...         32       16  "
      ]
     },
     "execution_count": 24,
     "metadata": {},
     "output_type": "execute_result"
    }
   ],
   "source": [
    "demo = pd.read_csv('data/demo.csv')\n",
    "df.tail(10)"
   ]
  },
  {
   "cell_type": "code",
   "execution_count": 25,
   "metadata": {
    "collapsed": false
   },
   "outputs": [
    {
     "data": {
      "text/html": [
       "<div>\n",
       "<table border=\"1\" class=\"dataframe\">\n",
       "  <thead>\n",
       "    <tr style=\"text-align: right;\">\n",
       "      <th></th>\n",
       "      <th>geoid</th>\n",
       "      <th>pop</th>\n",
       "      <th>bike</th>\n",
       "      <th>commute_time</th>\n",
       "      <th>income_pc</th>\n",
       "      <th>no_vehicle_rent</th>\n",
       "      <th>no_vehicle_own</th>\n",
       "    </tr>\n",
       "  </thead>\n",
       "  <tbody>\n",
       "    <tr>\n",
       "      <th>0</th>\n",
       "      <td>360594144003</td>\n",
       "      <td>870</td>\n",
       "      <td>0</td>\n",
       "      <td>312</td>\n",
       "      <td>8291.0</td>\n",
       "      <td>97</td>\n",
       "      <td>0</td>\n",
       "    </tr>\n",
       "    <tr>\n",
       "      <th>1</th>\n",
       "      <td>360594141002</td>\n",
       "      <td>1569</td>\n",
       "      <td>0</td>\n",
       "      <td>674</td>\n",
       "      <td>24402.0</td>\n",
       "      <td>0</td>\n",
       "      <td>0</td>\n",
       "    </tr>\n",
       "    <tr>\n",
       "      <th>2</th>\n",
       "      <td>360594136001</td>\n",
       "      <td>965</td>\n",
       "      <td>0</td>\n",
       "      <td>428</td>\n",
       "      <td>31416.0</td>\n",
       "      <td>0</td>\n",
       "      <td>25</td>\n",
       "    </tr>\n",
       "    <tr>\n",
       "      <th>3</th>\n",
       "      <td>360594142024</td>\n",
       "      <td>1028</td>\n",
       "      <td>0</td>\n",
       "      <td>456</td>\n",
       "      <td>20567.0</td>\n",
       "      <td>60</td>\n",
       "      <td>0</td>\n",
       "    </tr>\n",
       "    <tr>\n",
       "      <th>4</th>\n",
       "      <td>360594142022</td>\n",
       "      <td>1197</td>\n",
       "      <td>0</td>\n",
       "      <td>621</td>\n",
       "      <td>16936.0</td>\n",
       "      <td>41</td>\n",
       "      <td>0</td>\n",
       "    </tr>\n",
       "  </tbody>\n",
       "</table>\n",
       "</div>"
      ],
      "text/plain": [
       "          geoid   pop  bike  commute_time  income_pc  no_vehicle_rent  \\\n",
       "0  360594144003   870     0           312     8291.0               97   \n",
       "1  360594141002  1569     0           674    24402.0                0   \n",
       "2  360594136001   965     0           428    31416.0                0   \n",
       "3  360594142024  1028     0           456    20567.0               60   \n",
       "4  360594142022  1197     0           621    16936.0               41   \n",
       "\n",
       "   no_vehicle_own  \n",
       "0               0  \n",
       "1               0  \n",
       "2              25  \n",
       "3               0  \n",
       "4               0  "
      ]
     },
     "execution_count": 25,
     "metadata": {},
     "output_type": "execute_result"
    }
   ],
   "source": [
    "demo.head()"
   ]
  },
  {
   "cell_type": "code",
   "execution_count": 26,
   "metadata": {
    "collapsed": false
   },
   "outputs": [
    {
     "data": {
      "text/html": [
       "<div>\n",
       "<table border=\"1\" class=\"dataframe\">\n",
       "  <thead>\n",
       "    <tr style=\"text-align: right;\">\n",
       "      <th></th>\n",
       "      <th>geoid</th>\n",
       "      <th>geometry</th>\n",
       "      <th>BCTCB2010</th>\n",
       "      <th>Shape_Area</th>\n",
       "      <th>Shape_Leng</th>\n",
       "      <th>dist_tohom</th>\n",
       "      <th>dist_towor</th>\n",
       "      <th>residents</th>\n",
       "      <th>workers</th>\n",
       "    </tr>\n",
       "  </thead>\n",
       "  <tbody>\n",
       "    <tr>\n",
       "      <th>0</th>\n",
       "      <td>360050002001</td>\n",
       "      <td>(POLYGON ((1022729.262390137 235476.9921995869...</td>\n",
       "      <td>3.600500e+14</td>\n",
       "      <td>165502.387824</td>\n",
       "      <td>1902.630188</td>\n",
       "      <td>1.689186</td>\n",
       "      <td>5.015495</td>\n",
       "      <td>38.000000</td>\n",
       "      <td>4.500000</td>\n",
       "    </tr>\n",
       "    <tr>\n",
       "      <th>1</th>\n",
       "      <td>360050002002</td>\n",
       "      <td>(POLYGON ((1024075.043823242 234930.1988035945...</td>\n",
       "      <td>3.600500e+14</td>\n",
       "      <td>151808.843054</td>\n",
       "      <td>1804.746075</td>\n",
       "      <td>2.009876</td>\n",
       "      <td>4.787413</td>\n",
       "      <td>42.666667</td>\n",
       "      <td>4.333333</td>\n",
       "    </tr>\n",
       "    <tr>\n",
       "      <th>2</th>\n",
       "      <td>360050002003</td>\n",
       "      <td>(POLYGON ((1023807.029235841 233647.6192137522...</td>\n",
       "      <td>3.600500e+14</td>\n",
       "      <td>116814.153846</td>\n",
       "      <td>1303.183315</td>\n",
       "      <td>2.641470</td>\n",
       "      <td>4.547958</td>\n",
       "      <td>17.800000</td>\n",
       "      <td>5.000000</td>\n",
       "    </tr>\n",
       "    <tr>\n",
       "      <th>3</th>\n",
       "      <td>360050004001</td>\n",
       "      <td>POLYGON ((1024174.505615234 234947.731396367, ...</td>\n",
       "      <td>3.600500e+14</td>\n",
       "      <td>188559.140013</td>\n",
       "      <td>2020.183073</td>\n",
       "      <td>7.964882</td>\n",
       "      <td>6.732080</td>\n",
       "      <td>216.000000</td>\n",
       "      <td>4.000000</td>\n",
       "    </tr>\n",
       "    <tr>\n",
       "      <th>4</th>\n",
       "      <td>360050004002</td>\n",
       "      <td>POLYGON ((1024604.209411622 234226.9358031033,...</td>\n",
       "      <td>3.600500e+14</td>\n",
       "      <td>228050.083161</td>\n",
       "      <td>2126.865002</td>\n",
       "      <td>4.454643</td>\n",
       "      <td>5.820165</td>\n",
       "      <td>54.000000</td>\n",
       "      <td>12.666667</td>\n",
       "    </tr>\n",
       "  </tbody>\n",
       "</table>\n",
       "</div>"
      ],
      "text/plain": [
       "          geoid                                           geometry  \\\n",
       "0  360050002001  (POLYGON ((1022729.262390137 235476.9921995869...   \n",
       "1  360050002002  (POLYGON ((1024075.043823242 234930.1988035945...   \n",
       "2  360050002003  (POLYGON ((1023807.029235841 233647.6192137522...   \n",
       "3  360050004001  POLYGON ((1024174.505615234 234947.731396367, ...   \n",
       "4  360050004002  POLYGON ((1024604.209411622 234226.9358031033,...   \n",
       "\n",
       "      BCTCB2010     Shape_Area   Shape_Leng  dist_tohom  dist_towor  \\\n",
       "0  3.600500e+14  165502.387824  1902.630188    1.689186    5.015495   \n",
       "1  3.600500e+14  151808.843054  1804.746075    2.009876    4.787413   \n",
       "2  3.600500e+14  116814.153846  1303.183315    2.641470    4.547958   \n",
       "3  3.600500e+14  188559.140013  2020.183073    7.964882    6.732080   \n",
       "4  3.600500e+14  228050.083161  2126.865002    4.454643    5.820165   \n",
       "\n",
       "    residents    workers  \n",
       "0   38.000000   4.500000  \n",
       "1   42.666667   4.333333  \n",
       "2   17.800000   5.000000  \n",
       "3  216.000000   4.000000  \n",
       "4   54.000000  12.666667  "
      ]
     },
     "execution_count": 26,
     "metadata": {},
     "output_type": "execute_result"
    }
   ],
   "source": [
    "df['BCTCB2010'] = df['BCTCB2010'].astype('int')\n",
    "df['geoid'] = [i[0:-3] for i in df['BCTCB2010'].astype('str')]\n",
    "df = df.dissolve(by = 'geoid', aggfunc = 'mean', as_index = False)\n",
    "df.head()"
   ]
  },
  {
   "cell_type": "code",
   "execution_count": 27,
   "metadata": {
    "collapsed": false
   },
   "outputs": [],
   "source": [
    "# get station demographics and distance\n",
    "citi_demo = pd.DataFrame()\n",
    "for i in range(len(citi_stations_new)):\n",
    "    dists = transpose(pd.DataFrame(df[np.in1d(df.geoid, [j[0:-3] for j in citi_stations_new.tracts.iloc[i]])].mean()))\n",
    "    dists.index = [citi_stations_new.station_id.iloc[i]]\n",
    "    dems = transpose(pd.DataFrame(demo[np.in1d(demo.geoid.astype('str'), [j[0:-3] for j in citi_stations_new.tracts.iloc[i]])].mean()))\n",
    "    dems.index = [citi_stations_new.station_id.iloc[i]]\n",
    "    citi_new = dists.merge(dems, left_index = True, right_index = True)\n",
    "    citi_demo = citi_demo.append(citi_new[['bike','commute_time','dist_tohom','dist_towor',\\\n",
    "                                           'income_pc','no_vehicle_own','no_vehicle_rent','pop','workers', 'residents']])"
   ]
  },
  {
   "cell_type": "code",
   "execution_count": 28,
   "metadata": {
    "collapsed": false
   },
   "outputs": [
    {
     "data": {
      "text/html": [
       "<div>\n",
       "<table border=\"1\" class=\"dataframe\">\n",
       "  <thead>\n",
       "    <tr style=\"text-align: right;\">\n",
       "      <th></th>\n",
       "      <th>bike</th>\n",
       "      <th>commute_time</th>\n",
       "      <th>dist_tohom</th>\n",
       "      <th>dist_towor</th>\n",
       "      <th>income_pc</th>\n",
       "      <th>no_vehicle_own</th>\n",
       "      <th>no_vehicle_rent</th>\n",
       "      <th>pop</th>\n",
       "      <th>workers</th>\n",
       "      <th>residents</th>\n",
       "    </tr>\n",
       "  </thead>\n",
       "  <tbody>\n",
       "    <tr>\n",
       "      <th>3386</th>\n",
       "      <td>0.000000</td>\n",
       "      <td>258.000000</td>\n",
       "      <td>5.057410</td>\n",
       "      <td>4.406059</td>\n",
       "      <td>65026.500000</td>\n",
       "      <td>36.000000</td>\n",
       "      <td>138.500000</td>\n",
       "      <td>501.500000</td>\n",
       "      <td>29.000000</td>\n",
       "      <td>189.000000</td>\n",
       "    </tr>\n",
       "    <tr>\n",
       "      <th>3340</th>\n",
       "      <td>22.000000</td>\n",
       "      <td>555.500000</td>\n",
       "      <td>5.064736</td>\n",
       "      <td>3.399801</td>\n",
       "      <td>29660.500000</td>\n",
       "      <td>5.000000</td>\n",
       "      <td>625.500000</td>\n",
       "      <td>2215.000000</td>\n",
       "      <td>12.700000</td>\n",
       "      <td>172.100000</td>\n",
       "    </tr>\n",
       "    <tr>\n",
       "      <th>3326</th>\n",
       "      <td>3.333333</td>\n",
       "      <td>396.666667</td>\n",
       "      <td>4.032270</td>\n",
       "      <td>3.408609</td>\n",
       "      <td>25993.666667</td>\n",
       "      <td>6.666667</td>\n",
       "      <td>454.000000</td>\n",
       "      <td>1372.000000</td>\n",
       "      <td>116.740741</td>\n",
       "      <td>57.555556</td>\n",
       "    </tr>\n",
       "    <tr>\n",
       "      <th>3353</th>\n",
       "      <td>5.000000</td>\n",
       "      <td>185.000000</td>\n",
       "      <td>6.069745</td>\n",
       "      <td>4.118496</td>\n",
       "      <td>38910.000000</td>\n",
       "      <td>4.500000</td>\n",
       "      <td>68.500000</td>\n",
       "      <td>370.000000</td>\n",
       "      <td>152.111111</td>\n",
       "      <td>27.333333</td>\n",
       "    </tr>\n",
       "    <tr>\n",
       "      <th>3342</th>\n",
       "      <td>34.666667</td>\n",
       "      <td>590.666667</td>\n",
       "      <td>5.379034</td>\n",
       "      <td>3.704642</td>\n",
       "      <td>26435.000000</td>\n",
       "      <td>9.000000</td>\n",
       "      <td>510.666667</td>\n",
       "      <td>1921.333333</td>\n",
       "      <td>53.678571</td>\n",
       "      <td>137.392857</td>\n",
       "    </tr>\n",
       "  </tbody>\n",
       "</table>\n",
       "</div>"
      ],
      "text/plain": [
       "           bike  commute_time  dist_tohom  dist_towor     income_pc  \\\n",
       "3386   0.000000    258.000000    5.057410    4.406059  65026.500000   \n",
       "3340  22.000000    555.500000    5.064736    3.399801  29660.500000   \n",
       "3326   3.333333    396.666667    4.032270    3.408609  25993.666667   \n",
       "3353   5.000000    185.000000    6.069745    4.118496  38910.000000   \n",
       "3342  34.666667    590.666667    5.379034    3.704642  26435.000000   \n",
       "\n",
       "      no_vehicle_own  no_vehicle_rent          pop     workers   residents  \n",
       "3386       36.000000       138.500000   501.500000   29.000000  189.000000  \n",
       "3340        5.000000       625.500000  2215.000000   12.700000  172.100000  \n",
       "3326        6.666667       454.000000  1372.000000  116.740741   57.555556  \n",
       "3353        4.500000        68.500000   370.000000  152.111111   27.333333  \n",
       "3342        9.000000       510.666667  1921.333333   53.678571  137.392857  "
      ]
     },
     "execution_count": 28,
     "metadata": {},
     "output_type": "execute_result"
    }
   ],
   "source": [
    "citi_demo = citi_demo.dropna()\n",
    "citi_demo.tail()"
   ]
  },
  {
   "cell_type": "code",
   "execution_count": 29,
   "metadata": {
    "collapsed": false
   },
   "outputs": [
    {
     "data": {
      "text/html": [
       "<div>\n",
       "<table border=\"1\" class=\"dataframe\">\n",
       "  <thead>\n",
       "    <tr style=\"text-align: right;\">\n",
       "      <th></th>\n",
       "      <th>geoid</th>\n",
       "      <th>geometry</th>\n",
       "      <th>BCTCB2010</th>\n",
       "      <th>Shape_Area</th>\n",
       "      <th>Shape_Leng</th>\n",
       "      <th>dist_tohom</th>\n",
       "      <th>dist_towor</th>\n",
       "      <th>residents</th>\n",
       "      <th>workers</th>\n",
       "    </tr>\n",
       "  </thead>\n",
       "  <tbody>\n",
       "    <tr>\n",
       "      <th>0</th>\n",
       "      <td>360050002001</td>\n",
       "      <td>(POLYGON ((1022729.262390137 235476.9921995869...</td>\n",
       "      <td>3.600500e+14</td>\n",
       "      <td>165502.387824</td>\n",
       "      <td>1902.630188</td>\n",
       "      <td>1.689186</td>\n",
       "      <td>5.015495</td>\n",
       "      <td>38.000000</td>\n",
       "      <td>4.500000</td>\n",
       "    </tr>\n",
       "    <tr>\n",
       "      <th>1</th>\n",
       "      <td>360050002002</td>\n",
       "      <td>(POLYGON ((1024075.043823242 234930.1988035945...</td>\n",
       "      <td>3.600500e+14</td>\n",
       "      <td>151808.843054</td>\n",
       "      <td>1804.746075</td>\n",
       "      <td>2.009876</td>\n",
       "      <td>4.787413</td>\n",
       "      <td>42.666667</td>\n",
       "      <td>4.333333</td>\n",
       "    </tr>\n",
       "    <tr>\n",
       "      <th>2</th>\n",
       "      <td>360050002003</td>\n",
       "      <td>(POLYGON ((1023807.029235841 233647.6192137522...</td>\n",
       "      <td>3.600500e+14</td>\n",
       "      <td>116814.153846</td>\n",
       "      <td>1303.183315</td>\n",
       "      <td>2.641470</td>\n",
       "      <td>4.547958</td>\n",
       "      <td>17.800000</td>\n",
       "      <td>5.000000</td>\n",
       "    </tr>\n",
       "    <tr>\n",
       "      <th>3</th>\n",
       "      <td>360050004001</td>\n",
       "      <td>POLYGON ((1024174.505615234 234947.731396367, ...</td>\n",
       "      <td>3.600500e+14</td>\n",
       "      <td>188559.140013</td>\n",
       "      <td>2020.183073</td>\n",
       "      <td>7.964882</td>\n",
       "      <td>6.732080</td>\n",
       "      <td>216.000000</td>\n",
       "      <td>4.000000</td>\n",
       "    </tr>\n",
       "    <tr>\n",
       "      <th>4</th>\n",
       "      <td>360050004002</td>\n",
       "      <td>POLYGON ((1024604.209411622 234226.9358031033,...</td>\n",
       "      <td>3.600500e+14</td>\n",
       "      <td>228050.083161</td>\n",
       "      <td>2126.865002</td>\n",
       "      <td>4.454643</td>\n",
       "      <td>5.820165</td>\n",
       "      <td>54.000000</td>\n",
       "      <td>12.666667</td>\n",
       "    </tr>\n",
       "  </tbody>\n",
       "</table>\n",
       "</div>"
      ],
      "text/plain": [
       "          geoid                                           geometry  \\\n",
       "0  360050002001  (POLYGON ((1022729.262390137 235476.9921995869...   \n",
       "1  360050002002  (POLYGON ((1024075.043823242 234930.1988035945...   \n",
       "2  360050002003  (POLYGON ((1023807.029235841 233647.6192137522...   \n",
       "3  360050004001  POLYGON ((1024174.505615234 234947.731396367, ...   \n",
       "4  360050004002  POLYGON ((1024604.209411622 234226.9358031033,...   \n",
       "\n",
       "      BCTCB2010     Shape_Area   Shape_Leng  dist_tohom  dist_towor  \\\n",
       "0  3.600500e+14  165502.387824  1902.630188    1.689186    5.015495   \n",
       "1  3.600500e+14  151808.843054  1804.746075    2.009876    4.787413   \n",
       "2  3.600500e+14  116814.153846  1303.183315    2.641470    4.547958   \n",
       "3  3.600500e+14  188559.140013  2020.183073    7.964882    6.732080   \n",
       "4  3.600500e+14  228050.083161  2126.865002    4.454643    5.820165   \n",
       "\n",
       "    residents    workers  \n",
       "0   38.000000   4.500000  \n",
       "1   42.666667   4.333333  \n",
       "2   17.800000   5.000000  \n",
       "3  216.000000   4.000000  \n",
       "4   54.000000  12.666667  "
      ]
     },
     "execution_count": 29,
     "metadata": {},
     "output_type": "execute_result"
    }
   ],
   "source": [
    "df.head()"
   ]
  },
  {
   "cell_type": "code",
   "execution_count": 30,
   "metadata": {
    "collapsed": false
   },
   "outputs": [
    {
     "data": {
      "text/plain": [
       "<matplotlib.axes._subplots.AxesSubplot at 0x7f5fa082a290>"
      ]
     },
     "execution_count": 30,
     "metadata": {},
     "output_type": "execute_result"
    },
    {
     "data": {
      "image/png": "[encoded data removed]",
      "text/plain": [
       "<matplotlib.figure.Figure at 0x7f5fa0687210>"
      ]
     },
     "metadata": {},
     "output_type": "display_data"
    }
   ],
   "source": [
    "citi_stations_new = citi_stations_new.merge(citi_demo, left_on = 'station_id', right_index = True)\n",
    "citi_stations_new.plot()"
   ]
  },
  {
   "cell_type": "markdown",
   "metadata": {},
   "source": [
    "## add distance to subway"
   ]
  },
  {
   "cell_type": "code",
   "execution_count": 31,
   "metadata": {
    "collapsed": false
   },
   "outputs": [
    {
     "data": {
      "text/html": [
       "<div>\n",
       "<table border=\"1\" class=\"dataframe\">\n",
       "  <thead>\n",
       "    <tr style=\"text-align: right;\">\n",
       "      <th></th>\n",
       "      <th>geometry</th>\n",
       "    </tr>\n",
       "  </thead>\n",
       "  <tbody>\n",
       "    <tr>\n",
       "      <th>0</th>\n",
       "      <td>POINT (984779.6435399343 179876.8295590221)</td>\n",
       "    </tr>\n",
       "    <tr>\n",
       "      <th>1</th>\n",
       "      <td>POINT (984779.6435399343 179876.8295590221)</td>\n",
       "    </tr>\n",
       "    <tr>\n",
       "      <th>2</th>\n",
       "      <td>POINT (983265.2682330192 177963.0294655868)</td>\n",
       "    </tr>\n",
       "    <tr>\n",
       "      <th>3</th>\n",
       "      <td>POINT (983265.2682330192 177963.0294655868)</td>\n",
       "    </tr>\n",
       "    <tr>\n",
       "      <th>4</th>\n",
       "      <td>POINT (983265.2682330192 177963.0294655868)</td>\n",
       "    </tr>\n",
       "  </tbody>\n",
       "</table>\n",
       "</div>"
      ],
      "text/plain": [
       "                                      geometry\n",
       "0  POINT (984779.6435399343 179876.8295590221)\n",
       "1  POINT (984779.6435399343 179876.8295590221)\n",
       "2  POINT (983265.2682330192 177963.0294655868)\n",
       "3  POINT (983265.2682330192 177963.0294655868)\n",
       "4  POINT (983265.2682330192 177963.0294655868)"
      ]
     },
     "execution_count": 31,
     "metadata": {},
     "output_type": "execute_result"
    }
   ],
   "source": [
    "# combine lat and lon to one column\n",
    "# Create Point Geometry for based on lonlat column\n",
    "subway['lonlat']=zip(subway['Station Longitude'], subway['Station Latitude'])\n",
    "subway['geometry']=subway[['lonlat']].applymap(lambda x:shp.geometry.Point(x))\n",
    "subway = gp.GeoDataFrame(subway[['geometry']], geometry = 'geometry')\n",
    "\n",
    "# handle coordinate system\n",
    "subway.crs = {'init' :'epsg:4326'}\n",
    "subway = subway.to_crs(epsg=2263)\n",
    "subway.head()"
   ]
  },
  {
   "cell_type": "code",
   "execution_count": 32,
   "metadata": {
    "collapsed": false
   },
   "outputs": [
    {
     "name": "stdout",
     "output_type": "stream",
     "text": [
      "% 100.\n"
     ]
    }
   ],
   "source": [
    "# are citibikes near subway stations? near = within a quarter mile\n",
    "a = []\n",
    "b = []\n",
    "citi_stations_new['subway_ct'] = 0\n",
    "citi_stations_new['subway_dist'] = 0\n",
    "for i in range(len(citi_stations_new)):\n",
    "    # includes stations not in Manhattan, return 0 for CB. \n",
    "    b.append(subway.distance(citi_stations_new.iloc[i].geometry).min() / 5280)\n",
    "    try: \n",
    "        a.append(len(subway[subway.geometry.intersects(citi_stations_new.iloc[i].geometry.buffer(5280/4))]))\n",
    "    except: \n",
    "        a.append(0)\n",
    "    print '\\r',\"%\",str((i+1)*100./len(citi_stations_new))[:4],\n",
    "citi_stations_new['subway_ct'] = a\n",
    "citi_stations_new['subway_dist'] = b\n",
    "citi_stations_new = citi_stations_new.reindex()"
   ]
  },
  {
   "cell_type": "code",
   "execution_count": 33,
   "metadata": {
    "collapsed": false
   },
   "outputs": [
    {
     "name": "stdout",
     "output_type": "stream",
     "text": [
      "% 100.\n"
     ]
    }
   ],
   "source": [
    "# how dense are citibike stations? near = within a quarter mile\n",
    "a = []\n",
    "citi_stations_new['citi_ct'] = 0\n",
    "for i in range(len(citi_stations_new)):\n",
    "    # includes stations not in Manhattan, return 0 for CB. \n",
    "    try: \n",
    "        a.append(len(citi_stations_new[citi_stations_new.geometry.intersects(citi_stations_new.iloc[i].geometry.buffer(2 * 5280))]))\n",
    "    except: \n",
    "        a.append(0)\n",
    "    print '\\r',\"%\",str((i+1)*100./len(citi_stations_new))[:4],\n",
    "citi_stations_new['citi_ct'] = a\n",
    "citi_stations_new = citi_stations_new.reindex()"
   ]
  },
  {
   "cell_type": "code",
   "execution_count": 34,
   "metadata": {
    "collapsed": false
   },
   "outputs": [
    {
     "data": {
      "text/html": [
       "<div>\n",
       "<table border=\"1\" class=\"dataframe\">\n",
       "  <thead>\n",
       "    <tr style=\"text-align: right;\">\n",
       "      <th></th>\n",
       "      <th>station_id</th>\n",
       "      <th>n_rides</th>\n",
       "      <th>geometry</th>\n",
       "      <th>tracts</th>\n",
       "      <th>bike</th>\n",
       "      <th>commute_time</th>\n",
       "      <th>dist_tohom</th>\n",
       "      <th>dist_towor</th>\n",
       "      <th>income_pc</th>\n",
       "      <th>no_vehicle_own</th>\n",
       "      <th>no_vehicle_rent</th>\n",
       "      <th>pop</th>\n",
       "      <th>workers</th>\n",
       "      <th>residents</th>\n",
       "      <th>subway_ct</th>\n",
       "      <th>subway_dist</th>\n",
       "      <th>citi_ct</th>\n",
       "    </tr>\n",
       "  </thead>\n",
       "  <tbody>\n",
       "    <tr>\n",
       "      <th>0</th>\n",
       "      <td>3075</td>\n",
       "      <td>1639</td>\n",
       "      <td>POINT (995903.4755103544 196890.1444962268)</td>\n",
       "      <td>[360470535001000, 360470525001012, 36047052900...</td>\n",
       "      <td>7.75</td>\n",
       "      <td>512.5</td>\n",
       "      <td>2.741940</td>\n",
       "      <td>2.062547</td>\n",
       "      <td>10482.25</td>\n",
       "      <td>14.0</td>\n",
       "      <td>406.75</td>\n",
       "      <td>1877.0</td>\n",
       "      <td>85.982143</td>\n",
       "      <td>109.711310</td>\n",
       "      <td>10</td>\n",
       "      <td>0.088465</td>\n",
       "      <td>84</td>\n",
       "    </tr>\n",
       "    <tr>\n",
       "      <th>1</th>\n",
       "      <td>3133</td>\n",
       "      <td>1941</td>\n",
       "      <td>POINT (993984.1793322223 218842.3118619589)</td>\n",
       "      <td>[360610120001000, 360610120001001, 36061012000...</td>\n",
       "      <td>0.00</td>\n",
       "      <td>413.5</td>\n",
       "      <td>5.726791</td>\n",
       "      <td>2.390089</td>\n",
       "      <td>140649.00</td>\n",
       "      <td>252.0</td>\n",
       "      <td>128.00</td>\n",
       "      <td>1180.0</td>\n",
       "      <td>198.650000</td>\n",
       "      <td>118.800000</td>\n",
       "      <td>10</td>\n",
       "      <td>0.075666</td>\n",
       "      <td>102</td>\n",
       "    </tr>\n",
       "    <tr>\n",
       "      <th>2</th>\n",
       "      <td>3118</td>\n",
       "      <td>7029</td>\n",
       "      <td>POINT (997319.5902269882 207260.8096926071)</td>\n",
       "      <td>[360470575001000, 360470579002012, 36047057500...</td>\n",
       "      <td>11.50</td>\n",
       "      <td>273.0</td>\n",
       "      <td>5.019588</td>\n",
       "      <td>2.755904</td>\n",
       "      <td>27253.00</td>\n",
       "      <td>0.0</td>\n",
       "      <td>192.00</td>\n",
       "      <td>613.0</td>\n",
       "      <td>51.500000</td>\n",
       "      <td>111.555556</td>\n",
       "      <td>0</td>\n",
       "      <td>0.301732</td>\n",
       "      <td>68</td>\n",
       "    </tr>\n",
       "    <tr>\n",
       "      <th>3</th>\n",
       "      <td>3110</td>\n",
       "      <td>10684</td>\n",
       "      <td>POINT (997279.3509328024 204177.0295605607)</td>\n",
       "      <td>[360470561003000, 360470561003001, 36047056100...</td>\n",
       "      <td>12.00</td>\n",
       "      <td>610.0</td>\n",
       "      <td>4.849062</td>\n",
       "      <td>2.566536</td>\n",
       "      <td>39318.00</td>\n",
       "      <td>0.0</td>\n",
       "      <td>351.00</td>\n",
       "      <td>1070.0</td>\n",
       "      <td>101.500000</td>\n",
       "      <td>116.500000</td>\n",
       "      <td>6</td>\n",
       "      <td>0.191563</td>\n",
       "      <td>76</td>\n",
       "    </tr>\n",
       "    <tr>\n",
       "      <th>4</th>\n",
       "      <td>3093</td>\n",
       "      <td>24263</td>\n",
       "      <td>POINT (995751.5386958895 200666.2396872085)</td>\n",
       "      <td>[360470553001001, 360470553001002, 36047055300...</td>\n",
       "      <td>0.00</td>\n",
       "      <td>326.5</td>\n",
       "      <td>4.684627</td>\n",
       "      <td>2.710511</td>\n",
       "      <td>42034.50</td>\n",
       "      <td>0.0</td>\n",
       "      <td>225.00</td>\n",
       "      <td>674.0</td>\n",
       "      <td>116.125000</td>\n",
       "      <td>116.375000</td>\n",
       "      <td>4</td>\n",
       "      <td>0.086568</td>\n",
       "      <td>74</td>\n",
       "    </tr>\n",
       "  </tbody>\n",
       "</table>\n",
       "</div>"
      ],
      "text/plain": [
       "   station_id  n_rides                                     geometry  \\\n",
       "0        3075     1639  POINT (995903.4755103544 196890.1444962268)   \n",
       "1        3133     1941  POINT (993984.1793322223 218842.3118619589)   \n",
       "2        3118     7029  POINT (997319.5902269882 207260.8096926071)   \n",
       "3        3110    10684  POINT (997279.3509328024 204177.0295605607)   \n",
       "4        3093    24263  POINT (995751.5386958895 200666.2396872085)   \n",
       "\n",
       "                                              tracts   bike  commute_time  \\\n",
       "0  [360470535001000, 360470525001012, 36047052900...   7.75         512.5   \n",
       "1  [360610120001000, 360610120001001, 36061012000...   0.00         413.5   \n",
       "2  [360470575001000, 360470579002012, 36047057500...  11.50         273.0   \n",
       "3  [360470561003000, 360470561003001, 36047056100...  12.00         610.0   \n",
       "4  [360470553001001, 360470553001002, 36047055300...   0.00         326.5   \n",
       "\n",
       "   dist_tohom  dist_towor  income_pc  no_vehicle_own  no_vehicle_rent     pop  \\\n",
       "0    2.741940    2.062547   10482.25            14.0           406.75  1877.0   \n",
       "1    5.726791    2.390089  140649.00           252.0           128.00  1180.0   \n",
       "2    5.019588    2.755904   27253.00             0.0           192.00   613.0   \n",
       "3    4.849062    2.566536   39318.00             0.0           351.00  1070.0   \n",
       "4    4.684627    2.710511   42034.50             0.0           225.00   674.0   \n",
       "\n",
       "      workers   residents  subway_ct  subway_dist  citi_ct  \n",
       "0   85.982143  109.711310         10     0.088465       84  \n",
       "1  198.650000  118.800000         10     0.075666      102  \n",
       "2   51.500000  111.555556          0     0.301732       68  \n",
       "3  101.500000  116.500000          6     0.191563       76  \n",
       "4  116.125000  116.375000          4     0.086568       74  "
      ]
     },
     "execution_count": 34,
     "metadata": {},
     "output_type": "execute_result"
    }
   ],
   "source": [
    "citi_stations_new.head()"
   ]
  },
  {
   "cell_type": "code",
   "execution_count": 35,
   "metadata": {
    "collapsed": false
   },
   "outputs": [],
   "source": [
    "# export final data\n",
    "citi_stations_new.drop('tracts',axis = 1, inplace = True)\n",
    "\n",
    "if not os.path.exists('data/citi_stations_new/'):\n",
    "    os.makedirs('data/citi_stations_new/')\n",
    "    \n",
    "citi_stations_new.to_file('data/citi_stations_new/citi_stations_new.shp')"
   ]
  },
  {
   "cell_type": "code",
   "execution_count": 36,
   "metadata": {
    "collapsed": false
   },
   "outputs": [
    {
     "data": {
      "text/plain": [
       "<matplotlib.axes._subplots.AxesSubplot at 0x7f5fb7c4ded0>"
      ]
     },
     "execution_count": 36,
     "metadata": {},
     "output_type": "execute_result"
    },
    {
     "data": {
      "image/png": "[encoded data removed]",
      "text/plain": [
       "<matplotlib.figure.Figure at 0x7f5fb7bd7290>"
      ]
     },
     "metadata": {},
     "output_type": "display_data"
    }
   ],
   "source": [
    "citi_stations_new.plot()"
   ]
  },
  {
   "cell_type": "code",
   "execution_count": null,
   "metadata": {
    "collapsed": true
   },
   "outputs": [],
   "source": []
  }
 ],
 "metadata": {
  "kernelspec": {
   "display_name": "PUI2016_Python2",
   "language": "python",
   "name": "pui2016_python2"
  },
  "language_info": {
   "codemirror_mode": {
    "name": "ipython",
    "version": 2
   },
   "file_extension": ".py",
   "mimetype": "text/x-python",
   "name": "python",
   "nbconvert_exporter": "python",
   "pygments_lexer": "ipython2",
   "version": "2.7.12"
  }
 },
 "nbformat": 4,
 "nbformat_minor": 0
}
