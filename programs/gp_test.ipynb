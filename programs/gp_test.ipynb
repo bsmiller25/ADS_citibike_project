{
 "cells": [
  {
   "cell_type": "code",
   "execution_count": 41,
   "metadata": {
    "collapsed": false
   },
   "outputs": [
    {
     "name": "stdout",
     "output_type": "stream",
     "text": [
      "Populating the interactive namespace from numpy and matplotlib\n"
     ]
    },
    {
     "name": "stderr",
     "output_type": "stream",
     "text": [
      "/opt/rh/anaconda/root/envs/PUI2016_Python2/lib/python2.7/site-packages/IPython/core/magics/pylab.py:161: UserWarning: pylab import has clobbered these variables: ['test']\n",
      "`%matplotlib` prevents importing * from pylab and numpy\n",
      "  \"\\n`%matplotlib` prevents importing * from pylab and numpy\"\n"
     ]
    }
   ],
   "source": [
    "import numpy as np\n",
    "import pandas as pd\n",
    "import geopandas as gp\n",
    "import os\n",
    "import subprocess\n",
    "import pylab as pl\n",
    "import shapely as shp\n",
    "\n",
    "\n",
    "%pylab inline\n",
    "\n",
    "# make sure we are at the top of the repo\n",
    "wd = subprocess.check_output('git rev-parse --show-toplevel', shell = True)\n",
    "os.chdir(wd[:-1]) #-1 removes \\n"
   ]
  },
  {
   "cell_type": "code",
   "execution_count": 2,
   "metadata": {
    "collapsed": true
   },
   "outputs": [],
   "source": [
    "# read in nyc census block shapefiles\n",
    "nycshp = gp.read_file('data/nycb2010_16c/nycb2010.shp')\n",
    "\n",
    "# we only need manhattan \n",
    "manshp = nycshp[nycshp.BoroName == 'Manhattan']"
   ]
  },
  {
   "cell_type": "code",
   "execution_count": 3,
   "metadata": {
    "collapsed": true
   },
   "outputs": [],
   "source": [
    "# read in LEHD OD data\n",
    "lehd = pd.read_csv('data/lehd_od_2014.csv',\n",
    " dtype = {'w_geocode':'string',\n",
    "          'h_geocode':'string'})"
   ]
  },
  {
   "cell_type": "code",
   "execution_count": 13,
   "metadata": {
    "collapsed": false
   },
   "outputs": [],
   "source": [
    "# read in bikeshare data\n",
    "bks = pd.read_csv('data/citibike_201401.csv')"
   ]
  },
  {
   "cell_type": "code",
   "execution_count": 43,
   "metadata": {
    "collapsed": false
   },
   "outputs": [
    {
     "data": {
      "text/html": [
       "<div>\n",
       "<table border=\"1\" class=\"dataframe\">\n",
       "  <thead>\n",
       "    <tr style=\"text-align: right;\">\n",
       "      <th></th>\n",
       "      <th>id</th>\n",
       "      <th>n_rides</th>\n",
       "      <th>lat</th>\n",
       "      <th>lon</th>\n",
       "    </tr>\n",
       "  </thead>\n",
       "  <tbody>\n",
       "    <tr>\n",
       "      <th>0</th>\n",
       "      <td>72</td>\n",
       "      <td>924</td>\n",
       "      <td>40.767272</td>\n",
       "      <td>-73.993929</td>\n",
       "    </tr>\n",
       "    <tr>\n",
       "      <th>1</th>\n",
       "      <td>79</td>\n",
       "      <td>617</td>\n",
       "      <td>40.719116</td>\n",
       "      <td>-74.006667</td>\n",
       "    </tr>\n",
       "    <tr>\n",
       "      <th>2</th>\n",
       "      <td>82</td>\n",
       "      <td>356</td>\n",
       "      <td>40.711174</td>\n",
       "      <td>-74.000165</td>\n",
       "    </tr>\n",
       "    <tr>\n",
       "      <th>3</th>\n",
       "      <td>83</td>\n",
       "      <td>444</td>\n",
       "      <td>40.683826</td>\n",
       "      <td>-73.976323</td>\n",
       "    </tr>\n",
       "    <tr>\n",
       "      <th>4</th>\n",
       "      <td>116</td>\n",
       "      <td>1919</td>\n",
       "      <td>40.741776</td>\n",
       "      <td>-74.001497</td>\n",
       "    </tr>\n",
       "  </tbody>\n",
       "</table>\n",
       "</div>"
      ],
      "text/plain": [
       "    id  n_rides        lat        lon\n",
       "0   72      924  40.767272 -73.993929\n",
       "1   79      617  40.719116 -74.006667\n",
       "2   82      356  40.711174 -74.000165\n",
       "3   83      444  40.683826 -73.976323\n",
       "4  116     1919  40.741776 -74.001497"
      ]
     },
     "execution_count": 43,
     "metadata": {},
     "output_type": "execute_result"
    }
   ],
   "source": [
    "# group rides by start station\n",
    "\n",
    "# get number of rides per station\n",
    "bks_count = bks.groupby('start station id', as_index = False)[['tripduration']].count()\n",
    "bks_count.columns = ['start station id', 'n_rides']\n",
    "\n",
    "# get station locations\n",
    "bks_locs = bks.groupby('start station id', as_index = False)[['start station latitude','start station longitude']].first()\n",
    "\n",
    "\n",
    "# merge\n",
    "bks_clean = bks_count.merge(bks_locs, on = 'start station id')\n",
    "bks_clean.columns = ['id','n_rides','lat','lon']\n",
    "bks_clean.head()"
   ]
  },
  {
   "cell_type": "code",
   "execution_count": 54,
   "metadata": {
    "collapsed": false
   },
   "outputs": [],
   "source": [
    "# convert bike share data to points data\n",
    "crs = manshp.crs\n",
    "geometry = [shp.geometry.Point(xy) for xy in zip(bks_clean.lat,bks_clean.lon)]\n",
    "bks_geo = gp.GeoDataFrame(bks_clean, crs=crs, geometry=geometry)"
   ]
  },
  {
   "cell_type": "code",
   "execution_count": 66,
   "metadata": {
    "collapsed": false
   },
   "outputs": [
    {
     "data": {
      "text/html": [
       "<div>\n",
       "<table border=\"1\" class=\"dataframe\">\n",
       "  <thead>\n",
       "    <tr style=\"text-align: right;\">\n",
       "      <th></th>\n",
       "      <th>BCTCB2010</th>\n",
       "      <th>BoroCode</th>\n",
       "      <th>BoroName</th>\n",
       "      <th>CB2010</th>\n",
       "      <th>CT2010</th>\n",
       "      <th>Shape_Area</th>\n",
       "      <th>Shape_Leng</th>\n",
       "      <th>geometry</th>\n",
       "      <th>w_geo</th>\n",
       "      <th>h_geo</th>\n",
       "    </tr>\n",
       "  </thead>\n",
       "  <tbody>\n",
       "    <tr>\n",
       "      <th>3120</th>\n",
       "      <td>10005000003</td>\n",
       "      <td>1</td>\n",
       "      <td>Manhattan</td>\n",
       "      <td>0003</td>\n",
       "      <td>000500</td>\n",
       "      <td>183471.102412</td>\n",
       "      <td>6870.140044</td>\n",
       "      <td>(POLYGON ((978645.7485961914 188780.5050048828...</td>\n",
       "      <td>10005000003</td>\n",
       "      <td>10005000003</td>\n",
       "    </tr>\n",
       "    <tr>\n",
       "      <th>3121</th>\n",
       "      <td>10002011000</td>\n",
       "      <td>1</td>\n",
       "      <td>Manhattan</td>\n",
       "      <td>1000</td>\n",
       "      <td>000201</td>\n",
       "      <td>127311.991692</td>\n",
       "      <td>1566.229697</td>\n",
       "      <td>POLYGON ((988376.7305908203 199328.6176147461,...</td>\n",
       "      <td>10002011000</td>\n",
       "      <td>10002011000</td>\n",
       "    </tr>\n",
       "    <tr>\n",
       "      <th>3122</th>\n",
       "      <td>10002021000</td>\n",
       "      <td>1</td>\n",
       "      <td>Manhattan</td>\n",
       "      <td>1000</td>\n",
       "      <td>000202</td>\n",
       "      <td>57115.914029</td>\n",
       "      <td>1187.883860</td>\n",
       "      <td>POLYGON ((989804.9920043945 199396.6488037109,...</td>\n",
       "      <td>10002021000</td>\n",
       "      <td>10002021000</td>\n",
       "    </tr>\n",
       "    <tr>\n",
       "      <th>3123</th>\n",
       "      <td>10007001000</td>\n",
       "      <td>1</td>\n",
       "      <td>Manhattan</td>\n",
       "      <td>1000</td>\n",
       "      <td>000700</td>\n",
       "      <td>71173.193979</td>\n",
       "      <td>1130.724601</td>\n",
       "      <td>POLYGON ((981572.016784668 197495.8228149414, ...</td>\n",
       "      <td>10007001000</td>\n",
       "      <td>10007001000</td>\n",
       "    </tr>\n",
       "    <tr>\n",
       "      <th>3124</th>\n",
       "      <td>10009001000</td>\n",
       "      <td>1</td>\n",
       "      <td>Manhattan</td>\n",
       "      <td>1000</td>\n",
       "      <td>000900</td>\n",
       "      <td>147868.288795</td>\n",
       "      <td>1596.659767</td>\n",
       "      <td>POLYGON ((981514.6381835938 196417.3043823242,...</td>\n",
       "      <td>10009001000</td>\n",
       "      <td>10009001000</td>\n",
       "    </tr>\n",
       "  </tbody>\n",
       "</table>\n",
       "</div>"
      ],
      "text/plain": [
       "        BCTCB2010 BoroCode   BoroName CB2010  CT2010     Shape_Area  \\\n",
       "3120  10005000003        1  Manhattan   0003  000500  183471.102412   \n",
       "3121  10002011000        1  Manhattan   1000  000201  127311.991692   \n",
       "3122  10002021000        1  Manhattan   1000  000202   57115.914029   \n",
       "3123  10007001000        1  Manhattan   1000  000700   71173.193979   \n",
       "3124  10009001000        1  Manhattan   1000  000900  147868.288795   \n",
       "\n",
       "       Shape_Leng                                           geometry  \\\n",
       "3120  6870.140044  (POLYGON ((978645.7485961914 188780.5050048828...   \n",
       "3121  1566.229697  POLYGON ((988376.7305908203 199328.6176147461,...   \n",
       "3122  1187.883860  POLYGON ((989804.9920043945 199396.6488037109,...   \n",
       "3123  1130.724601  POLYGON ((981572.016784668 197495.8228149414, ...   \n",
       "3124  1596.659767  POLYGON ((981514.6381835938 196417.3043823242,...   \n",
       "\n",
       "            w_geo        h_geo  \n",
       "3120  10005000003  10005000003  \n",
       "3121  10002011000  10002011000  \n",
       "3122  10002021000  10002021000  \n",
       "3123  10007001000  10007001000  \n",
       "3124  10009001000  10009001000  "
      ]
     },
     "execution_count": 66,
     "metadata": {},
     "output_type": "execute_result"
    }
   ],
   "source": [
    "# spatially join manhattan shapefile and bikeshare stations\n",
    "\n",
    "# no lat/lon in census block data?\n",
    "\n",
    "#test = gp.sjoin(manshp, bks_geo)\n",
    "\n",
    "manshp.head()\n"
   ]
  },
  {
   "cell_type": "code",
   "execution_count": 61,
   "metadata": {
    "collapsed": false
   },
   "outputs": [
    {
     "data": {
      "text/html": [
       "<div>\n",
       "<table border=\"1\" class=\"dataframe\">\n",
       "  <thead>\n",
       "    <tr style=\"text-align: right;\">\n",
       "      <th></th>\n",
       "      <th>BCTCB2010</th>\n",
       "      <th>BoroCode</th>\n",
       "      <th>BoroName</th>\n",
       "      <th>CB2010</th>\n",
       "      <th>CT2010</th>\n",
       "      <th>Shape_Area</th>\n",
       "      <th>Shape_Leng</th>\n",
       "      <th>geometry</th>\n",
       "      <th>w_geo</th>\n",
       "      <th>h_geo</th>\n",
       "    </tr>\n",
       "  </thead>\n",
       "  <tbody>\n",
       "    <tr>\n",
       "      <th>3120</th>\n",
       "      <td>10005000003</td>\n",
       "      <td>1</td>\n",
       "      <td>Manhattan</td>\n",
       "      <td>0003</td>\n",
       "      <td>000500</td>\n",
       "      <td>183471.102412</td>\n",
       "      <td>6870.140044</td>\n",
       "      <td>(POLYGON ((978645.7485961914 188780.5050048828...</td>\n",
       "      <td>10005000003</td>\n",
       "      <td>10005000003</td>\n",
       "    </tr>\n",
       "    <tr>\n",
       "      <th>3121</th>\n",
       "      <td>10002011000</td>\n",
       "      <td>1</td>\n",
       "      <td>Manhattan</td>\n",
       "      <td>1000</td>\n",
       "      <td>000201</td>\n",
       "      <td>127311.991692</td>\n",
       "      <td>1566.229697</td>\n",
       "      <td>POLYGON ((988376.7305908203 199328.6176147461,...</td>\n",
       "      <td>10002011000</td>\n",
       "      <td>10002011000</td>\n",
       "    </tr>\n",
       "    <tr>\n",
       "      <th>3122</th>\n",
       "      <td>10002021000</td>\n",
       "      <td>1</td>\n",
       "      <td>Manhattan</td>\n",
       "      <td>1000</td>\n",
       "      <td>000202</td>\n",
       "      <td>57115.914029</td>\n",
       "      <td>1187.883860</td>\n",
       "      <td>POLYGON ((989804.9920043945 199396.6488037109,...</td>\n",
       "      <td>10002021000</td>\n",
       "      <td>10002021000</td>\n",
       "    </tr>\n",
       "    <tr>\n",
       "      <th>3123</th>\n",
       "      <td>10007001000</td>\n",
       "      <td>1</td>\n",
       "      <td>Manhattan</td>\n",
       "      <td>1000</td>\n",
       "      <td>000700</td>\n",
       "      <td>71173.193979</td>\n",
       "      <td>1130.724601</td>\n",
       "      <td>POLYGON ((981572.016784668 197495.8228149414, ...</td>\n",
       "      <td>10007001000</td>\n",
       "      <td>10007001000</td>\n",
       "    </tr>\n",
       "    <tr>\n",
       "      <th>3124</th>\n",
       "      <td>10009001000</td>\n",
       "      <td>1</td>\n",
       "      <td>Manhattan</td>\n",
       "      <td>1000</td>\n",
       "      <td>000900</td>\n",
       "      <td>147868.288795</td>\n",
       "      <td>1596.659767</td>\n",
       "      <td>POLYGON ((981514.6381835938 196417.3043823242,...</td>\n",
       "      <td>10009001000</td>\n",
       "      <td>10009001000</td>\n",
       "    </tr>\n",
       "  </tbody>\n",
       "</table>\n",
       "</div>"
      ],
      "text/plain": [
       "        BCTCB2010 BoroCode   BoroName CB2010  CT2010     Shape_Area  \\\n",
       "3120  10005000003        1  Manhattan   0003  000500  183471.102412   \n",
       "3121  10002011000        1  Manhattan   1000  000201  127311.991692   \n",
       "3122  10002021000        1  Manhattan   1000  000202   57115.914029   \n",
       "3123  10007001000        1  Manhattan   1000  000700   71173.193979   \n",
       "3124  10009001000        1  Manhattan   1000  000900  147868.288795   \n",
       "\n",
       "       Shape_Leng                                           geometry  \\\n",
       "3120  6870.140044  (POLYGON ((978645.7485961914 188780.5050048828...   \n",
       "3121  1566.229697  POLYGON ((988376.7305908203 199328.6176147461,...   \n",
       "3122  1187.883860  POLYGON ((989804.9920043945 199396.6488037109,...   \n",
       "3123  1130.724601  POLYGON ((981572.016784668 197495.8228149414, ...   \n",
       "3124  1596.659767  POLYGON ((981514.6381835938 196417.3043823242,...   \n",
       "\n",
       "            w_geo        h_geo  \n",
       "3120  10005000003  10005000003  \n",
       "3121  10002011000  10002011000  \n",
       "3122  10002021000  10002021000  \n",
       "3123  10007001000  10007001000  \n",
       "3124  10009001000  10009001000  "
      ]
     },
     "execution_count": 61,
     "metadata": {},
     "output_type": "execute_result"
    }
   ],
   "source": [
    "manshp.head()"
   ]
  },
  {
   "cell_type": "code",
   "execution_count": 8,
   "metadata": {
    "collapsed": false
   },
   "outputs": [
    {
     "name": "stderr",
     "output_type": "stream",
     "text": [
      "/opt/rh/anaconda/root/envs/PUI2016_Python2/lib/python2.7/site-packages/ipykernel/__main__.py:6: SettingWithCopyWarning: \n",
      "A value is trying to be set on a copy of a slice from a DataFrame.\n",
      "Try using .loc[row_indexer,col_indexer] = value instead\n",
      "\n",
      "See the caveats in the documentation: http://pandas.pydata.org/pandas-docs/stable/indexing.html#indexing-view-versus-copy\n",
      "/opt/rh/anaconda/root/envs/PUI2016_Python2/lib/python2.7/site-packages/ipykernel/__main__.py:7: SettingWithCopyWarning: \n",
      "A value is trying to be set on a copy of a slice from a DataFrame.\n",
      "Try using .loc[row_indexer,col_indexer] = value instead\n",
      "\n",
      "See the caveats in the documentation: http://pandas.pydata.org/pandas-docs/stable/indexing.html#indexing-view-versus-copy\n"
     ]
    }
   ],
   "source": [
    "# clean LEHD geocodes to match census blocks from nyc shp\n",
    "lehd['w_geo'] = lehd['w_geocode'].str[4:]\n",
    "lehd['h_geo'] = lehd['h_geocode'].str[4:]\n",
    "\n",
    "# prepare manhattan data for merge\n",
    "manshp['w_geo'] = manshp['BCTCB2010']\n",
    "manshp['h_geo'] = manshp['BCTCB2010']\n",
    "\n",
    "# merge on home geocode\n",
    "#test = manshp.merge(lehd, on = ['h_geo'])"
   ]
  }
 ],
 "metadata": {
  "kernelspec": {
   "display_name": "PUI2016_Python2",
   "language": "python",
   "name": "pui2016_python2"
  },
  "language_info": {
   "codemirror_mode": {
    "name": "ipython",
    "version": 2
   },
   "file_extension": ".py",
   "mimetype": "text/x-python",
   "name": "python",
   "nbconvert_exporter": "python",
   "pygments_lexer": "ipython2",
   "version": "2.7.12"
  }
 },
 "nbformat": 4,
 "nbformat_minor": 0
}
