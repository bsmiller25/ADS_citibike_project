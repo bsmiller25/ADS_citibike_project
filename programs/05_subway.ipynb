{
 "cells": [
  {
   "cell_type": "code",
   "execution_count": 1,
   "metadata": {
    "collapsed": true
   },
   "outputs": [],
   "source": [
    "import numpy as np\n",
    "import pandas as pd\n",
    "import geopandas as gp\n",
    "import os\n",
    "import subprocess\n",
    "import shapely as shp\n",
    "from datetime import datetime\n",
    "\n",
    "# make sure we are at the top of the repo\n",
    "wd = subprocess.check_output('git rev-parse --show-toplevel', shell = True)\n",
    "os.chdir(wd[:-1]) #-1 removes \\n"
   ]
  },
  {
   "cell_type": "code",
   "execution_count": 2,
   "metadata": {
    "collapsed": false
   },
   "outputs": [],
   "source": [
    "# read in data\n",
    "\n",
    "df = gp.read_file('data/citi_docks/citi_docks.shp')\n",
    "\n",
    "subway = pd.read_csv('data/subway.csv')"
   ]
  },
  {
   "cell_type": "code",
   "execution_count": 3,
   "metadata": {
    "collapsed": false
   },
   "outputs": [
    {
     "data": {
      "text/html": [
       "<div>\n",
       "<table border=\"1\" class=\"dataframe\">\n",
       "  <thead>\n",
       "    <tr style=\"text-align: right;\">\n",
       "      <th></th>\n",
       "      <th>geometry</th>\n",
       "    </tr>\n",
       "  </thead>\n",
       "  <tbody>\n",
       "    <tr>\n",
       "      <th>0</th>\n",
       "      <td>POINT (984779.6435399343 179876.8295590221)</td>\n",
       "    </tr>\n",
       "    <tr>\n",
       "      <th>1</th>\n",
       "      <td>POINT (984779.6435399343 179876.8295590221)</td>\n",
       "    </tr>\n",
       "    <tr>\n",
       "      <th>2</th>\n",
       "      <td>POINT (983265.2682330192 177963.0294655868)</td>\n",
       "    </tr>\n",
       "    <tr>\n",
       "      <th>3</th>\n",
       "      <td>POINT (983265.2682330192 177963.0294655868)</td>\n",
       "    </tr>\n",
       "    <tr>\n",
       "      <th>4</th>\n",
       "      <td>POINT (983265.2682330192 177963.0294655868)</td>\n",
       "    </tr>\n",
       "  </tbody>\n",
       "</table>\n",
       "</div>"
      ],
      "text/plain": [
       "                                      geometry\n",
       "0  POINT (984779.6435399343 179876.8295590221)\n",
       "1  POINT (984779.6435399343 179876.8295590221)\n",
       "2  POINT (983265.2682330192 177963.0294655868)\n",
       "3  POINT (983265.2682330192 177963.0294655868)\n",
       "4  POINT (983265.2682330192 177963.0294655868)"
      ]
     },
     "execution_count": 3,
     "metadata": {},
     "output_type": "execute_result"
    }
   ],
   "source": [
    "# combine lat and lon to one column\n",
    "# Create Point Geometry for based on lonlat column\n",
    "subway['lonlat']=zip(subway['Station Longitude'], subway['Station Latitude'])\n",
    "subway['geometry']=subway[['lonlat']].applymap(lambda x:shp.geometry.Point(x))\n",
    "subway = gp.GeoDataFrame(subway[['geometry']], geometry = 'geometry')\n",
    "\n",
    "# handle coordinate system\n",
    "subway.crs = {'init' :'epsg:4326'}\n",
    "subway = subway.to_crs(epsg=2263)\n",
    "subway.head()"
   ]
  },
  {
   "cell_type": "code",
   "execution_count": 4,
   "metadata": {
    "collapsed": false
   },
   "outputs": [
    {
     "data": {
      "text/plain": [
       "2789.4372109760661"
      ]
     },
     "execution_count": 4,
     "metadata": {},
     "output_type": "execute_result"
    }
   ],
   "source": [
    "subway.distance(df.geometry[0]).min()"
   ]
  },
  {
   "cell_type": "code",
   "execution_count": 5,
   "metadata": {
    "collapsed": false
   },
   "outputs": [
    {
     "name": "stdout",
     "output_type": "stream",
     "text": [
      "% 100.\n"
     ]
    }
   ],
   "source": [
    "# are citibikes near subway stations? near = within a quarter mile\n",
    "a = []\n",
    "b = []\n",
    "df['subway_ct'] = 0\n",
    "for i in range(len(df)):\n",
    "    # includes stations not in Manhattan, return 0 for CB. \n",
    "    try: \n",
    "        a.append(len(subway[subway.geometry.intersects(df.iloc[i].geometry.buffer(5280/4))]))\n",
    "        b.append(subway.distance(df.geometry[i]).min() / 5280)\n",
    "    except: \n",
    "        a.append(0)\n",
    "    print '\\r',\"%\",str((i+1)*100./len(df))[:4],\n",
    "df['subway_ct'] = a\n",
    "df['subway_dist'] = b\n",
    "df = df.reindex()"
   ]
  },
  {
   "cell_type": "code",
   "execution_count": 6,
   "metadata": {
    "collapsed": false
   },
   "outputs": [],
   "source": [
    "# export final data\n",
    "if not os.path.exists('data/citi_docks2/'):\n",
    "    os.makedirs('data/citi_docks2/')\n",
    "    \n",
    "df.to_file('data/citi_docks2/citi_docks2.shp')"
   ]
  }
 ],
 "metadata": {
  "kernelspec": {
   "display_name": "PUI2016_Python2",
   "language": "python",
   "name": "pui2016_python2"
  },
  "language_info": {
   "codemirror_mode": {
    "name": "ipython",
    "version": 2
   },
   "file_extension": ".py",
   "mimetype": "text/x-python",
   "name": "python",
   "nbconvert_exporter": "python",
   "pygments_lexer": "ipython2",
   "version": "2.7.12"
  }
 },
 "nbformat": 4,
 "nbformat_minor": 0
}
