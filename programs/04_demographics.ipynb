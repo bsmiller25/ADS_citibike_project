{
 "cells": [
  {
   "cell_type": "code",
   "execution_count": 1,
   "metadata": {
    "collapsed": false
   },
   "outputs": [],
   "source": [
    "import numpy as np\n",
    "import pandas as pd\n",
    "import geopandas as gp\n",
    "import subprocess\n",
    "import os\n",
    "from osgeo import ogr\n",
    "\n",
    "# make sure we are at the top of the repo\n",
    "wd = subprocess.check_output('git rev-parse --show-toplevel', shell = True)\n",
    "os.chdir(wd[:-1]) #-1 removes \\n"
   ]
  },
  {
   "cell_type": "code",
   "execution_count": 2,
   "metadata": {
    "collapsed": false
   },
   "outputs": [],
   "source": [
    "# load datafrom geodatabase\n",
    "driver = ogr.GetDriverByName(\"OpenFileGDB\")\n",
    "ds = driver.Open(r\"./data/2011_ACS_5YR_BG_36_NEW_YORK.gdb/\", 0)\n",
    "\n",
    "layer = ds.GetLayer(\"ACS_11_5YR_BG_36_NEW_YORK\")"
   ]
  },
  {
   "cell_type": "code",
   "execution_count": 3,
   "metadata": {
    "collapsed": false
   },
   "outputs": [],
   "source": [
    "# bring into dataframe\n",
    "# http://www2.census.gov/geo/docs/maps-data/data/tiger/prejoined/ACSMetadata2011.txt\n",
    "\n",
    "demolist = [[feature.GetField('GEOID'), # geoid\n",
    "             feature.GetField('B01001e1'), # total_population\n",
    "             feature.GetField('B08301e18'), # MEANS OF TRANSPORTATION TO WORK:  Bicycle \n",
    "             feature.GetField('B08303e1'), # travel time to work\n",
    "             feature.GetField('B19301e1'), # per capita income\n",
    "             feature.GetField('B25044e10'), # TENURE BY VEHICLES AVAILABLE: Renter occupied:  No vehicle available\n",
    "             feature.GetField('B25044e3') # TENURE BY VEHICLES AVAILABLE: Owner occupied:  No vehicle available\n",
    "            ] for feature in layer ]\n",
    "demo = pd.DataFrame(demolist)\n",
    "demo.columns = ['geoid',\n",
    "                'pop',\n",
    "                'bike',\n",
    "                'commute_time',\n",
    "                'income_pc',\n",
    "                'no_vehicle_rent',\n",
    "                'no_vehicle_own']"
   ]
  },
  {
   "cell_type": "code",
   "execution_count": 4,
   "metadata": {
    "collapsed": false
   },
   "outputs": [],
   "source": [
    "# write to csv\n",
    "demo.to_csv('data/demo.csv', index = False)"
   ]
  }
 ],
 "metadata": {
  "kernelspec": {
   "display_name": "PUI2016_Python2",
   "language": "python",
   "name": "pui2016_python2"
  },
  "language_info": {
   "codemirror_mode": {
    "name": "ipython",
    "version": 2
   },
   "file_extension": ".py",
   "mimetype": "text/x-python",
   "name": "python",
   "nbconvert_exporter": "python",
   "pygments_lexer": "ipython2",
   "version": "2.7.12"
  }
 },
 "nbformat": 4,
 "nbformat_minor": 0
}
