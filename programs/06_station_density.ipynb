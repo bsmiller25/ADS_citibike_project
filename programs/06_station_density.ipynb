{
 "cells": [
  {
   "cell_type": "code",
   "execution_count": 1,
   "metadata": {
    "collapsed": true
   },
   "outputs": [],
   "source": [
    "import numpy as np\n",
    "import pandas as pd\n",
    "import geopandas as gp\n",
    "import os\n",
    "import subprocess\n",
    "import shapely as shp\n",
    "from datetime import datetime\n",
    "\n",
    "# make sure we are at the top of the repo\n",
    "wd = subprocess.check_output('git rev-parse --show-toplevel', shell = True)\n",
    "os.chdir(wd[:-1]) #-1 removes \\n"
   ]
  },
  {
   "cell_type": "code",
   "execution_count": 2,
   "metadata": {
    "collapsed": false
   },
   "outputs": [],
   "source": [
    "# read in data\n",
    "\n",
    "df = gp.read_file('data/citi_docks2/citi_docks2.shp')"
   ]
  },
  {
   "cell_type": "code",
   "execution_count": 3,
   "metadata": {
    "collapsed": false
   },
   "outputs": [
    {
     "name": "stdout",
     "output_type": "stream",
     "text": [
      "% 100.\n"
     ]
    }
   ],
   "source": [
    "# how dense are citibike stations? near = within a quarter mile\n",
    "a = []\n",
    "df['citi_ct'] = 0\n",
    "for i in range(len(df)):\n",
    "    # includes stations not in Manhattan, return 0 for CB. \n",
    "    try: \n",
    "        a.append(len(df[df.geometry.intersects(df.iloc[i].geometry.buffer(2 * 5280))]))\n",
    "    except: \n",
    "        a.append(0)\n",
    "    print '\\r',\"%\",str((i+1)*100./len(df))[:4],\n",
    "df['citi_ct'] = a\n",
    "df = df.reindex()"
   ]
  },
  {
   "cell_type": "code",
   "execution_count": 4,
   "metadata": {
    "collapsed": false
   },
   "outputs": [],
   "source": [
    "# export final data\n",
    "if not os.path.exists('data/citi_density/'):\n",
    "    os.makedirs('data/citi_density/')\n",
    "    \n",
    "df.to_file('data/citi_density/citi_density.shp')"
   ]
  },
  {
   "cell_type": "code",
   "execution_count": 5,
   "metadata": {
    "collapsed": false
   },
   "outputs": [
    {
     "name": "stdout",
     "output_type": "stream",
     "text": [
      "Populating the interactive namespace from numpy and matplotlib\n"
     ]
    },
    {
     "name": "stderr",
     "output_type": "stream",
     "text": [
      "/opt/rh/anaconda/root/envs/PUI2016_Python2/lib/python2.7/site-packages/IPython/core/magics/pylab.py:161: UserWarning: pylab import has clobbered these variables: ['pylab', 'datetime']\n",
      "`%matplotlib` prevents importing * from pylab and numpy\n",
      "  \"\\n`%matplotlib` prevents importing * from pylab and numpy\"\n"
     ]
    },
    {
     "data": {
      "text/plain": [
       "(array([  4.,  14.,  14.,  29.,  35.,  29.,  30.,  37.,  56.,  70.]),\n",
       " array([  42. ,   59.4,   76.8,   94.2,  111.6,  129. ,  146.4,  163.8,\n",
       "         181.2,  198.6,  216. ]),\n",
       " <a list of 10 Patch objects>)"
      ]
     },
     "execution_count": 5,
     "metadata": {},
     "output_type": "execute_result"
    },
    {
     "data": {
      "image/png": "[encoded data removed]",
      "text/plain": [
       "<matplotlib.figure.Figure at 0x7f48c44b9b10>"
      ]
     },
     "metadata": {},
     "output_type": "display_data"
    }
   ],
   "source": [
    "import pylab\n",
    "%pylab inline\n",
    "\n",
    "hist(df.citi_ct)"
   ]
  }
 ],
 "metadata": {
  "kernelspec": {
   "display_name": "PUI2016_Python2",
   "language": "python",
   "name": "pui2016_python2"
  },
  "language_info": {
   "codemirror_mode": {
    "name": "ipython",
    "version": 2
   },
   "file_extension": ".py",
   "mimetype": "text/x-python",
   "name": "python",
   "nbconvert_exporter": "python",
   "pygments_lexer": "ipython2",
   "version": "2.7.12"
  }
 },
 "nbformat": 4,
 "nbformat_minor": 0
}
