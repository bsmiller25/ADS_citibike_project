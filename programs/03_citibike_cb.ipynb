{
 "cells": [
  {
   "cell_type": "code",
   "execution_count": 1,
   "metadata": {
    "collapsed": true
   },
   "outputs": [],
   "source": [
    "import numpy as np\n",
    "import pandas as pd\n",
    "import geopandas as gp\n",
    "import os\n",
    "import subprocess\n",
    "import shapely as shp\n",
    "\n",
    "from itertools import compress\n",
    "\n",
    "# make sure we are at the top of the repo\n",
    "wd = subprocess.check_output('git rev-parse --show-toplevel', shell = True)\n",
    "os.chdir(wd[:-1]) #-1 removes \\n"
   ]
  },
  {
   "cell_type": "code",
   "execution_count": 2,
   "metadata": {
    "collapsed": false
   },
   "outputs": [
    {
     "name": "stderr",
     "output_type": "stream",
     "text": [
      "/opt/rh/anaconda/root/envs/PUI2016_Python2/lib/python2.7/site-packages/ipykernel/__main__.py:11: SettingWithCopyWarning: \n",
      "A value is trying to be set on a copy of a slice from a DataFrame.\n",
      "Try using .loc[row_indexer,col_indexer] = value instead\n",
      "\n",
      "See the caveats in the documentation: http://pandas.pydata.org/pandas-docs/stable/indexing.html#indexing-view-versus-copy\n"
     ]
    }
   ],
   "source": [
    "# read in nyc census block shapefiles\n",
    "nycshp = gp.read_file('data/nycb2010_16c/nycb2010.shp')\n",
    "\n",
    "# set up cooridnate system\n",
    "nycshp = nycshp.to_crs(epsg=4326) # epsg=4326: lat/on | 26918: NAD83/UTM zone 18N | epsg=2263 is US feet\n",
    "\n",
    "# we only need manhattan \n",
    "manshp = nycshp[nycshp.BoroName == 'Manhattan']\n",
    "\n",
    "# add state code 36 and leading digits for county code 06\n",
    "manshp['BCTCB2010'] = '3606' + manshp['BCTCB2010']\n",
    "\n",
    "# keep only what we need\n",
    "manshp = manshp[['BCTCB2010','geometry']]"
   ]
  },
  {
   "cell_type": "code",
   "execution_count": 3,
   "metadata": {
    "collapsed": false
   },
   "outputs": [],
   "source": [
    "# read in 2014 citibike data\n",
    "citi = pd.DataFrame()\n",
    "for m in list(compress(os.listdir('data'), [('citibike' in i) for i in os.listdir('data')])):\n",
    "    citinew = pd.read_csv('data/'+m)\n",
    "    citi = citi.append(citinew, ignore_index = True)"
   ]
  },
  {
   "cell_type": "code",
   "execution_count": 4,
   "metadata": {
    "collapsed": false
   },
   "outputs": [
    {
     "name": "stderr",
     "output_type": "stream",
     "text": [
      "/opt/rh/anaconda/root/envs/PUI2016_Python2/lib/python2.7/site-packages/pandas/util/decorators.py:91: SettingWithCopyWarning: \n",
      "A value is trying to be set on a copy of a slice from a DataFrame\n",
      "\n",
      "See the caveats in the documentation: http://pandas.pydata.org/pandas-docs/stable/indexing.html#indexing-view-versus-copy\n",
      "  return func(*args, **kwargs)\n"
     ]
    }
   ],
   "source": [
    "# dataframe for stations    \n",
    "citi_docks = citi[['start station id','start station name','start station latitude','start station longitude']]\n",
    "citi_docks.columns = ['station_id','name','lat','lon']\n",
    "citi_docks.drop_duplicates(inplace = True)"
   ]
  },
  {
   "cell_type": "code",
   "execution_count": 5,
   "metadata": {
    "collapsed": false
   },
   "outputs": [],
   "source": [
    "# even after dropping duplicates there are some duplicated station ids. Drop them.\n",
    "dups = citi_docks[citi_docks.station_id.duplicated(keep = False)].station_id.unique()\n",
    "citi_docks = citi_docks[[i not in dups for i in citi_docks.station_id]]"
   ]
  },
  {
   "cell_type": "code",
   "execution_count": 6,
   "metadata": {
    "collapsed": false
   },
   "outputs": [],
   "source": [
    "# dataframe for rides per station\n",
    "citi_rides = citi[['start station id', 'tripduration']] # keep duration because we need a column to count with\n",
    "citi_rides.columns = ['station_id','n_rides']\n",
    "citi_rides = citi_rides.groupby('station_id').count()"
   ]
  },
  {
   "cell_type": "code",
   "execution_count": 7,
   "metadata": {
    "collapsed": false
   },
   "outputs": [],
   "source": [
    "# merge number of rides into station detail table\n",
    "citi_docks = citi_docks.merge(citi_rides, how = 'left', left_on = 'station_id', right_index = True)"
   ]
  },
  {
   "cell_type": "code",
   "execution_count": 8,
   "metadata": {
    "collapsed": false
   },
   "outputs": [
    {
     "data": {
      "text/html": [
       "<div>\n",
       "<table border=\"1\" class=\"dataframe\">\n",
       "  <thead>\n",
       "    <tr style=\"text-align: right;\">\n",
       "      <th></th>\n",
       "      <th>station_id</th>\n",
       "      <th>n_rides</th>\n",
       "      <th>geometry</th>\n",
       "    </tr>\n",
       "  </thead>\n",
       "  <tbody>\n",
       "    <tr>\n",
       "      <th>0</th>\n",
       "      <td>2009</td>\n",
       "      <td>13610</td>\n",
       "      <td>POINT (-73.99682618999999 40.71117444)</td>\n",
       "    </tr>\n",
       "    <tr>\n",
       "      <th>1</th>\n",
       "      <td>536</td>\n",
       "      <td>33802</td>\n",
       "      <td>POINT (-73.97536082000001 40.74144387)</td>\n",
       "    </tr>\n",
       "    <tr>\n",
       "      <th>2</th>\n",
       "      <td>228</td>\n",
       "      <td>21674</td>\n",
       "      <td>POINT (-73.971878855 40.7546011026)</td>\n",
       "    </tr>\n",
       "    <tr>\n",
       "      <th>4</th>\n",
       "      <td>83</td>\n",
       "      <td>9777</td>\n",
       "      <td>POINT (-73.97632328 40.68382604)</td>\n",
       "    </tr>\n",
       "    <tr>\n",
       "      <th>5</th>\n",
       "      <td>422</td>\n",
       "      <td>22385</td>\n",
       "      <td>POINT (-73.988038 40.770513)</td>\n",
       "    </tr>\n",
       "  </tbody>\n",
       "</table>\n",
       "</div>"
      ],
      "text/plain": [
       "   station_id  n_rides                                geometry\n",
       "0        2009    13610  POINT (-73.99682618999999 40.71117444)\n",
       "1         536    33802  POINT (-73.97536082000001 40.74144387)\n",
       "2         228    21674     POINT (-73.971878855 40.7546011026)\n",
       "4          83     9777        POINT (-73.97632328 40.68382604)\n",
       "5         422    22385            POINT (-73.988038 40.770513)"
      ]
     },
     "execution_count": 8,
     "metadata": {},
     "output_type": "execute_result"
    }
   ],
   "source": [
    "# combine lat and lon to one column\n",
    "citi_docks['lonlat']=zip(citi_docks.lon, citi_docks.lat)\n",
    "# Create Point Geometry for based on lonlat column\n",
    "citi_docks['geometry']=citi_docks[['lonlat']].applymap(lambda x:shp.geometry.Point(x))\n",
    "citi_docks = citi_docks[['station_id', 'n_rides', 'geometry']]\n",
    "citi_docks.head()"
   ]
  },
  {
   "cell_type": "code",
   "execution_count": 9,
   "metadata": {
    "collapsed": false
   },
   "outputs": [
    {
     "data": {
      "text/html": [
       "<div>\n",
       "<table border=\"1\" class=\"dataframe\">\n",
       "  <thead>\n",
       "    <tr style=\"text-align: right;\">\n",
       "      <th></th>\n",
       "      <th>BCTCB2010</th>\n",
       "      <th>geometry</th>\n",
       "    </tr>\n",
       "  </thead>\n",
       "  <tbody>\n",
       "    <tr>\n",
       "      <th>3120</th>\n",
       "      <td>360610005000003</td>\n",
       "      <td>(POLYGON ((-74.02020686710533 40.6848338331104...</td>\n",
       "    </tr>\n",
       "    <tr>\n",
       "      <th>3121</th>\n",
       "      <td>360610002011000</td>\n",
       "      <td>POLYGON ((-73.98511406569527 40.71378675143526...</td>\n",
       "    </tr>\n",
       "    <tr>\n",
       "      <th>3122</th>\n",
       "      <td>360610002021000</td>\n",
       "      <td>POLYGON ((-73.9799619880113 40.71397269933503,...</td>\n",
       "    </tr>\n",
       "    <tr>\n",
       "      <th>3123</th>\n",
       "      <td>360610007001000</td>\n",
       "      <td>POLYGON ((-74.00965928671496 40.70875672251924...</td>\n",
       "    </tr>\n",
       "    <tr>\n",
       "      <th>3124</th>\n",
       "      <td>360610009001000</td>\n",
       "      <td>POLYGON ((-74.00986580893488 40.70579642669662...</td>\n",
       "    </tr>\n",
       "  </tbody>\n",
       "</table>\n",
       "</div>"
      ],
      "text/plain": [
       "            BCTCB2010                                           geometry\n",
       "3120  360610005000003  (POLYGON ((-74.02020686710533 40.6848338331104...\n",
       "3121  360610002011000  POLYGON ((-73.98511406569527 40.71378675143526...\n",
       "3122  360610002021000  POLYGON ((-73.9799619880113 40.71397269933503,...\n",
       "3123  360610007001000  POLYGON ((-74.00965928671496 40.70875672251924...\n",
       "3124  360610009001000  POLYGON ((-74.00986580893488 40.70579642669662..."
      ]
     },
     "execution_count": 9,
     "metadata": {},
     "output_type": "execute_result"
    }
   ],
   "source": [
    "manshp.head()"
   ]
  },
  {
   "cell_type": "code",
   "execution_count": 10,
   "metadata": {
    "collapsed": false
   },
   "outputs": [
    {
     "name": "stdout",
     "output_type": "stream",
     "text": [
      "% 100.\n"
     ]
    }
   ],
   "source": [
    "# check for each citibike stations to see what CB they belong to\n",
    "a = []\n",
    "for i in range(len(citi_docks)):\n",
    "    # includes stations not in Manhattan, return 0 for CB. \n",
    "    try: \n",
    "        a.append(manshp[manshp.geometry.intersects(citi_docks.iloc[i].geometry)].BCTCB2010.values[0])\n",
    "    except: \n",
    "        a.append(0)\n",
    "    print '\\r',\"%\",str((i+1)*100./len(citi_docks))[:4],\n",
    "citi_docks['BCTCB2010']=a"
   ]
  },
  {
   "cell_type": "code",
   "execution_count": 11,
   "metadata": {
    "collapsed": false
   },
   "outputs": [],
   "source": [
    "# get n_rides per census block\n",
    "cb_rides = citi_docks.groupby('BCTCB2010', as_index = False).agg('sum')\n",
    "\n",
    "# drop CB 0 which is non-Manhattan rides\n",
    "cb_rides = cb_rides[cb_rides.index != 0]\n",
    "\n",
    "# keep only what we need\n",
    "cb_rides = cb_rides[['BCTCB2010', 'n_rides']]\n",
    "\n",
    "# merge back to get geometry\n",
    "cb_rides = manshp.merge(cb_rides, on = 'BCTCB2010')"
   ]
  },
  {
   "cell_type": "code",
   "execution_count": 12,
   "metadata": {
    "collapsed": false
   },
   "outputs": [],
   "source": [
    "# expore final shapefile\n",
    "if not os.path.exists('data/cb_rides/'):\n",
    "    os.makedirs('data/cb_rides/')\n",
    "    \n",
    "cb_rides.to_file('data/cb_rides/cb_rides.shp')"
   ]
  }
 ],
 "metadata": {
  "kernelspec": {
   "display_name": "PUI2016_Python2",
   "language": "python",
   "name": "pui2016_python2"
  },
  "language_info": {
   "codemirror_mode": {
    "name": "ipython",
    "version": 2
   },
   "file_extension": ".py",
   "mimetype": "text/x-python",
   "name": "python",
   "nbconvert_exporter": "python",
   "pygments_lexer": "ipython2",
   "version": "2.7.12"
  }
 },
 "nbformat": 4,
 "nbformat_minor": 0
}
