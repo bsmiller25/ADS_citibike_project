{
 "cells": [
  {
   "cell_type": "code",
   "execution_count": 1,
   "metadata": {
    "collapsed": false
   },
   "outputs": [
    {
     "name": "stdout",
     "output_type": "stream",
     "text": [
      "Populating the interactive namespace from numpy and matplotlib\n"
     ]
    }
   ],
   "source": [
    "import numpy as np\n",
    "import pandas as pd\n",
    "import geopandas as gp\n",
    "import os\n",
    "import subprocess\n",
    "\n",
    "import pylab as pl\n",
    "%pylab inline\n",
    "\n",
    "# make sure we are at the top of the repo\n",
    "wd = subprocess.check_output('git rev-parse --show-toplevel', shell = True)\n",
    "os.chdir(wd[:-1]) #-1 removes \\n"
   ]
  },
  {
   "cell_type": "markdown",
   "metadata": {},
   "source": [
    "### Set up the data"
   ]
  },
  {
   "cell_type": "code",
   "execution_count": 2,
   "metadata": {
    "collapsed": false
   },
   "outputs": [],
   "source": [
    "# read in cleaned data\n",
    "df = gp.read_file('data/cb_dist/cb_dist.shp')\n",
    "df.cb = df.cb.astype('int')\n",
    "cb_rides = pd.read_csv('data/cb_rides.csv')\n",
    "demo = pd.read_csv('data/demo.csv')"
   ]
  },
  {
   "cell_type": "code",
   "execution_count": 3,
   "metadata": {
    "collapsed": false
   },
   "outputs": [
    {
     "data": {
      "text/html": [
       "<div>\n",
       "<table border=\"1\" class=\"dataframe\">\n",
       "  <thead>\n",
       "    <tr style=\"text-align: right;\">\n",
       "      <th></th>\n",
       "      <th>cb</th>\n",
       "      <th>dist_avg</th>\n",
       "      <th>geometry</th>\n",
       "      <th>BCTCB2010</th>\n",
       "      <th>n_rides</th>\n",
       "    </tr>\n",
       "  </thead>\n",
       "  <tbody>\n",
       "    <tr>\n",
       "      <th>0</th>\n",
       "      <td>360610012001000</td>\n",
       "      <td>2.160815</td>\n",
       "      <td>POLYGON ((989107.3262329118 200969.6084105199,...</td>\n",
       "      <td>360610012001000</td>\n",
       "      <td>15325</td>\n",
       "    </tr>\n",
       "    <tr>\n",
       "      <th>1</th>\n",
       "      <td>360610014011000</td>\n",
       "      <td>2.214438</td>\n",
       "      <td>POLYGON ((987475.0164184577 200297.2178465645,...</td>\n",
       "      <td>360610014011000</td>\n",
       "      <td>18730</td>\n",
       "    </tr>\n",
       "    <tr>\n",
       "      <th>2</th>\n",
       "      <td>360610018001000</td>\n",
       "      <td>1.961016</td>\n",
       "      <td>POLYGON ((987609.9440307622 200648.1850096448,...</td>\n",
       "      <td>360610018001000</td>\n",
       "      <td>18993</td>\n",
       "    </tr>\n",
       "    <tr>\n",
       "      <th>3</th>\n",
       "      <td>360610030021000</td>\n",
       "      <td>1.796426</td>\n",
       "      <td>POLYGON ((988972.1099853517 202565.6482054396,...</td>\n",
       "      <td>360610030021000</td>\n",
       "      <td>27309</td>\n",
       "    </tr>\n",
       "    <tr>\n",
       "      <th>4</th>\n",
       "      <td>360610033001000</td>\n",
       "      <td>1.967044</td>\n",
       "      <td>POLYGON ((983346.4652099599 201729.3476073014,...</td>\n",
       "      <td>360610033001000</td>\n",
       "      <td>22545</td>\n",
       "    </tr>\n",
       "  </tbody>\n",
       "</table>\n",
       "</div>"
      ],
      "text/plain": [
       "                cb  dist_avg  \\\n",
       "0  360610012001000  2.160815   \n",
       "1  360610014011000  2.214438   \n",
       "2  360610018001000  1.961016   \n",
       "3  360610030021000  1.796426   \n",
       "4  360610033001000  1.967044   \n",
       "\n",
       "                                            geometry        BCTCB2010  n_rides  \n",
       "0  POLYGON ((989107.3262329118 200969.6084105199,...  360610012001000    15325  \n",
       "1  POLYGON ((987475.0164184577 200297.2178465645,...  360610014011000    18730  \n",
       "2  POLYGON ((987609.9440307622 200648.1850096448,...  360610018001000    18993  \n",
       "3  POLYGON ((988972.1099853517 202565.6482054396,...  360610030021000    27309  \n",
       "4  POLYGON ((983346.4652099599 201729.3476073014,...  360610033001000    22545  "
      ]
     },
     "execution_count": 3,
     "metadata": {},
     "output_type": "execute_result"
    }
   ],
   "source": [
    "# merge dataset\n",
    "df = df.merge(cb_rides, left_on = 'cb', right_on = 'BCTCB2010', )\n",
    "#df = df.merge(demo, left_on = 'cb', right_on = 'geoid')\n",
    "\n",
    "df.head()"
   ]
  },
  {
   "cell_type": "code",
   "execution_count": 4,
   "metadata": {
    "collapsed": false
   },
   "outputs": [],
   "source": [
    "# create a geoid at the census block group level\n",
    "df['geoid'] = [str(i)[0:12] for i in df.cb ]"
   ]
  },
  {
   "cell_type": "code",
   "execution_count": 5,
   "metadata": {
    "collapsed": false
   },
   "outputs": [],
   "source": [
    "# dissolve to the block group level\n",
    "df = df.dissolve(by = 'geoid', as_index = False)\n",
    "df.geoid = df.geoid.astype('int')"
   ]
  },
  {
   "cell_type": "code",
   "execution_count": 6,
   "metadata": {
    "collapsed": false
   },
   "outputs": [],
   "source": [
    "# merge in the demographics data\n",
    "df = df.merge(demo, on = 'geoid')"
   ]
  },
  {
   "cell_type": "code",
   "execution_count": 7,
   "metadata": {
    "collapsed": false
   },
   "outputs": [
    {
     "data": {
      "text/html": [
       "<div>\n",
       "<table border=\"1\" class=\"dataframe\">\n",
       "  <thead>\n",
       "    <tr style=\"text-align: right;\">\n",
       "      <th></th>\n",
       "      <th>geoid</th>\n",
       "      <th>geometry</th>\n",
       "      <th>cb</th>\n",
       "      <th>dist_avg</th>\n",
       "      <th>BCTCB2010</th>\n",
       "      <th>n_rides</th>\n",
       "      <th>pop</th>\n",
       "      <th>bike</th>\n",
       "      <th>commute_time</th>\n",
       "      <th>income_pc</th>\n",
       "      <th>no_vehicle_rent</th>\n",
       "      <th>no_vehicle_own</th>\n",
       "    </tr>\n",
       "  </thead>\n",
       "  <tbody>\n",
       "    <tr>\n",
       "      <th>0</th>\n",
       "      <td>360610002021</td>\n",
       "      <td>POLYGON ((988718.24560547 199114.4710203864, 9...</td>\n",
       "      <td>360610002021004</td>\n",
       "      <td>2.454123</td>\n",
       "      <td>360610002021004</td>\n",
       "      <td>13185</td>\n",
       "      <td>345</td>\n",
       "      <td>0</td>\n",
       "      <td>107</td>\n",
       "      <td>16017.0</td>\n",
       "      <td>89</td>\n",
       "      <td>29</td>\n",
       "    </tr>\n",
       "    <tr>\n",
       "      <th>1</th>\n",
       "      <td>360610006002</td>\n",
       "      <td>POLYGON ((987096.1130371091 198401.6248289843,...</td>\n",
       "      <td>360610006002002</td>\n",
       "      <td>1.972577</td>\n",
       "      <td>360610006002002</td>\n",
       "      <td>10520</td>\n",
       "      <td>2532</td>\n",
       "      <td>0</td>\n",
       "      <td>1001</td>\n",
       "      <td>14986.0</td>\n",
       "      <td>762</td>\n",
       "      <td>0</td>\n",
       "    </tr>\n",
       "    <tr>\n",
       "      <th>2</th>\n",
       "      <td>360610006005</td>\n",
       "      <td>POLYGON ((987737.7452392566 198484.652599982, ...</td>\n",
       "      <td>360610006005001</td>\n",
       "      <td>2.263913</td>\n",
       "      <td>360610006005001</td>\n",
       "      <td>12891</td>\n",
       "      <td>2111</td>\n",
       "      <td>0</td>\n",
       "      <td>652</td>\n",
       "      <td>11777.0</td>\n",
       "      <td>662</td>\n",
       "      <td>0</td>\n",
       "    </tr>\n",
       "    <tr>\n",
       "      <th>3</th>\n",
       "      <td>360610007001</td>\n",
       "      <td>POLYGON ((982182.0942382803 196935.6336180423,...</td>\n",
       "      <td>360610007001002</td>\n",
       "      <td>2.733163</td>\n",
       "      <td>360610007001002</td>\n",
       "      <td>17031</td>\n",
       "      <td>6294</td>\n",
       "      <td>16</td>\n",
       "      <td>4652</td>\n",
       "      <td>101041.0</td>\n",
       "      <td>2615</td>\n",
       "      <td>423</td>\n",
       "    </tr>\n",
       "    <tr>\n",
       "      <th>4</th>\n",
       "      <td>360610009001</td>\n",
       "      <td>POLYGON ((981040.2952270519 195769.9566160961,...</td>\n",
       "      <td>360610009001026</td>\n",
       "      <td>2.790164</td>\n",
       "      <td>360610009001026</td>\n",
       "      <td>10086</td>\n",
       "      <td>613</td>\n",
       "      <td>0</td>\n",
       "      <td>423</td>\n",
       "      <td>92940.0</td>\n",
       "      <td>165</td>\n",
       "      <td>19</td>\n",
       "    </tr>\n",
       "  </tbody>\n",
       "</table>\n",
       "</div>"
      ],
      "text/plain": [
       "          geoid                                           geometry  \\\n",
       "0  360610002021  POLYGON ((988718.24560547 199114.4710203864, 9...   \n",
       "1  360610006002  POLYGON ((987096.1130371091 198401.6248289843,...   \n",
       "2  360610006005  POLYGON ((987737.7452392566 198484.652599982, ...   \n",
       "3  360610007001  POLYGON ((982182.0942382803 196935.6336180423,...   \n",
       "4  360610009001  POLYGON ((981040.2952270519 195769.9566160961,...   \n",
       "\n",
       "                cb  dist_avg        BCTCB2010  n_rides   pop  bike  \\\n",
       "0  360610002021004  2.454123  360610002021004    13185   345     0   \n",
       "1  360610006002002  1.972577  360610006002002    10520  2532     0   \n",
       "2  360610006005001  2.263913  360610006005001    12891  2111     0   \n",
       "3  360610007001002  2.733163  360610007001002    17031  6294    16   \n",
       "4  360610009001026  2.790164  360610009001026    10086   613     0   \n",
       "\n",
       "   commute_time  income_pc  no_vehicle_rent  no_vehicle_own  \n",
       "0           107    16017.0               89              29  \n",
       "1          1001    14986.0              762               0  \n",
       "2           652    11777.0              662               0  \n",
       "3          4652   101041.0             2615             423  \n",
       "4           423    92940.0              165              19  "
      ]
     },
     "execution_count": 7,
     "metadata": {},
     "output_type": "execute_result"
    }
   ],
   "source": [
    "df.head()"
   ]
  },
  {
   "cell_type": "code",
   "execution_count": 8,
   "metadata": {
    "collapsed": false
   },
   "outputs": [
    {
     "data": {
      "text/html": [
       "<table class=\"simpletable\">\n",
       "<caption>OLS Regression Results</caption>\n",
       "<tr>\n",
       "  <th>Dep. Variable:</th>         <td>n_rides</td>     <th>  R-squared:         </th> <td>   0.060</td>\n",
       "</tr>\n",
       "<tr>\n",
       "  <th>Model:</th>                   <td>OLS</td>       <th>  Adj. R-squared:    </th> <td>   0.054</td>\n",
       "</tr>\n",
       "<tr>\n",
       "  <th>Method:</th>             <td>Least Squares</td>  <th>  F-statistic:       </th> <td>   9.622</td>\n",
       "</tr>\n",
       "<tr>\n",
       "  <th>Date:</th>             <td>Mon, 05 Dec 2016</td> <th>  Prob (F-statistic):</th>  <td>0.00229</td>\n",
       "</tr>\n",
       "<tr>\n",
       "  <th>Time:</th>                 <td>10:40:41</td>     <th>  Log-Likelihood:    </th> <td> -1687.4</td>\n",
       "</tr>\n",
       "<tr>\n",
       "  <th>No. Observations:</th>      <td>   153</td>      <th>  AIC:               </th> <td>   3379.</td>\n",
       "</tr>\n",
       "<tr>\n",
       "  <th>Df Residuals:</th>          <td>   151</td>      <th>  BIC:               </th> <td>   3385.</td>\n",
       "</tr>\n",
       "<tr>\n",
       "  <th>Df Model:</th>              <td>     1</td>      <th>                     </th>     <td> </td>   \n",
       "</tr>\n",
       "<tr>\n",
       "  <th>Covariance Type:</th>      <td>nonrobust</td>    <th>                     </th>     <td> </td>   \n",
       "</tr>\n",
       "</table>\n",
       "<table class=\"simpletable\">\n",
       "<tr>\n",
       "      <td></td>         <th>coef</th>     <th>std err</th>      <th>t</th>      <th>P>|t|</th> <th>[95.0% Conf. Int.]</th> \n",
       "</tr>\n",
       "<tr>\n",
       "  <th>Intercept</th> <td> 4.498e+04</td> <td> 4790.629</td> <td>    9.389</td> <td> 0.000</td> <td> 3.55e+04  5.44e+04</td>\n",
       "</tr>\n",
       "<tr>\n",
       "  <th>dist_avg</th>  <td>-8903.1417</td> <td> 2870.125</td> <td>   -3.102</td> <td> 0.002</td> <td>-1.46e+04 -3232.351</td>\n",
       "</tr>\n",
       "</table>\n",
       "<table class=\"simpletable\">\n",
       "<tr>\n",
       "  <th>Omnibus:</th>       <td>52.651</td> <th>  Durbin-Watson:     </th> <td>   1.570</td>\n",
       "</tr>\n",
       "<tr>\n",
       "  <th>Prob(Omnibus):</th> <td> 0.000</td> <th>  Jarque-Bera (JB):  </th> <td> 123.812</td>\n",
       "</tr>\n",
       "<tr>\n",
       "  <th>Skew:</th>          <td> 1.466</td> <th>  Prob(JB):          </th> <td>1.30e-27</td>\n",
       "</tr>\n",
       "<tr>\n",
       "  <th>Kurtosis:</th>      <td> 6.290</td> <th>  Cond. No.          </th> <td>    8.84</td>\n",
       "</tr>\n",
       "</table>"
      ],
      "text/plain": [
       "<class 'statsmodels.iolib.summary.Summary'>\n",
       "\"\"\"\n",
       "                            OLS Regression Results                            \n",
       "==============================================================================\n",
       "Dep. Variable:                n_rides   R-squared:                       0.060\n",
       "Model:                            OLS   Adj. R-squared:                  0.054\n",
       "Method:                 Least Squares   F-statistic:                     9.622\n",
       "Date:                Mon, 05 Dec 2016   Prob (F-statistic):            0.00229\n",
       "Time:                        10:40:41   Log-Likelihood:                -1687.4\n",
       "No. Observations:                 153   AIC:                             3379.\n",
       "Df Residuals:                     151   BIC:                             3385.\n",
       "Df Model:                           1                                         \n",
       "Covariance Type:            nonrobust                                         \n",
       "==============================================================================\n",
       "                 coef    std err          t      P>|t|      [95.0% Conf. Int.]\n",
       "------------------------------------------------------------------------------\n",
       "Intercept   4.498e+04   4790.629      9.389      0.000      3.55e+04  5.44e+04\n",
       "dist_avg   -8903.1417   2870.125     -3.102      0.002     -1.46e+04 -3232.351\n",
       "==============================================================================\n",
       "Omnibus:                       52.651   Durbin-Watson:                   1.570\n",
       "Prob(Omnibus):                  0.000   Jarque-Bera (JB):              123.812\n",
       "Skew:                           1.466   Prob(JB):                     1.30e-27\n",
       "Kurtosis:                       6.290   Cond. No.                         8.84\n",
       "==============================================================================\n",
       "\n",
       "Warnings:\n",
       "[1] Standard Errors assume that the covariance matrix of the errors is correctly specified.\n",
       "\"\"\""
      ]
     },
     "execution_count": 8,
     "metadata": {},
     "output_type": "execute_result"
    }
   ],
   "source": [
    "import statsmodels.formula.api as smf\n",
    "\n",
    "lm = smf.ols('n_rides ~ dist_avg', data = df).fit()\n",
    "\n",
    "lm.summary()"
   ]
  }
 ],
 "metadata": {
  "kernelspec": {
   "display_name": "PUI2016_Python2",
   "language": "python",
   "name": "pui2016_python2"
  },
  "language_info": {
   "codemirror_mode": {
    "name": "ipython",
    "version": 2
   },
   "file_extension": ".py",
   "mimetype": "text/x-python",
   "name": "python",
   "nbconvert_exporter": "python",
   "pygments_lexer": "ipython2",
   "version": "2.7.12"
  }
 },
 "nbformat": 4,
 "nbformat_minor": 0
}
